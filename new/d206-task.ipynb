{
 "cells": [
  {
   "cell_type": "markdown",
   "id": "7ce3f564",
   "metadata": {},
   "source": [
    "A)\n",
    "\n",
    "\n",
    "One question that could be asked as a telecommunications service provider could be:\n",
    "\n",
    "What correlation exists between churn, the Outage_sec_perweek, and MonthlyCharge?"
   ]
  },
  {
   "cell_type": "markdown",
   "id": "08681d38",
   "metadata": {},
   "source": [
    "| Name                  | Type     | Example                             |\n",
    "|-----------------------|----------|-------------------------------------|\n",
    "| CaseOrder             | int64    | 1                                   |\n",
    "| Customer_id           | object   | K409198                             |\n",
    "| Interaction           | object   | aa90260b-4141-4a24-8e36-b04ce1f4f77b|\n",
    "| City                  | object   | Point Baker                         |\n",
    "| State                 | object   | AK                                  |\n",
    "| County                | object   | Prince of Wales-Hyder               |\n",
    "| Zip                   | int64    | 99927                               |\n",
    "| Lat                   | float64  | 56.25100                            |\n",
    "| Lng                   | float64  | -133.37571                          |\n",
    "| Population            | int64    | 38                                  |\n",
    "| Area                  | object   | Urban                               |\n",
    "| Timezone              | object   | America/Sitka                       |\n",
    "| Job                   | object   | Environmental health practitioner   |\n",
    "| Children              | float64  | 1.0                                 |\n",
    "| Age                   | float64  | 68.0                                |\n",
    "| Education             | object   | Master's Degree                     |\n",
    "| Employment            | object   | Part Time                           |\n",
    "| Income                | float64  | 28561.99                            |\n",
    "| Marital               | object   | Widowed                             |\n",
    "| Gender                | object   | Male                                |\n",
    "| Churn                 | object   | No                                  |\n",
    "| Outage_sec_perweek    | float64  | 6.972566                            |\n",
    "| Email                 | int64    | 10                                  |\n",
    "| Contacts              | int64    | 0                                   |\n",
    "| Yearly_equip_failure  | int64    | 1                                   |\n",
    "| Techie                | object   | No                                  |\n",
    "| Contract              | object   | One year                            |\n",
    "| Port_modem            | object   | Yes                                 |\n",
    "| Tablet                | object   | Yes                                 |\n",
    "| InternetService       | object   | Fiber Optic                         |\n",
    "| Phone                 | object   | Yes                                 |\n",
    "| Multiple              | object   | No                                  |\n",
    "| OnlineSecurity        | object   | Yes                                 |\n",
    "| OnlineBackup          | object   | Yes                                 |\n",
    "| DeviceProtection      | object   | No                                  |\n",
    "| TechSupport           | object   | No                                  |\n",
    "| StreamingTV           | object   | No                                  |\n",
    "| StreamingMovies       | object   | Yes                                 |\n",
    "| PaperlessBilling      | object   | Yes                                 |\n",
    "| PaymentMethod         | object   | Credit Card (automatic)             |\n",
    "| Tenure                | float64  | 6.795513                            |\n",
    "| MonthlyCharge         | float64  | 171.449762                          |\n",
    "| Bandwidth_GB_Year     | float64  | 904.536110                          |\n",
    "| item1                 | int64    | 5                                   |\n",
    "| item2                 | int64    | 5                                   |\n",
    "| item3                 | int64    | 5                                   |\n",
    "| item4                 | int64    | 3                                   |\n",
    "| item5                 | int64    | 4                                   |\n",
    "| item6                 | int64    | 0                                   |\n",
    "| item7                 | int64    | 3                                   |\n",
    "| item8                 | int64    | 4                                   |\n"
   ]
  },
  {
   "cell_type": "markdown",
   "id": "a884b0be",
   "metadata": {},
   "source": [
    "<span style=\"font-weight:300;font-size:16px\">\n",
    "  \n",
    "\n",
    "\n",
    "# C)\n",
    "\n",
    "### 1)\n",
    "\n",
    "\n",
    "&emsp;&emsp;The first step I will use to assess the data quality is to identify missing values.\n",
    "In python missing values can be detected with the df.isna().sum() function and its variations such as df.iloc[5].isna().sum()\n",
    "\n",
    "\n",
    "&emsp;&emsp;The second step I will use to assess the data quality is to identify duplicates rows based on customer_id column. I will do this with the pandas library with the df.duplicated()function. Duplicate rows can also be identifed based on a subset of columns such as\n",
    "df.duplicated(subset=['Customer_id']).\n",
    "\n",
    "\n",
    "&emsp;&emsp;The third step I will use to assess the data quality is to identify outliers. I will identify outliers with frequency counts such as df['Your_Column_Name'].value_counts(), z-scores such as zscore(df[column_name]), or plot a histogram such as df['values'].hist() plt.show(). I will also plot histograms of categorical data value counts such as\n",
    "plt.bar(category_counts.index, category_counts.values) with the matplotlib library.\n",
    "  \n",
    "  \n",
    "  \n",
    "### 2)\n",
    "   \n",
    "   \n",
    "&emsp;&emsp;This is an effective approach to assess the quality of the data set because it addresses several quality metrics such as outliers, duplicates, and missingness. The python libraries and functions used are effective at working on large data sets. This approach also accounts for the characteristics of the data. Histograms, frequency counts, and the describe() function can be used on categorical data to identify outliers, while z-scores are preferred for numerical data.\n",
    " \n",
    " \n",
    "\n",
    "### 3)\n",
    "\n",
    "\n",
    "&emsp;&emsp;Python and the matplotlib, pandas, and scipy library are a good choice for data cleaning on this project. One reason is that I am familiar with python language. Another reason is that python and the associated libraries automate a lot of the statistical work. Stats.z-scores will normalize the data before taking the standard deviation and providing the z-score. Python and the related libraries also have related functions that can mitigate some of the data quality issues as well as identifying them.\n",
    "\n",
    "</span>\n",
    "\n",
    "\n"
   ]
  },
  {
   "cell_type": "code",
   "execution_count": 1,
   "id": "4d35edc8",
   "metadata": {},
   "outputs": [],
   "source": [
    "import pandas as pd\n",
    "from scipy.stats import zscore\n",
    "import matplotlib.pyplot as plt\n",
    "import seaborn as sns\n",
    "import numpy as np\n",
    "# Assuming your CSV file is named 'data.csv', adjust the file path as needed\n",
    "file_path = '/home/dj/skewl/d206/churn_raw_data.csv'\n",
    "pd.set_option('display.max_columns', None)\n",
    "# Read the data from the CSV file into a DataFrame\n",
    "df = pd.read_csv(file_path)\n"
   ]
  },
  {
   "cell_type": "code",
   "execution_count": 2,
   "id": "10c12da1",
   "metadata": {},
   "outputs": [
    {
     "name": "stdout",
     "output_type": "stream",
     "text": [
      "CaseOrder                  0\n",
      "Customer_id                0\n",
      "Interaction                0\n",
      "City                       0\n",
      "State                      0\n",
      "County                     0\n",
      "Zip                        0\n",
      "Lat                        0\n",
      "Lng                        0\n",
      "Population                 0\n",
      "Area                       0\n",
      "Timezone                   0\n",
      "Job                        0\n",
      "Children                2495\n",
      "Age                     2475\n",
      "Education                  0\n",
      "Employment                 0\n",
      "Income                  2490\n",
      "Marital                    0\n",
      "Gender                     0\n",
      "Churn                      0\n",
      "Outage_sec_perweek         0\n",
      "Email                      0\n",
      "Contacts                   0\n",
      "Yearly_equip_failure       0\n",
      "Techie                  2477\n",
      "Contract                   0\n",
      "Port_modem                 0\n",
      "Tablet                     0\n",
      "InternetService            0\n",
      "Phone                   1026\n",
      "Multiple                   0\n",
      "OnlineSecurity             0\n",
      "OnlineBackup               0\n",
      "DeviceProtection           0\n",
      "TechSupport              991\n",
      "StreamingTV                0\n",
      "StreamingMovies            0\n",
      "PaperlessBilling           0\n",
      "PaymentMethod              0\n",
      "Tenure                   931\n",
      "MonthlyCharge              0\n",
      "Bandwidth_GB_Year       1021\n",
      "item1                      0\n",
      "item2                      0\n",
      "item3                      0\n",
      "item4                      0\n",
      "item5                      0\n",
      "item6                      0\n",
      "item7                      0\n",
      "item8                      0\n",
      "dtype: int64\n"
     ]
    }
   ],
   "source": [
    "# drop index column\n",
    "df = df.loc[:, ~df.columns.str.contains('Unnamed')]\n",
    "# Identify missing values using isna() method\n",
    "missing_values = df.isna().sum()\n",
    "# Print DataFrame with True for missing values and False for non-missing values\n",
    "print(missing_values)\n",
    "\n",
    "# found lots of missing values here!"
   ]
  },
  {
   "cell_type": "code",
   "execution_count": 3,
   "id": "a609c707",
   "metadata": {},
   "outputs": [
    {
     "name": "stdout",
     "output_type": "stream",
     "text": [
      "0\n"
     ]
    }
   ],
   "source": [
    "# Find duplicate rows \n",
    "duplicate_rows = df.duplicated([\"Customer_id\", \"Interaction\"]).sum()\n",
    "\n",
    "# Print duplicate rows   # found NO duplicate rows here!\n",
    "print(duplicate_rows)\n"
   ]
  },
  {
   "cell_type": "code",
   "execution_count": 4,
   "id": "4ce360f2",
   "metadata": {},
   "outputs": [],
   "source": [
    "#function to list outliers by Z-score\n",
    "\n",
    "def get_outliers_z(col_name):\n",
    "    df['zscore'] = stats.zscore(df['Population'])\n",
    "    outliers = df.query('zscore > 3 | zscore < -3')\n",
    "    print(outliers)\n",
    "    del df[col_name]\n"
   ]
  },
  {
   "cell_type": "code",
   "execution_count": 5,
   "id": "775ef4ea",
   "metadata": {},
   "outputs": [],
   "source": [
    "#function to list outliers by interquartile range\n",
    "\n",
    "def get_iqr_outliers(col_name):\n",
    "    # calculate IQR for column Height\n",
    "    Q1 = df[col_name].quantile(0.25)\n",
    "    Q3 = df[col_name].quantile(0.75)\n",
    "    IQR = Q3 - Q1\n",
    "\n",
    "    # identify outliers\n",
    "    threshold = 1.5\n",
    "    outliers = df[(df[col_name] < Q1 - threshold * IQR) | (df[col_name] > Q3 + threshold * IQR)]\n",
    "    print(f\"outliers = len(outliers)\")\n"
   ]
  },
  {
   "cell_type": "code",
   "execution_count": 9,
   "id": "04d26ceb",
   "metadata": {},
   "outputs": [],
   "source": [
    "#function to plot histogram\n",
    "def plot_hist(col_name, num_bins, do_rotate=False):\n",
    "    plt.hist(df[col_name], bins=num_bins)\n",
    "    plt.xlabel(col_name)\n",
    "    plt.ylabel('Frequency')\n",
    "    plt.title(f'Histogram of {col_name}')\n",
    "    if do_rotate:\n",
    "        plt.xticks(rotation=90)\n",
    "    plt.show()\n"
   ]
  },
  {
   "cell_type": "code",
   "execution_count": 7,
   "id": "fefdd39d",
   "metadata": {},
   "outputs": [],
   "source": [
    "#function to print description of column\n",
    "def print_desc(col_name):\n",
    "    print(df[col_name].describe())"
   ]
  },
  {
   "cell_type": "code",
   "execution_count": 30,
   "id": "41469012",
   "metadata": {},
   "outputs": [
    {
     "data": {
      "image/png": "[encoded data removed]",
      "text/plain": [
       "<Figure size 432x288 with 1 Axes>"
      ]
     },
     "metadata": {
      "needs_background": "light"
     },
     "output_type": "display_data"
    },
    {
     "name": "stdout",
     "output_type": "stream",
     "text": [
      "count       10000\n",
      "unique       6058\n",
      "top       Houston\n",
      "freq           34\n",
      "Name: City, dtype: object\n"
     ]
    }
   ],
   "source": [
    "#show histogram of city , no outliers\n",
    "plot_hist(\"City\",20)\n",
    "print_desc(\"City\")"
   ]
  },
  {
   "cell_type": "code",
   "execution_count": 13,
   "id": "12931a46",
   "metadata": {},
   "outputs": [
    {
     "name": "stdout",
     "output_type": "stream",
     "text": [
      "count     10000\n",
      "unique       52\n",
      "top          TX\n",
      "freq        603\n",
      "Name: State, dtype: object\n"
     ]
    }
   ],
   "source": [
    "#looks good\n",
    "print_desc(\"State\")"
   ]
  },
  {
   "cell_type": "code",
   "execution_count": 14,
   "id": "0fc92d0f",
   "metadata": {},
   "outputs": [
    {
     "name": "stdout",
     "output_type": "stream",
     "text": [
      "count    10000.00000\n",
      "mean      5000.50000\n",
      "std       2886.89568\n",
      "min          1.00000\n",
      "25%       2500.75000\n",
      "50%       5000.50000\n",
      "75%       7500.25000\n",
      "max      10000.00000\n",
      "Name: CaseOrder, dtype: float64\n"
     ]
    }
   ],
   "source": [
    "#no issues here\n",
    "print_desc(\"CaseOrder\")"
   ]
  },
  {
   "cell_type": "code",
   "execution_count": 15,
   "id": "455cf981",
   "metadata": {},
   "outputs": [
    {
     "name": "stdout",
     "output_type": "stream",
     "text": [
      "count     10000\n",
      "unique       52\n",
      "top          TX\n",
      "freq        603\n",
      "Name: State, dtype: object\n"
     ]
    }
   ],
   "source": [
    "#no issues here\n",
    "print_desc(\"State\")"
   ]
  },
  {
   "cell_type": "code",
   "execution_count": 16,
   "id": "c87fff98",
   "metadata": {},
   "outputs": [
    {
     "name": "stdout",
     "output_type": "stream",
     "text": [
      "count                                    10000\n",
      "unique                                   10000\n",
      "top       aa90260b-4141-4a24-8e36-b04ce1f4f77b\n",
      "freq                                         1\n",
      "Name: Interaction, dtype: object\n"
     ]
    }
   ],
   "source": [
    "#no issues here\n",
    "print_desc(\"Interaction\")"
   ]
  },
  {
   "cell_type": "code",
   "execution_count": 17,
   "id": "45d06554",
   "metadata": {},
   "outputs": [
    {
     "name": "stdout",
     "output_type": "stream",
     "text": [
      "count       10000\n",
      "unique      10000\n",
      "top       K409198\n",
      "freq            1\n",
      "Name: Customer_id, dtype: object\n"
     ]
    }
   ],
   "source": [
    "#no issues\n",
    "print_desc(\"Customer_id\")"
   ]
  },
  {
   "cell_type": "code",
   "execution_count": 18,
   "id": "aa70ded5",
   "metadata": {},
   "outputs": [
    {
     "name": "stdout",
     "output_type": "stream",
     "text": [
      "count          10000\n",
      "unique          1620\n",
      "top       Washington\n",
      "freq             111\n",
      "Name: County, dtype: object\n"
     ]
    }
   ],
   "source": [
    "#no issues\n",
    "print_desc(\"County\")"
   ]
  },
  {
   "cell_type": "code",
   "execution_count": 19,
   "id": "332a2929",
   "metadata": {},
   "outputs": [
    {
     "name": "stdout",
     "output_type": "stream",
     "text": [
      "count    10000.000000\n",
      "mean     49153.319600\n",
      "std      27532.196108\n",
      "min        601.000000\n",
      "25%      26292.500000\n",
      "50%      48869.500000\n",
      "75%      71866.500000\n",
      "max      99929.000000\n",
      "Name: Zip, dtype: float64\n"
     ]
    }
   ],
   "source": [
    "# there's a problem here because this should be an int. Note the min value!\n",
    "print_desc(\"Zip\")"
   ]
  },
  {
   "cell_type": "code",
   "execution_count": 20,
   "id": "d78fb7e7",
   "metadata": {
    "scrolled": true
   },
   "outputs": [
    {
     "name": "stdout",
     "output_type": "stream",
     "text": [
      "count    10000.000000\n",
      "mean        38.757567\n",
      "std          5.437389\n",
      "min         17.966120\n",
      "25%         35.341828\n",
      "50%         39.395800\n",
      "75%         42.106908\n",
      "max         70.640660\n",
      "Name: Lat, dtype: float64\n"
     ]
    }
   ],
   "source": [
    "#looks good\n",
    "print_desc(\"Lat\")"
   ]
  },
  {
   "cell_type": "code",
   "execution_count": 21,
   "id": "097b8e04",
   "metadata": {},
   "outputs": [
    {
     "name": "stdout",
     "output_type": "stream",
     "text": [
      "count    10000.000000\n",
      "mean       -90.782536\n",
      "std         15.156142\n",
      "min       -171.688150\n",
      "25%        -97.082812\n",
      "50%        -87.918800\n",
      "75%        -80.088745\n",
      "max        -65.667850\n",
      "Name: Lng, dtype: float64\n"
     ]
    }
   ],
   "source": [
    "#looks good\n",
    "print_desc(\"Lng\")"
   ]
  },
  {
   "cell_type": "code",
   "execution_count": 22,
   "id": "5af6f2cb",
   "metadata": {
    "scrolled": true
   },
   "outputs": [
    {
     "name": "stdout",
     "output_type": "stream",
     "text": [
      "count     10000.000000\n",
      "mean       9756.562400\n",
      "std       14432.698671\n",
      "min           0.000000\n",
      "25%         738.000000\n",
      "50%        2910.500000\n",
      "75%       13168.000000\n",
      "max      111850.000000\n",
      "Name: Population, dtype: float64\n"
     ]
    },
    {
     "data": {
      "image/png": "[encoded data removed]",
      "text/plain": [
       "<Figure size 432x288 with 1 Axes>"
      ]
     },
     "metadata": {
      "needs_background": "light"
     },
     "output_type": "display_data"
    }
   ],
   "source": [
    "\n",
    "#this could be bad data. There is 6000 places with 0 population according to census.\n",
    "\n",
    "print_desc(\"Population\")\n",
    "plot_hist(\"Population\",20)"
   ]
  },
  {
   "cell_type": "code",
   "execution_count": 23,
   "id": "d26ee5ac",
   "metadata": {
    "scrolled": true
   },
   "outputs": [
    {
     "name": "stdout",
     "output_type": "stream",
     "text": [
      "count        10000\n",
      "unique           3\n",
      "top       Suburban\n",
      "freq          3346\n",
      "Name: Area, dtype: object\n"
     ]
    },
    {
     "data": {
      "image/png": "[encoded data removed]",
      "text/plain": [
       "<Figure size 432x288 with 1 Axes>"
      ]
     },
     "metadata": {
      "needs_background": "light"
     },
     "output_type": "display_data"
    }
   ],
   "source": [
    "#looks good. Equal distribution.\n",
    "print_desc(\"Area\")\n",
    "plot_hist(\"Area\",5)"
   ]
  },
  {
   "cell_type": "code",
   "execution_count": 24,
   "id": "4f574e62",
   "metadata": {},
   "outputs": [
    {
     "name": "stdout",
     "output_type": "stream",
     "text": [
      "count                10000\n",
      "unique                  25\n",
      "top       America/New_York\n",
      "freq                  4072\n",
      "Name: Timezone, dtype: object\n"
     ]
    },
    {
     "data": {
      "text/plain": [
       "America/New_York                  4072\n",
       "America/Chicago                   3672\n",
       "America/Los_Angeles                887\n",
       "America/Denver                     552\n",
       "America/Detroit                    265\n",
       "America/Indiana/Indianapolis       186\n",
       "America/Phoenix                    104\n",
       "America/Boise                       57\n",
       "America/Anchorage                   55\n",
       "America/Puerto_Rico                 40\n",
       "Pacific/Honolulu                    35\n",
       "America/Menominee                   16\n",
       "America/Nome                        12\n",
       "America/Kentucky/Louisville         10\n",
       "America/Sitka                        8\n",
       "America/Indiana/Vincennes            6\n",
       "America/Indiana/Tell_City            6\n",
       "America/Toronto                      5\n",
       "America/Indiana/Petersburg           4\n",
       "America/Juneau                       2\n",
       "America/North_Dakota/New_Salem       2\n",
       "America/Indiana/Knox                 1\n",
       "America/Indiana/Winamac              1\n",
       "America/Indiana/Marengo              1\n",
       "America/Ojinaga                      1\n",
       "Name: Timezone, dtype: int64"
      ]
     },
     "execution_count": 24,
     "metadata": {},
     "output_type": "execute_result"
    }
   ],
   "source": [
    "# something wrong. There should only be 24 timezones!\n",
    "print_desc(\"Timezone\")\n",
    "df[\"Timezone\"].value_counts()"
   ]
  },
  {
   "cell_type": "code",
   "execution_count": 25,
   "id": "6a864ba2",
   "metadata": {},
   "outputs": [
    {
     "name": "stdout",
     "output_type": "stream",
     "text": [
      "count                         10000\n",
      "unique                          639\n",
      "top       Occupational psychologist\n",
      "freq                             30\n",
      "Name: Job, dtype: object\n"
     ]
    }
   ],
   "source": [
    "#looks good\n",
    "print_desc(\"Job\")"
   ]
  },
  {
   "cell_type": "code",
   "execution_count": 26,
   "id": "b315f8de",
   "metadata": {},
   "outputs": [
    {
     "name": "stdout",
     "output_type": "stream",
     "text": [
      "count    10000.000000\n",
      "mean         1.573000\n",
      "std          2.075356\n",
      "min          0.000000\n",
      "25%          0.000000\n",
      "50%          1.000000\n",
      "75%          3.000000\n",
      "max         10.000000\n",
      "Name: Children, dtype: float64\n"
     ]
    },
    {
     "data": {
      "image/png": "[encoded data removed]",
      "text/plain": [
       "<Figure size 432x288 with 1 Axes>"
      ]
     },
     "metadata": {
      "needs_background": "light"
     },
     "output_type": "display_data"
    }
   ],
   "source": [
    "#values look ok after adjusting missing values with 0\n",
    "df['Children'] = df['Children'].fillna(0)\n",
    "print_desc(\"Children\")\n",
    "plot_hist(\"Children\",20)"
   ]
  },
  {
   "cell_type": "code",
   "execution_count": 27,
   "id": "0c985c1f",
   "metadata": {},
   "outputs": [
    {
     "name": "stdout",
     "output_type": "stream",
     "text": [
      "count    10000.000000\n",
      "mean        53.275748\n",
      "std         18.003063\n",
      "min         18.000000\n",
      "25%         41.000000\n",
      "50%         53.275748\n",
      "75%         65.000000\n",
      "max         89.000000\n",
      "Name: Age, dtype: float64\n"
     ]
    },
    {
     "data": {
      "image/png": "[encoded data removed]",
      "text/plain": [
       "<Figure size 432x288 with 1 Axes>"
      ]
     },
     "metadata": {
      "needs_background": "light"
     },
     "output_type": "display_data"
    }
   ],
   "source": [
    "#values look same after adjusting missing values with mean value. A lot of people around 50.\n",
    "df['Age'] = df['Age'].fillna(df['Age'].mean())\n",
    "print_desc(\"Age\")\n",
    "plot_hist(\"Age\",20)"
   ]
  },
  {
   "cell_type": "code",
   "execution_count": 28,
   "id": "b08a8bd0",
   "metadata": {},
   "outputs": [
    {
     "name": "stdout",
     "output_type": "stream",
     "text": [
      "count                           10000\n",
      "unique                             12\n",
      "top       Regular High School Diploma\n",
      "freq                             2421\n",
      "Name: Education, dtype: object\n"
     ]
    },
    {
     "data": {
      "image/png": "[encoded data removed]",
      "text/plain": [
       "<Figure size 432x288 with 1 Axes>"
      ]
     },
     "metadata": {
      "needs_background": "light"
     },
     "output_type": "display_data"
    }
   ],
   "source": [
    "print_desc(\"Education\")\n",
    "plot_hist(\"Education\",15,True)"
   ]
  },
  {
   "cell_type": "code",
   "execution_count": 38,
   "id": "4e3b1704",
   "metadata": {},
   "outputs": [
    {
     "name": "stdout",
     "output_type": "stream",
     "text": [
      "count         10000\n",
      "unique            5\n",
      "top       Full Time\n",
      "freq           5992\n",
      "Name: Employment, dtype: object\n"
     ]
    },
    {
     "data": {
      "image/png": "[encoded data removed]",
      "text/plain": [
       "<Figure size 432x288 with 1 Axes>"
      ]
     },
     "metadata": {
      "needs_background": "light"
     },
     "output_type": "display_data"
    }
   ],
   "source": [
    "print_desc(\"Employment\")\n",
    "plot_hist(\"Employment\",10)"
   ]
  },
  {
   "cell_type": "code",
   "execution_count": null,
   "id": "feb32bbf",
   "metadata": {},
   "outputs": [],
   "source": []
  },
  {
   "cell_type": "code",
   "execution_count": null,
   "id": "eae3dc9d",
   "metadata": {},
   "outputs": [],
   "source": []
  },
  {
   "cell_type": "markdown",
   "id": "2287830c",
   "metadata": {},
   "source": [
    "# Clean UP STEPS"
   ]
  },
  {
   "cell_type": "code",
   "execution_count": null,
   "id": "41eda61e",
   "metadata": {},
   "outputs": [],
   "source": []
  },
  {
   "cell_type": "code",
   "execution_count": null,
   "id": "52ae192f",
   "metadata": {},
   "outputs": [],
   "source": [
    "#replace missing values in children with 0\n",
    "#df['Children'] = df['Children'].fillna(0)\n"
   ]
  },
  {
   "cell_type": "code",
   "execution_count": null,
   "id": "ccfe3b72",
   "metadata": {},
   "outputs": [],
   "source": [
    "# change data type to int because children are whole numbers\n",
    "#df['Children'] = df['Children'].astype(int)\n"
   ]
  },
  {
   "cell_type": "code",
   "execution_count": null,
   "id": "5880fc1e",
   "metadata": {},
   "outputs": [],
   "source": [
    "#replace missing values and convert to int\n",
    "#df['Age'] = df['Age'].fillna(0)\n",
    "#df['Age'] = df['Age'].astype(int)"
   ]
  },
  {
   "cell_type": "code",
   "execution_count": null,
   "id": "e057e55d",
   "metadata": {},
   "outputs": [],
   "source": [
    "#replace missing values\n",
    "#df['Income'] = df['Income'].fillna(0)\n"
   ]
  },
  {
   "cell_type": "code",
   "execution_count": null,
   "id": "f2bc9e35",
   "metadata": {},
   "outputs": [],
   "source": [
    "#replace missing values\n",
    "#df['Techie'] = df['Techie'].fillna(\"No\")"
   ]
  },
  {
   "cell_type": "code",
   "execution_count": null,
   "id": "f2a74ad2",
   "metadata": {},
   "outputs": [],
   "source": [
    "#df['Phone'] = df['Phone'].fillna(\"No\")"
   ]
  }
 ],
 "metadata": {
  "kernelspec": {
   "display_name": "Python 3 (ipykernel)",
   "language": "python",
   "name": "python3"
  },
  "language_info": {
   "codemirror_mode": {
    "name": "ipython",
    "version": 3
   },
   "file_extension": ".py",
   "mimetype": "text/x-python",
   "name": "python",
   "nbconvert_exporter": "python",
   "pygments_lexer": "ipython3",
   "version": "3.10.12"
  }
 },
 "nbformat": 4,
 "nbformat_minor": 5
}
