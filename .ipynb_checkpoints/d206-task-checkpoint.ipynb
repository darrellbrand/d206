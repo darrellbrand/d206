{
 "cells": [
  {
   "cell_type": "markdown",
   "id": "7ce3f564",
   "metadata": {},
   "source": [
    "A)\n",
    "\n",
    "\n",
    "One question that could be asked as a telecommunications service provider could be:\n",
    "\n",
    "Does the Outage_sec_perweek, and MonthlyCharge have a negative effect on churn?"
   ]
  },
  {
   "cell_type": "markdown",
   "id": "08681d38",
   "metadata": {},
   "source": [
    "B)\n",
    "\n",
    "\n",
    "\n",
    "| Name                  | Type     | Example                             |\n",
    "|-----------------------|----------|-------------------------------------|\n",
    "| CaseOrder             | int64    | 1                                   |\n",
    "| Customer_id           | object   | K409198                             |\n",
    "| Interaction           | object   | aa90260b-4141-4a24-8e36-b04ce1f4f77b|\n",
    "| City                  | object   | Point Baker                         |\n",
    "| State                 | object   | AK                                  |\n",
    "| County                | object   | Prince of Wales-Hyder               |\n",
    "| Zip                   | int64    | 99927                               |\n",
    "| Lat                   | float64  | 56.25100                            |\n",
    "| Lng                   | float64  | -133.37571                          |\n",
    "| Population            | int64    | 38                                  |\n",
    "| Area                  | object   | Urban                               |\n",
    "| Timezone              | object   | America/Sitka                       |\n",
    "| Job                   | object   | Environmental health practitioner   |\n",
    "| Children              | float64  | 1.0                                 |\n",
    "| Age                   | float64  | 68.0                                |\n",
    "| Education             | object   | Master's Degree                     |\n",
    "| Employment            | object   | Part Time                           |\n",
    "| Income                | float64  | 28561.99                            |\n",
    "| Marital               | object   | Widowed                             |\n",
    "| Gender                | object   | Male                                |\n",
    "| Churn                 | object   | No                                  |\n",
    "| Outage_sec_perweek    | float64  | 6.972566                            |\n",
    "| Email                 | int64    | 10                                  |\n",
    "| Contacts              | int64    | 0                                   |\n",
    "| Yearly_equip_failure  | int64    | 1                                   |\n",
    "| Techie                | object   | No                                  |\n",
    "| Contract              | object   | One year                            |\n",
    "| Port_modem            | object   | Yes                                 |\n",
    "| Tablet                | object   | Yes                                 |\n",
    "| InternetService       | object   | Fiber Optic                         |\n",
    "| Phone                 | object   | Yes                                 |\n",
    "| Multiple              | object   | No                                  |\n",
    "| OnlineSecurity        | object   | Yes                                 |\n",
    "| OnlineBackup          | object   | Yes                                 |\n",
    "| DeviceProtection      | object   | No                                  |\n",
    "| TechSupport           | object   | No                                  |\n",
    "| StreamingTV           | object   | No                                  |\n",
    "| StreamingMovies       | object   | Yes                                 |\n",
    "| PaperlessBilling      | object   | Yes                                 |\n",
    "| PaymentMethod         | object   | Credit Card (automatic)             |\n",
    "| Tenure                | float64  | 6.795513                            |\n",
    "| MonthlyCharge         | float64  | 171.449762                          |\n",
    "| Bandwidth_GB_Year     | float64  | 904.536110                          |\n",
    "| item1                 | int64    | 5                                   |\n",
    "| item2                 | int64    | 5                                   |\n",
    "| item3                 | int64    | 5                                   |\n",
    "| item4                 | int64    | 3                                   |\n",
    "| item5                 | int64    | 4                                   |\n",
    "| item6                 | int64    | 0                                   |\n",
    "| item7                 | int64    | 3                                   |\n",
    "| item8                 | int64    | 4                                   |\n"
   ]
  },
  {
   "cell_type": "markdown",
   "id": "a884b0be",
   "metadata": {},
   "source": [
    "<span style=\"font-weight:300;font-size:16px\">\n",
    "  \n",
    "\n",
    "\n",
    "# C)\n",
    "\n",
    "### 1)\n",
    "\n",
    "\n",
    "&emsp;&emsp;The first step I will use to assess the data quality is to identify missing values.\n",
    "In python missing values can be detected with the df.isna().sum() function and its variations such as df.iloc[5].isna().sum()\n",
    "\n",
    "\n",
    "&emsp;&emsp;The second step I will use to assess the data quality is to identify duplicates rows based on customer_id column. I will do this with the pandas library with the df.duplicated()function. Duplicate rows can also be identifed based on a subset of columns such as\n",
    "df.duplicated(subset=['Customer_id']).\n",
    "\n",
    "\n",
    "&emsp;&emsp;The third step I will use to assess the data quality is to identify outliers. I will use the python describe() function first to check if further analysis is needed. I will identify outliers with frequency counts such as df['Your_Column_Name'].value_counts(), z-scores such as zscore(df[column_name]), or plot a histogram such as df['values'].hist() plt.show() with the matplotlib library.\n",
    "  \n",
    "  \n",
    "  \n",
    "### 2)\n",
    "   \n",
    "   \n",
    "&emsp;&emsp;This is an effective approach to assess the quality of the data set because it addresses several quality metrics such as outliers, duplicates, and missingness. The python libraries and functions used are effective at working on large data sets. This approach also accounts for the characteristics of the data. Histograms, frequency counts, and the describe() function can be used on categorical data to identify outliers, while z-scores are preferred for numerical data.\n",
    " \n",
    " \n",
    "\n",
    "### 3)\n",
    "\n",
    "\n",
    "&emsp;&emsp;Python and the matplotlib, pandas, and scipy library are a good choice for data cleaning on this project. One reason is that I am familiar with python language. Another reason is that python and the associated libraries automate a lot of the statistical work. Stats.z-scores will return the z-scores of the data in one step so you don't have to do each step manually to calculate the z-score for each data point. Python and the associated libraries also have related functions that can mitigate some of the data quality issues as well as identifying them.\n",
    "\n",
    "</span>\n",
    "\n",
    "\n"
   ]
  },
  {
   "cell_type": "code",
   "execution_count": 1,
   "id": "4d35edc8",
   "metadata": {},
   "outputs": [],
   "source": [
    "import pandas as pd\n",
    "from scipy.stats import zscore\n",
    "import matplotlib.pyplot as plt\n",
    "import seaborn as sns\n",
    "import numpy as np\n",
    "# Assuming your CSV file is named 'data.csv', adjust the file path as needed\n",
    "file_path = '/home/dj/skewl/d206/churn_raw_data.csv'\n",
    "pd.set_option('display.max_columns', None)\n",
    "# Read the data from the CSV file into a DataFrame\n",
    "df = pd.read_csv(file_path)\n",
    "#drop index column\n",
    "df = df.loc[:, ~df.columns.str.contains('Unnamed')]"
   ]
  },
  {
   "cell_type": "markdown",
   "id": "69bf9bf1",
   "metadata": {},
   "source": [
    "# DETECTION STEPS"
   ]
  },
  {
   "cell_type": "code",
   "execution_count": 2,
   "id": "10c12da1",
   "metadata": {},
   "outputs": [
    {
     "name": "stdout",
     "output_type": "stream",
     "text": [
      "CaseOrder                  0\n",
      "Customer_id                0\n",
      "Interaction                0\n",
      "City                       0\n",
      "State                      0\n",
      "County                     0\n",
      "Zip                        0\n",
      "Lat                        0\n",
      "Lng                        0\n",
      "Population                 0\n",
      "Area                       0\n",
      "Timezone                   0\n",
      "Job                        0\n",
      "Children                2495\n",
      "Age                     2475\n",
      "Education                  0\n",
      "Employment                 0\n",
      "Income                  2490\n",
      "Marital                    0\n",
      "Gender                     0\n",
      "Churn                      0\n",
      "Outage_sec_perweek         0\n",
      "Email                      0\n",
      "Contacts                   0\n",
      "Yearly_equip_failure       0\n",
      "Techie                  2477\n",
      "Contract                   0\n",
      "Port_modem                 0\n",
      "Tablet                     0\n",
      "InternetService            0\n",
      "Phone                   1026\n",
      "Multiple                   0\n",
      "OnlineSecurity             0\n",
      "OnlineBackup               0\n",
      "DeviceProtection           0\n",
      "TechSupport              991\n",
      "StreamingTV                0\n",
      "StreamingMovies            0\n",
      "PaperlessBilling           0\n",
      "PaymentMethod              0\n",
      "Tenure                   931\n",
      "MonthlyCharge              0\n",
      "Bandwidth_GB_Year       1021\n",
      "item1                      0\n",
      "item2                      0\n",
      "item3                      0\n",
      "item4                      0\n",
      "item5                      0\n",
      "item6                      0\n",
      "item7                      0\n",
      "item8                      0\n",
      "dtype: int64\n"
     ]
    }
   ],
   "source": [
    "\n",
    "# Identify missing values using isna() method\n",
    "missing_values = df.isna().sum()\n",
    "# Print DataFrame with True for missing values and False for non-missing values\n",
    "print(missing_values)\n",
    "\n",
    "# found lots of missing values here!"
   ]
  },
  {
   "cell_type": "code",
   "execution_count": 3,
   "id": "82e41823",
   "metadata": {},
   "outputs": [],
   "source": [
    "#function to reset data\n",
    "def reset_data():\n",
    "    import pandas as pd\n",
    "    file_path = '/home/dj/skewl/d206/churn_raw_data.csv'\n",
    "    pd.set_option('display.max_columns', None)\n",
    "    # Read the data from the CSV file into a DataFrame\n",
    "    global df\n",
    "    df = pd.read_csv(file_path)\n",
    "    df = df.loc[:, ~df.columns.str.contains('Unnamed')]"
   ]
  },
  {
   "cell_type": "code",
   "execution_count": 4,
   "id": "a609c707",
   "metadata": {},
   "outputs": [
    {
     "name": "stdout",
     "output_type": "stream",
     "text": [
      "0\n"
     ]
    }
   ],
   "source": [
    "# Find duplicate rows \n",
    "duplicate_rows = df.duplicated([\"Customer_id\"]).sum()\n",
    "\n",
    "# Print duplicate rows   # found NO duplicate rows here!\n",
    "print(duplicate_rows)\n"
   ]
  },
  {
   "cell_type": "code",
   "execution_count": 5,
   "id": "4ce360f2",
   "metadata": {},
   "outputs": [],
   "source": [
    "#function to list outliers by Z-score\n",
    "\n",
    "def get_outliers_z(col_name):\n",
    "    \n",
    "    df['zscore'] = zscore(df[col_name])\n",
    "    outliers = df.query('zscore > 3 | zscore < -3')\n",
    "    print(f\"number of outliers= {len(outliers)}\")\n",
    "    print(f\"\\n Z-score of outliers= \\n{outliers['zscore']}\")\n",
    "    del df['zscore']\n"
   ]
  },
  {
   "cell_type": "code",
   "execution_count": 6,
   "id": "775ef4ea",
   "metadata": {},
   "outputs": [],
   "source": [
    "#function to list outliers by interquartile range\n",
    "\n",
    "def get_iqr_outliers(col_name):\n",
    "    # calculate IQR for column Height\n",
    "    Q1 = df[col_name].quantile(0.25)\n",
    "    Q3 = df[col_name].quantile(0.75)\n",
    "    IQR = Q3 - Q1\n",
    "\n",
    "    # identify outliers\n",
    "    threshold = 1.5\n",
    "    outliers = df[(df[col_name] < Q1 - threshold * IQR) | (df[col_name] > Q3 + threshold * IQR)]\n",
    "    print(f\"outliers = {len(outliers)}\")\n"
   ]
  },
  {
   "cell_type": "code",
   "execution_count": 7,
   "id": "04d26ceb",
   "metadata": {},
   "outputs": [],
   "source": [
    "#function to plot histogram\n",
    "def plot_hist(col_name, num_bins, do_rotate=False):\n",
    "    plt.hist(df[col_name], bins=num_bins)\n",
    "    plt.xlabel(col_name)\n",
    "    plt.ylabel('Frequency')\n",
    "    plt.title(f'Histogram of {col_name}')\n",
    "    if do_rotate:\n",
    "        plt.xticks(rotation=90)\n",
    "    plt.show()\n"
   ]
  },
  {
   "cell_type": "code",
   "execution_count": 8,
   "id": "16bc6a2f",
   "metadata": {},
   "outputs": [],
   "source": [
    "# print row count that matches a value\n",
    "def row_count_by_value(value):\n",
    "    \n",
    "    value_to_match = value\n",
    "    row_count_matching_value = (df == value_to_match).sum()\n",
    "    print(row_count_matching_value)"
   ]
  },
  {
   "cell_type": "code",
   "execution_count": 9,
   "id": "538c7c70",
   "metadata": {},
   "outputs": [],
   "source": [
    "def print_counts(col_name):\n",
    "    print(df[col_name].value_counts())"
   ]
  },
  {
   "cell_type": "code",
   "execution_count": 10,
   "id": "fefdd39d",
   "metadata": {},
   "outputs": [],
   "source": [
    "#function to print missing values\n",
    "def print_desc(col_name):\n",
    "    print(df[col_name].describe())\n",
    "    print(f\"missing values= {df[col_name].isna().sum()}\")"
   ]
  },
  {
   "cell_type": "code",
   "execution_count": 11,
   "id": "41469012",
   "metadata": {},
   "outputs": [
    {
     "data": {
      "image/png": "[encoded data removed]",
      "text/plain": [
       "<Figure size 432x288 with 1 Axes>"
      ]
     },
     "metadata": {
      "needs_background": "light"
     },
     "output_type": "display_data"
    },
    {
     "name": "stdout",
     "output_type": "stream",
     "text": [
      "count       10000\n",
      "unique       6058\n",
      "top       Houston\n",
      "freq           34\n",
      "Name: City, dtype: object\n",
      "missing values= 0\n"
     ]
    }
   ],
   "source": [
    "#looks good\n",
    "plot_hist(\"City\",20)\n",
    "print_desc(\"City\")"
   ]
  },
  {
   "cell_type": "code",
   "execution_count": 12,
   "id": "4b4213c8",
   "metadata": {},
   "outputs": [
    {
     "name": "stdout",
     "output_type": "stream",
     "text": [
      "count     10000\n",
      "unique       52\n",
      "top          TX\n",
      "freq        603\n",
      "Name: State, dtype: object\n",
      "missing values= 0\n"
     ]
    }
   ],
   "source": [
    "#looks good\n",
    "print_desc(\"State\")"
   ]
  },
  {
   "cell_type": "code",
   "execution_count": 13,
   "id": "45d83f83",
   "metadata": {},
   "outputs": [
    {
     "name": "stdout",
     "output_type": "stream",
     "text": [
      "count    10000.00000\n",
      "mean      5000.50000\n",
      "std       2886.89568\n",
      "min          1.00000\n",
      "25%       2500.75000\n",
      "50%       5000.50000\n",
      "75%       7500.25000\n",
      "max      10000.00000\n",
      "Name: CaseOrder, dtype: float64\n",
      "missing values= 0\n"
     ]
    }
   ],
   "source": [
    "#no issues here\n",
    "print_desc(\"CaseOrder\")"
   ]
  },
  {
   "cell_type": "code",
   "execution_count": 14,
   "id": "87a5d281",
   "metadata": {},
   "outputs": [
    {
     "name": "stdout",
     "output_type": "stream",
     "text": [
      "count     10000\n",
      "unique       52\n",
      "top          TX\n",
      "freq        603\n",
      "Name: State, dtype: object\n",
      "missing values= 0\n"
     ]
    }
   ],
   "source": [
    "#no issues here\n",
    "print_desc(\"State\")"
   ]
  },
  {
   "cell_type": "code",
   "execution_count": 15,
   "id": "9476d7d4",
   "metadata": {},
   "outputs": [
    {
     "name": "stdout",
     "output_type": "stream",
     "text": [
      "count                                    10000\n",
      "unique                                   10000\n",
      "top       aa90260b-4141-4a24-8e36-b04ce1f4f77b\n",
      "freq                                         1\n",
      "Name: Interaction, dtype: object\n",
      "missing values= 0\n"
     ]
    }
   ],
   "source": [
    "#no issues here\n",
    "print_desc(\"Interaction\")"
   ]
  },
  {
   "cell_type": "code",
   "execution_count": 16,
   "id": "3d100029",
   "metadata": {},
   "outputs": [
    {
     "name": "stdout",
     "output_type": "stream",
     "text": [
      "count       10000\n",
      "unique      10000\n",
      "top       K409198\n",
      "freq            1\n",
      "Name: Customer_id, dtype: object\n",
      "missing values= 0\n"
     ]
    }
   ],
   "source": [
    "#no issues\n",
    "print_desc(\"Customer_id\")"
   ]
  },
  {
   "cell_type": "code",
   "execution_count": 17,
   "id": "ecbed6ef",
   "metadata": {},
   "outputs": [
    {
     "name": "stdout",
     "output_type": "stream",
     "text": [
      "count          10000\n",
      "unique          1620\n",
      "top       Washington\n",
      "freq             111\n",
      "Name: County, dtype: object\n",
      "missing values= 0\n"
     ]
    }
   ],
   "source": [
    "#no issues\n",
    "print_desc(\"County\")"
   ]
  },
  {
   "cell_type": "code",
   "execution_count": 18,
   "id": "3ec9fe2f",
   "metadata": {},
   "outputs": [
    {
     "name": "stdout",
     "output_type": "stream",
     "text": [
      "count    10000.000000\n",
      "mean     49153.319600\n",
      "std      27532.196108\n",
      "min        601.000000\n",
      "25%      26292.500000\n",
      "50%      48869.500000\n",
      "75%      71866.500000\n",
      "max      99929.000000\n",
      "Name: Zip, dtype: float64\n",
      "missing values= 0\n"
     ]
    }
   ],
   "source": [
    "# there's a problem here because this should be an int. Note the min value!\n",
    "print_desc(\"Zip\")"
   ]
  },
  {
   "cell_type": "code",
   "execution_count": 19,
   "id": "6ef7f892",
   "metadata": {
    "scrolled": true
   },
   "outputs": [
    {
     "name": "stdout",
     "output_type": "stream",
     "text": [
      "count    10000.000000\n",
      "mean        38.757567\n",
      "std          5.437389\n",
      "min         17.966120\n",
      "25%         35.341828\n",
      "50%         39.395800\n",
      "75%         42.106908\n",
      "max         70.640660\n",
      "Name: Lat, dtype: float64\n",
      "missing values= 0\n"
     ]
    }
   ],
   "source": [
    "#looks good\n",
    "print_desc(\"Lat\")"
   ]
  },
  {
   "cell_type": "code",
   "execution_count": 20,
   "id": "98d27f57",
   "metadata": {},
   "outputs": [
    {
     "name": "stdout",
     "output_type": "stream",
     "text": [
      "count    10000.000000\n",
      "mean       -90.782536\n",
      "std         15.156142\n",
      "min       -171.688150\n",
      "25%        -97.082812\n",
      "50%        -87.918800\n",
      "75%        -80.088745\n",
      "max        -65.667850\n",
      "Name: Lng, dtype: float64\n",
      "missing values= 0\n"
     ]
    }
   ],
   "source": [
    "#looks good\n",
    "print_desc(\"Lng\")"
   ]
  },
  {
   "cell_type": "code",
   "execution_count": 21,
   "id": "26777647",
   "metadata": {
    "scrolled": true
   },
   "outputs": [
    {
     "name": "stdout",
     "output_type": "stream",
     "text": [
      "count     10000.000000\n",
      "mean       9756.562400\n",
      "std       14432.698671\n",
      "min           0.000000\n",
      "25%         738.000000\n",
      "50%        2910.500000\n",
      "75%       13168.000000\n",
      "max      111850.000000\n",
      "Name: Population, dtype: float64\n",
      "missing values= 0\n"
     ]
    },
    {
     "data": {
      "image/png": "[encoded data removed]",
      "text/plain": [
       "<Figure size 432x288 with 1 Axes>"
      ]
     },
     "metadata": {
      "needs_background": "light"
     },
     "output_type": "display_data"
    }
   ],
   "source": [
    "\n",
    "#this could be bad data. There is 6000 places with 0 population according to census.\n",
    "#change this to int\n",
    "\n",
    "print_desc(\"Population\")\n",
    "plot_hist(\"Population\",20)"
   ]
  },
  {
   "cell_type": "code",
   "execution_count": 22,
   "id": "f4acf1fa",
   "metadata": {
    "scrolled": true
   },
   "outputs": [
    {
     "name": "stdout",
     "output_type": "stream",
     "text": [
      "count        10000\n",
      "unique           3\n",
      "top       Suburban\n",
      "freq          3346\n",
      "Name: Area, dtype: object\n",
      "missing values= 0\n"
     ]
    },
    {
     "data": {
      "image/png": "[encoded data removed]",
      "text/plain": [
       "<Figure size 432x288 with 1 Axes>"
      ]
     },
     "metadata": {
      "needs_background": "light"
     },
     "output_type": "display_data"
    }
   ],
   "source": [
    "#looks good. Equal distribution.\n",
    "print_desc(\"Area\")\n",
    "plot_hist(\"Area\",5)"
   ]
  },
  {
   "cell_type": "code",
   "execution_count": 23,
   "id": "14ce7e68",
   "metadata": {},
   "outputs": [
    {
     "name": "stdout",
     "output_type": "stream",
     "text": [
      "count                10000\n",
      "unique                  25\n",
      "top       America/New_York\n",
      "freq                  4072\n",
      "Name: Timezone, dtype: object\n",
      "missing values= 0\n"
     ]
    },
    {
     "data": {
      "text/plain": [
       "America/New_York                  4072\n",
       "America/Chicago                   3672\n",
       "America/Los_Angeles                887\n",
       "America/Denver                     552\n",
       "America/Detroit                    265\n",
       "America/Indiana/Indianapolis       186\n",
       "America/Phoenix                    104\n",
       "America/Boise                       57\n",
       "America/Anchorage                   55\n",
       "America/Puerto_Rico                 40\n",
       "Pacific/Honolulu                    35\n",
       "America/Menominee                   16\n",
       "America/Nome                        12\n",
       "America/Kentucky/Louisville         10\n",
       "America/Sitka                        8\n",
       "America/Indiana/Vincennes            6\n",
       "America/Indiana/Tell_City            6\n",
       "America/Toronto                      5\n",
       "America/Indiana/Petersburg           4\n",
       "America/Juneau                       2\n",
       "America/North_Dakota/New_Salem       2\n",
       "America/Indiana/Knox                 1\n",
       "America/Indiana/Winamac              1\n",
       "America/Indiana/Marengo              1\n",
       "America/Ojinaga                      1\n",
       "Name: Timezone, dtype: int64"
      ]
     },
     "execution_count": 23,
     "metadata": {},
     "output_type": "execute_result"
    }
   ],
   "source": [
    "# something wrong. There should only be 24 timezones!\n",
    "print_desc(\"Timezone\")\n",
    "df[\"Timezone\"].value_counts()"
   ]
  },
  {
   "cell_type": "code",
   "execution_count": 24,
   "id": "aadadda4",
   "metadata": {},
   "outputs": [
    {
     "name": "stdout",
     "output_type": "stream",
     "text": [
      "count                         10000\n",
      "unique                          639\n",
      "top       Occupational psychologist\n",
      "freq                             30\n",
      "Name: Job, dtype: object\n",
      "missing values= 0\n"
     ]
    }
   ],
   "source": [
    "#looks good\n",
    "print_desc(\"Job\")"
   ]
  },
  {
   "cell_type": "code",
   "execution_count": 25,
   "id": "0e464af1",
   "metadata": {},
   "outputs": [
    {
     "name": "stdout",
     "output_type": "stream",
     "text": [
      "count    7505.000000\n",
      "mean        2.095936\n",
      "std         2.154758\n",
      "min         0.000000\n",
      "25%         0.000000\n",
      "50%         1.000000\n",
      "75%         3.000000\n",
      "max        10.000000\n",
      "Name: Children, dtype: float64\n",
      "missing values= 2495\n"
     ]
    },
    {
     "data": {
      "image/png": "[encoded data removed]",
      "text/plain": [
       "<Figure size 432x288 with 1 Axes>"
      ]
     },
     "metadata": {
      "needs_background": "light"
     },
     "output_type": "display_data"
    }
   ],
   "source": [
    "#lots of missing values change to int and impute\n",
    "print_desc(\"Children\")\n",
    "plot_hist(\"Children\",20)"
   ]
  },
  {
   "cell_type": "code",
   "execution_count": 26,
   "id": "c1e00cd8",
   "metadata": {},
   "outputs": [
    {
     "name": "stdout",
     "output_type": "stream",
     "text": [
      "count    7525.000000\n",
      "mean       53.275748\n",
      "std        20.753928\n",
      "min        18.000000\n",
      "25%        35.000000\n",
      "50%        53.000000\n",
      "75%        71.000000\n",
      "max        89.000000\n",
      "Name: Age, dtype: float64\n",
      "missing values= 2475\n"
     ]
    },
    {
     "data": {
      "image/png": "[encoded data removed]",
      "text/plain": [
       "<Figure size 432x288 with 1 Axes>"
      ]
     },
     "metadata": {
      "needs_background": "light"
     },
     "output_type": "display_data"
    }
   ],
   "source": [
    "#lots of missing values change to int and impute.\n",
    "print_desc(\"Age\")\n",
    "plot_hist(\"Age\",100)"
   ]
  },
  {
   "cell_type": "code",
   "execution_count": 27,
   "id": "9588da2d",
   "metadata": {},
   "outputs": [
    {
     "name": "stdout",
     "output_type": "stream",
     "text": [
      "count                           10000\n",
      "unique                             12\n",
      "top       Regular High School Diploma\n",
      "freq                             2421\n",
      "Name: Education, dtype: object\n",
      "missing values= 0\n"
     ]
    },
    {
     "data": {
      "image/png": "[encoded data removed]",
      "text/plain": [
       "<Figure size 432x288 with 1 Axes>"
      ]
     },
     "metadata": {
      "needs_background": "light"
     },
     "output_type": "display_data"
    }
   ],
   "source": [
    "#looks good\n",
    "print_desc(\"Education\")\n",
    "plot_hist(\"Education\",30,True)"
   ]
  },
  {
   "cell_type": "code",
   "execution_count": 28,
   "id": "61a447ac",
   "metadata": {
    "scrolled": true
   },
   "outputs": [
    {
     "name": "stdout",
     "output_type": "stream",
     "text": [
      "count         10000\n",
      "unique            5\n",
      "top       Full Time\n",
      "freq           5992\n",
      "Name: Employment, dtype: object\n",
      "missing values= 0\n"
     ]
    },
    {
     "data": {
      "image/png": "[encoded data removed]",
      "text/plain": [
       "<Figure size 432x288 with 1 Axes>"
      ]
     },
     "metadata": {
      "needs_background": "light"
     },
     "output_type": "display_data"
    }
   ],
   "source": [
    "#looks good\n",
    "print_desc(\"Employment\")\n",
    "plot_hist(\"Employment\",10)"
   ]
  },
  {
   "cell_type": "code",
   "execution_count": 29,
   "id": "32ed62b4",
   "metadata": {
    "scrolled": true
   },
   "outputs": [
    {
     "name": "stdout",
     "output_type": "stream",
     "text": [
      "count      7510.000000\n",
      "mean      39936.762226\n",
      "std       28358.469482\n",
      "min         740.660000\n",
      "25%       19285.522500\n",
      "50%       33186.785000\n",
      "75%       53472.395000\n",
      "max      258900.700000\n",
      "Name: Income, dtype: float64\n",
      "missing values= 2490\n"
     ]
    },
    {
     "data": {
      "image/png": "[encoded data removed]",
      "text/plain": [
       "<Figure size 432x288 with 1 Axes>"
      ]
     },
     "metadata": {
      "needs_background": "light"
     },
     "output_type": "display_data"
    }
   ],
   "source": [
    "#this is bad data because there is so many missing values.\n",
    "print_desc(\"Income\")\n",
    "plot_hist(\"Income\",50)"
   ]
  },
  {
   "cell_type": "code",
   "execution_count": 30,
   "id": "753bc385",
   "metadata": {},
   "outputs": [
    {
     "name": "stdout",
     "output_type": "stream",
     "text": [
      "count        10000\n",
      "unique           5\n",
      "top       Divorced\n",
      "freq          2092\n",
      "Name: Marital, dtype: object\n",
      "missing values= 0\n",
      "Divorced         2092\n",
      "Widowed          2027\n",
      "Separated        2014\n",
      "Never Married    1956\n",
      "Married          1911\n",
      "Name: Marital, dtype: int64\n"
     ]
    }
   ],
   "source": [
    "#looks good\n",
    "print_desc(\"Marital\")\n",
    "print_counts(\"Marital\")"
   ]
  },
  {
   "cell_type": "code",
   "execution_count": 31,
   "id": "88440caa",
   "metadata": {},
   "outputs": [
    {
     "name": "stdout",
     "output_type": "stream",
     "text": [
      "count      10000\n",
      "unique         3\n",
      "top       Female\n",
      "freq        5025\n",
      "Name: Gender, dtype: object\n",
      "missing values= 0\n",
      "Female                  5025\n",
      "Male                    4744\n",
      "Prefer not to answer     231\n",
      "Name: Gender, dtype: int64\n"
     ]
    }
   ],
   "source": [
    "#looks good\n",
    "print_desc(\"Gender\")\n",
    "print_counts(\"Gender\")"
   ]
  },
  {
   "cell_type": "code",
   "execution_count": 32,
   "id": "ced742e0",
   "metadata": {},
   "outputs": [
    {
     "name": "stdout",
     "output_type": "stream",
     "text": [
      "count     10000\n",
      "unique        2\n",
      "top          No\n",
      "freq       7350\n",
      "Name: Churn, dtype: object\n",
      "missing values= 0\n",
      "No     7350\n",
      "Yes    2650\n",
      "Name: Churn, dtype: int64\n"
     ]
    }
   ],
   "source": [
    "#looks good\n",
    "print_desc(\"Churn\")\n",
    "print_counts(\"Churn\")"
   ]
  },
  {
   "cell_type": "code",
   "execution_count": 33,
   "id": "69e4ea22",
   "metadata": {},
   "outputs": [
    {
     "name": "stdout",
     "output_type": "stream",
     "text": [
      "count    10000.000000\n",
      "mean        11.452955\n",
      "std          7.025921\n",
      "min         -1.348571\n",
      "25%          8.054362\n",
      "50%         10.202896\n",
      "75%         12.487644\n",
      "max         47.049280\n",
      "Name: Outage_sec_perweek, dtype: float64\n",
      "missing values= 0\n"
     ]
    },
    {
     "data": {
      "image/png": "[encoded data removed]",
      "text/plain": [
       "<Figure size 432x288 with 1 Axes>"
      ]
     },
     "metadata": {
      "needs_background": "light"
     },
     "output_type": "display_data"
    },
    {
     "name": "stdout",
     "output_type": "stream",
     "text": [
      "number of outliers= 491\n",
      "\n",
      " Z-score of outliers= \n",
      "28      4.622272\n",
      "36      4.735879\n",
      "40      3.907495\n",
      "61      4.046782\n",
      "130     4.020157\n",
      "          ...   \n",
      "9894    4.703786\n",
      "9895    4.160788\n",
      "9907    3.853321\n",
      "9945    3.968939\n",
      "9950    4.201985\n",
      "Name: zscore, Length: 491, dtype: float64\n"
     ]
    }
   ],
   "source": [
    "#need to drop the rows with negative values\n",
    "print_desc(\"Outage_sec_perweek\")\n",
    "plot_hist(\"Outage_sec_perweek\",50)\n",
    "get_outliers_z(\"Outage_sec_perweek\")"
   ]
  },
  {
   "cell_type": "code",
   "execution_count": 34,
   "id": "df5effc2",
   "metadata": {},
   "outputs": [
    {
     "name": "stdout",
     "output_type": "stream",
     "text": [
      "count    10000.000000\n",
      "mean        12.016000\n",
      "std          3.025898\n",
      "min          1.000000\n",
      "25%         10.000000\n",
      "50%         12.000000\n",
      "75%         14.000000\n",
      "max         23.000000\n",
      "Name: Email, dtype: float64\n",
      "missing values= 0\n"
     ]
    }
   ],
   "source": [
    "#looks good\n",
    "print_desc(\"Email\")"
   ]
  },
  {
   "cell_type": "code",
   "execution_count": 35,
   "id": "cb84414d",
   "metadata": {},
   "outputs": [
    {
     "name": "stdout",
     "output_type": "stream",
     "text": [
      "count    10000.000000\n",
      "mean         0.994200\n",
      "std          0.988466\n",
      "min          0.000000\n",
      "25%          0.000000\n",
      "50%          1.000000\n",
      "75%          2.000000\n",
      "max          7.000000\n",
      "Name: Contacts, dtype: float64\n",
      "missing values= 0\n"
     ]
    }
   ],
   "source": [
    "#looks good but change this to int!\n",
    "print_desc(\"Contacts\")"
   ]
  },
  {
   "cell_type": "code",
   "execution_count": 36,
   "id": "db337097",
   "metadata": {},
   "outputs": [
    {
     "name": "stdout",
     "output_type": "stream",
     "text": [
      "count    10000.000000\n",
      "mean         0.398000\n",
      "std          0.635953\n",
      "min          0.000000\n",
      "25%          0.000000\n",
      "50%          0.000000\n",
      "75%          1.000000\n",
      "max          6.000000\n",
      "Name: Yearly_equip_failure, dtype: float64\n",
      "missing values= 0\n"
     ]
    }
   ],
   "source": [
    "#looks good but change this to Int!\n",
    "print_desc(\"Yearly_equip_failure\")"
   ]
  },
  {
   "cell_type": "code",
   "execution_count": 37,
   "id": "44974714",
   "metadata": {},
   "outputs": [
    {
     "name": "stdout",
     "output_type": "stream",
     "text": [
      "count     7523\n",
      "unique       2\n",
      "top         No\n",
      "freq      6266\n",
      "Name: Techie, dtype: object\n",
      "missing values= 2477\n"
     ]
    }
   ],
   "source": [
    "#lots of missing values. Need to impute\n",
    "print_desc(\"Techie\")"
   ]
  },
  {
   "cell_type": "code",
   "execution_count": 38,
   "id": "cf6383c0",
   "metadata": {},
   "outputs": [
    {
     "name": "stdout",
     "output_type": "stream",
     "text": [
      "count              10000\n",
      "unique                 3\n",
      "top       Month-to-month\n",
      "freq                5456\n",
      "Name: Contract, dtype: object\n",
      "missing values= 0\n",
      "Month-to-month    5456\n",
      "Two Year          2442\n",
      "One year          2102\n",
      "Name: Contract, dtype: int64\n"
     ]
    }
   ],
   "source": [
    "#looks good\n",
    "print_desc(\"Contract\")\n",
    "print_counts(\"Contract\")"
   ]
  },
  {
   "cell_type": "code",
   "execution_count": 39,
   "id": "3f227c0b",
   "metadata": {},
   "outputs": [
    {
     "name": "stdout",
     "output_type": "stream",
     "text": [
      "count     10000\n",
      "unique        2\n",
      "top          No\n",
      "freq       5166\n",
      "Name: Port_modem, dtype: object\n",
      "missing values= 0\n"
     ]
    }
   ],
   "source": [
    "#looks good\n",
    "print_desc(\"Port_modem\")"
   ]
  },
  {
   "cell_type": "code",
   "execution_count": 40,
   "id": "f3d7d0b6",
   "metadata": {},
   "outputs": [
    {
     "name": "stdout",
     "output_type": "stream",
     "text": [
      "count     10000\n",
      "unique        2\n",
      "top          No\n",
      "freq       7009\n",
      "Name: Tablet, dtype: object\n",
      "missing values= 0\n"
     ]
    }
   ],
   "source": [
    "#looks good\n",
    "print_desc(\"Tablet\")"
   ]
  },
  {
   "cell_type": "code",
   "execution_count": 41,
   "id": "b83e547a",
   "metadata": {},
   "outputs": [
    {
     "name": "stdout",
     "output_type": "stream",
     "text": [
      "count           10000\n",
      "unique              3\n",
      "top       Fiber Optic\n",
      "freq             4408\n",
      "Name: InternetService, dtype: object\n",
      "missing values= 0\n",
      "Fiber Optic    4408\n",
      "DSL            3463\n",
      "None           2129\n",
      "Name: InternetService, dtype: int64\n"
     ]
    }
   ],
   "source": [
    "#looks good\n",
    "print_desc(\"InternetService\")\n",
    "print_counts(\"InternetService\")"
   ]
  },
  {
   "cell_type": "code",
   "execution_count": 42,
   "id": "fe1dd8da",
   "metadata": {},
   "outputs": [
    {
     "name": "stdout",
     "output_type": "stream",
     "text": [
      "count     8974\n",
      "unique       2\n",
      "top        Yes\n",
      "freq      8128\n",
      "Name: Phone, dtype: object\n",
      "missing values= 1026\n",
      "Yes    8128\n",
      "No      846\n",
      "Name: Phone, dtype: int64\n"
     ]
    }
   ],
   "source": [
    "#missing a lot of values\n",
    "print_desc(\"Phone\")\n",
    "print_counts(\"Phone\")"
   ]
  },
  {
   "cell_type": "code",
   "execution_count": 43,
   "id": "6dee8355",
   "metadata": {},
   "outputs": [
    {
     "name": "stdout",
     "output_type": "stream",
     "text": [
      "count     10000\n",
      "unique        2\n",
      "top          No\n",
      "freq       5392\n",
      "Name: Multiple, dtype: object\n",
      "missing values= 0\n",
      "No     5392\n",
      "Yes    4608\n",
      "Name: Multiple, dtype: int64\n"
     ]
    }
   ],
   "source": [
    "#looks good\n",
    "print_desc(\"Multiple\")\n",
    "print_counts(\"Multiple\")"
   ]
  },
  {
   "cell_type": "code",
   "execution_count": 44,
   "id": "715a81c6",
   "metadata": {},
   "outputs": [
    {
     "name": "stdout",
     "output_type": "stream",
     "text": [
      "count     10000\n",
      "unique        2\n",
      "top          No\n",
      "freq       6424\n",
      "Name: OnlineSecurity, dtype: object\n",
      "missing values= 0\n",
      "No     6424\n",
      "Yes    3576\n",
      "Name: OnlineSecurity, dtype: int64\n"
     ]
    }
   ],
   "source": [
    "#looks good\n",
    "print_desc(\"OnlineSecurity\")\n",
    "print_counts(\"OnlineSecurity\")"
   ]
  },
  {
   "cell_type": "code",
   "execution_count": 45,
   "id": "b8b9f7d9",
   "metadata": {},
   "outputs": [
    {
     "name": "stdout",
     "output_type": "stream",
     "text": [
      "count     10000\n",
      "unique        2\n",
      "top          No\n",
      "freq       5614\n",
      "Name: DeviceProtection, dtype: object\n",
      "missing values= 0\n",
      "No     5614\n",
      "Yes    4386\n",
      "Name: DeviceProtection, dtype: int64\n"
     ]
    }
   ],
   "source": [
    "#looks good\n",
    "print_desc(\"DeviceProtection\")\n",
    "print_counts(\"DeviceProtection\")"
   ]
  },
  {
   "cell_type": "code",
   "execution_count": 46,
   "id": "feec314d",
   "metadata": {},
   "outputs": [
    {
     "name": "stdout",
     "output_type": "stream",
     "text": [
      "count     9009\n",
      "unique       2\n",
      "top         No\n",
      "freq      5635\n",
      "Name: TechSupport, dtype: object\n",
      "missing values= 991\n",
      "No     5635\n",
      "Yes    3374\n",
      "Name: TechSupport, dtype: int64\n"
     ]
    }
   ],
   "source": [
    "#lots of missing values here\n",
    "print_desc(\"TechSupport\")\n",
    "print_counts(\"TechSupport\")"
   ]
  },
  {
   "cell_type": "code",
   "execution_count": 47,
   "id": "10ffe239",
   "metadata": {},
   "outputs": [
    {
     "name": "stdout",
     "output_type": "stream",
     "text": [
      "count     10000\n",
      "unique        2\n",
      "top          No\n",
      "freq       5071\n",
      "Name: StreamingTV, dtype: object\n",
      "missing values= 0\n",
      "No     5071\n",
      "Yes    4929\n",
      "Name: StreamingTV, dtype: int64\n"
     ]
    }
   ],
   "source": [
    "#looks good\n",
    "print_desc(\"StreamingTV\")\n",
    "print_counts(\"StreamingTV\")"
   ]
  },
  {
   "cell_type": "code",
   "execution_count": 48,
   "id": "026ace3b",
   "metadata": {},
   "outputs": [
    {
     "name": "stdout",
     "output_type": "stream",
     "text": [
      "count     10000\n",
      "unique        2\n",
      "top          No\n",
      "freq       5110\n",
      "Name: StreamingMovies, dtype: object\n",
      "missing values= 0\n",
      "No     5110\n",
      "Yes    4890\n",
      "Name: StreamingMovies, dtype: int64\n"
     ]
    }
   ],
   "source": [
    "#looks good\n",
    "print_desc(\"StreamingMovies\")\n",
    "print_counts(\"StreamingMovies\")"
   ]
  },
  {
   "cell_type": "code",
   "execution_count": 49,
   "id": "a879169d",
   "metadata": {},
   "outputs": [
    {
     "name": "stdout",
     "output_type": "stream",
     "text": [
      "count     10000\n",
      "unique        2\n",
      "top         Yes\n",
      "freq       5882\n",
      "Name: PaperlessBilling, dtype: object\n",
      "missing values= 0\n",
      "Yes    5882\n",
      "No     4118\n",
      "Name: PaperlessBilling, dtype: int64\n"
     ]
    }
   ],
   "source": [
    "#looks good\n",
    "print_desc(\"PaperlessBilling\")\n",
    "print_counts(\"PaperlessBilling\")"
   ]
  },
  {
   "cell_type": "code",
   "execution_count": 50,
   "id": "f840817c",
   "metadata": {},
   "outputs": [
    {
     "name": "stdout",
     "output_type": "stream",
     "text": [
      "count                10000\n",
      "unique                   4\n",
      "top       Electronic Check\n",
      "freq                  3398\n",
      "Name: PaymentMethod, dtype: object\n",
      "missing values= 0\n",
      "Electronic Check            3398\n",
      "Mailed Check                2290\n",
      "Bank Transfer(automatic)    2229\n",
      "Credit Card (automatic)     2083\n",
      "Name: PaymentMethod, dtype: int64\n"
     ]
    }
   ],
   "source": [
    "#looks good\n",
    "print_desc(\"PaymentMethod\")\n",
    "print_counts(\"PaymentMethod\")"
   ]
  },
  {
   "cell_type": "code",
   "execution_count": 51,
   "id": "faf01a6a",
   "metadata": {},
   "outputs": [
    {
     "name": "stdout",
     "output_type": "stream",
     "text": [
      "count    9069.000000\n",
      "mean       34.498858\n",
      "std        26.438904\n",
      "min         1.000259\n",
      "25%         7.890442\n",
      "50%        36.196030\n",
      "75%        61.426670\n",
      "max        71.999280\n",
      "Name: Tenure, dtype: float64\n",
      "missing values= 931\n"
     ]
    }
   ],
   "source": [
    "#lots of missing values!\n",
    "print_desc(\"Tenure\")"
   ]
  },
  {
   "cell_type": "code",
   "execution_count": 52,
   "id": "f3e0918c",
   "metadata": {},
   "outputs": [
    {
     "name": "stdout",
     "output_type": "stream",
     "text": [
      "count    10000.000000\n",
      "mean       174.076305\n",
      "std         43.335473\n",
      "min         77.505230\n",
      "25%        141.071078\n",
      "50%        169.915400\n",
      "75%        203.777441\n",
      "max        315.878600\n",
      "Name: MonthlyCharge, dtype: float64\n",
      "missing values= 0\n"
     ]
    }
   ],
   "source": [
    "#looks good\n",
    "print_desc(\"MonthlyCharge\")"
   ]
  },
  {
   "cell_type": "code",
   "execution_count": 53,
   "id": "66483002",
   "metadata": {},
   "outputs": [
    {
     "name": "stdout",
     "output_type": "stream",
     "text": [
      "count    8979.000000\n",
      "mean     3398.842752\n",
      "std      2187.396807\n",
      "min       155.506715\n",
      "25%      1234.110529\n",
      "50%      3382.424000\n",
      "75%      5587.096500\n",
      "max      7158.982000\n",
      "Name: Bandwidth_GB_Year, dtype: float64\n",
      "missing values= 1021\n"
     ]
    }
   ],
   "source": [
    "#lots of missing values here!\n",
    "print_desc(\"Bandwidth_GB_Year\")"
   ]
  },
  {
   "cell_type": "code",
   "execution_count": 54,
   "id": "51eff203",
   "metadata": {},
   "outputs": [
    {
     "name": "stdout",
     "output_type": "stream",
     "text": [
      "count    10000.000000\n",
      "mean         3.490800\n",
      "std          1.037797\n",
      "min          1.000000\n",
      "25%          3.000000\n",
      "50%          3.000000\n",
      "75%          4.000000\n",
      "max          7.000000\n",
      "Name: item1, dtype: float64\n",
      "missing values= 0\n"
     ]
    }
   ],
   "source": [
    "#looks good but change to int\n",
    "print_desc(\"item1\")"
   ]
  },
  {
   "cell_type": "code",
   "execution_count": 55,
   "id": "1049d39d",
   "metadata": {},
   "outputs": [
    {
     "name": "stdout",
     "output_type": "stream",
     "text": [
      "count    10000.000000\n",
      "mean         3.505100\n",
      "std          1.034641\n",
      "min          1.000000\n",
      "25%          3.000000\n",
      "50%          4.000000\n",
      "75%          4.000000\n",
      "max          7.000000\n",
      "Name: item2, dtype: float64\n",
      "missing values= 0\n"
     ]
    }
   ],
   "source": [
    "#looks good but change to int\n",
    "print_desc(\"item2\")"
   ]
  },
  {
   "cell_type": "code",
   "execution_count": 56,
   "id": "4ae4056c",
   "metadata": {},
   "outputs": [
    {
     "name": "stdout",
     "output_type": "stream",
     "text": [
      "count    10000.000000\n",
      "mean         3.487000\n",
      "std          1.027977\n",
      "min          1.000000\n",
      "25%          3.000000\n",
      "50%          3.000000\n",
      "75%          4.000000\n",
      "max          8.000000\n",
      "Name: item3, dtype: float64\n",
      "missing values= 0\n"
     ]
    }
   ],
   "source": [
    "#looks good but change to int\n",
    "print_desc(\"item3\")"
   ]
  },
  {
   "cell_type": "code",
   "execution_count": 57,
   "id": "ad227411",
   "metadata": {},
   "outputs": [
    {
     "name": "stdout",
     "output_type": "stream",
     "text": [
      "count    10000.000000\n",
      "mean         3.497500\n",
      "std          1.025816\n",
      "min          1.000000\n",
      "25%          3.000000\n",
      "50%          3.000000\n",
      "75%          4.000000\n",
      "max          7.000000\n",
      "Name: item4, dtype: float64\n",
      "missing values= 0\n"
     ]
    }
   ],
   "source": [
    "#looks good but change to int\n",
    "print_desc(\"item4\")"
   ]
  },
  {
   "cell_type": "code",
   "execution_count": 58,
   "id": "05651d14",
   "metadata": {},
   "outputs": [
    {
     "name": "stdout",
     "output_type": "stream",
     "text": [
      "count    10000.000000\n",
      "mean         3.492900\n",
      "std          1.024819\n",
      "min          1.000000\n",
      "25%          3.000000\n",
      "50%          3.000000\n",
      "75%          4.000000\n",
      "max          7.000000\n",
      "Name: item5, dtype: float64\n",
      "missing values= 0\n"
     ]
    }
   ],
   "source": [
    "#looks good but change to int\n",
    "print_desc(\"item5\")"
   ]
  },
  {
   "cell_type": "code",
   "execution_count": 59,
   "id": "60f3a2c9",
   "metadata": {},
   "outputs": [
    {
     "name": "stdout",
     "output_type": "stream",
     "text": [
      "count    10000.000000\n",
      "mean         3.497300\n",
      "std          1.033586\n",
      "min          1.000000\n",
      "25%          3.000000\n",
      "50%          3.000000\n",
      "75%          4.000000\n",
      "max          8.000000\n",
      "Name: item6, dtype: float64\n",
      "missing values= 0\n"
     ]
    }
   ],
   "source": [
    "#looks good but change to int\n",
    "print_desc(\"item6\")"
   ]
  },
  {
   "cell_type": "code",
   "execution_count": 60,
   "id": "b7737c2a",
   "metadata": {},
   "outputs": [
    {
     "name": "stdout",
     "output_type": "stream",
     "text": [
      "count    10000.000000\n",
      "mean         3.509500\n",
      "std          1.028502\n",
      "min          1.000000\n",
      "25%          3.000000\n",
      "50%          4.000000\n",
      "75%          4.000000\n",
      "max          7.000000\n",
      "Name: item7, dtype: float64\n",
      "missing values= 0\n"
     ]
    }
   ],
   "source": [
    "#looks good but change to int\n",
    "print_desc(\"item7\")"
   ]
  },
  {
   "cell_type": "code",
   "execution_count": 61,
   "id": "cacf4fd1",
   "metadata": {},
   "outputs": [
    {
     "name": "stdout",
     "output_type": "stream",
     "text": [
      "count    10000.000000\n",
      "mean         3.495600\n",
      "std          1.028633\n",
      "min          1.000000\n",
      "25%          3.000000\n",
      "50%          3.000000\n",
      "75%          4.000000\n",
      "max          8.000000\n",
      "Name: item8, dtype: float64\n",
      "missing values= 0\n"
     ]
    }
   ],
   "source": [
    "#looks good but change to int\n",
    "print_desc(\"item8\")"
   ]
  },
  {
   "cell_type": "markdown",
   "id": "2d4e64da",
   "metadata": {},
   "source": [
    "# CLEAN UP STEPS"
   ]
  },
  {
   "cell_type": "markdown",
   "id": "db5f1694-36b9-4c98-8e19-36c0ebf28f88",
   "metadata": {},
   "source": [
    "  # D\n",
    "   ## 1)\n",
    "    Duplicate rows:\n",
    "     I could not find any duplicate rows based on the columns 'Customer_id'.\n",
    "\n",
    "    Missing values:\n",
    "      I found missing values in the columns 'Children', 'Age', 'Income', 'Techie','Phone','TechSupport','Tenure','Bandwith_GB_Year'.\n",
    "\n",
    "    Outliers and anomalies:\n",
    "       While z-scores and IQR analysis of many columns showed that there were outliers, I have decided that not all things have a normal distribution and the values seemed reasonable. The only column that has data anomalies is 'Outage_sec_per_week' which has negative values that should be cleaned up.\n",
    "\n",
    "    \n",
    "    "
   ]
  },
  {
   "cell_type": "markdown",
   "id": "969c8fab-be91-4c42-b5d7-be6bd24dbc39",
   "metadata": {},
   "source": [
    "## 2)\n",
    "\n",
    "        There were no duplicate rows according to my criteria so nothing will be done there. Missing values will be imputed with the mean or median value. I think this will preserve the data integrity better than dropping the rows with missing values. Dropping the rows would significantly affect the data set because some columns have thousands of missing values. The 'Outage_sec_per_week' column that had anomalies will be cleaned by changing the values to the mean value. Rows could be dropped for this case, but I dont want to skew the data in the other columns. Categorical data in the 'Phone' column will be imputed from the 'Multiple' column. If we don't have phone data for that entry but that entry has a value for 'Multiple' column we can use that. For the 'Techie' column values will be replaced with No. I am assuming that techies that took the questionnaire would check yes and those who did not check any box are not techies. We will impute missing values in the 'TechSupport' column from the 'DeviceProtection' column, since they seem to be related."
   ]
  },
  {
   "cell_type": "markdown",
   "id": "0ca6ddbd-6246-484e-bda8-f81e33c357c4",
   "metadata": {},
   "source": [
    "## 3)\n",
    "        Replacing the negative values in the 'Outage_sec_per_week column' did not affect or skew that data very much as there were not many negative values. However the columns that are missing values may be missing thousands of values. Imputing these values with any other value such as the mean significantly changes the distribution of the data. I chose to use the mode for non normally distributed data as it did not change the distribution as much as the mean when plotted visually on a histogram."
   ]
  },
  {
   "cell_type": "markdown",
   "id": "67ed0e81-2d02-4068-a405-9da6fef51c7b",
   "metadata": {},
   "source": [
    "### 4)\n",
    "annotated clean up implementation code below."
   ]
  },
  {
   "cell_type": "markdown",
   "id": "f8077abd-bdf6-4355-bff8-0582a81907fb",
   "metadata": {},
   "source": [
    "### 5) \n",
    "cleaned .csv file will be attached as separate file. "
   ]
  },
  {
   "cell_type": "code",
   "execution_count": 62,
   "id": "1e9856c6-f1e8-43f0-94be-2a46176378b2",
   "metadata": {},
   "outputs": [
    {
     "name": "stdout",
     "output_type": "stream",
     "text": [
      "count    10000.000000\n",
      "mean         2.095936\n",
      "std          1.866666\n",
      "min          0.000000\n",
      "25%          1.000000\n",
      "50%          2.095936\n",
      "75%          3.000000\n",
      "max         10.000000\n",
      "Name: Children, dtype: float64\n",
      "missing values= 0\n"
     ]
    },
    {
     "data": {
      "image/png": "[encoded data removed]",
      "text/plain": [
       "<Figure size 432x288 with 1 Axes>"
      ]
     },
     "metadata": {
      "needs_background": "light"
     },
     "output_type": "display_data"
    }
   ],
   "source": [
    "#replace missing values in children with the mean\n",
    "df['Children'] = df['Children'].fillna(df[\"Children\"].mean())\n",
    "print_desc(\"Children\")\n",
    "plot_hist(\"Children\",20)"
   ]
  },
  {
   "cell_type": "code",
   "execution_count": 63,
   "id": "790e6730-89f8-4388-8135-2a1585c7f54c",
   "metadata": {},
   "outputs": [
    {
     "name": "stdout",
     "output_type": "stream",
     "text": [
      "count    10000.000000\n",
      "mean        53.702500\n",
      "std         18.018437\n",
      "min         18.000000\n",
      "25%         41.000000\n",
      "50%         55.000000\n",
      "75%         65.000000\n",
      "max         89.000000\n",
      "Name: Age, dtype: float64\n",
      "missing values= 0\n"
     ]
    },
    {
     "data": {
      "image/png": "[encoded data removed]",
      "text/plain": [
       "<Figure size 432x288 with 1 Axes>"
      ]
     },
     "metadata": {
      "needs_background": "light"
     },
     "output_type": "display_data"
    }
   ],
   "source": [
    "#replace missing values with mode\n",
    "df['Age'] = df['Age'].fillna(df['Age'].mode()[0])\n",
    "print_desc(\"Age\")\n",
    "plot_hist(\"Age\",100)"
   ]
  },
  {
   "cell_type": "code",
   "execution_count": 64,
   "id": "ea051931-bcab-4b0f-8c09-fcc878052b43",
   "metadata": {},
   "outputs": [
    {
     "name": "stdout",
     "output_type": "stream",
     "text": [
      "count     10000.000000\n",
      "mean      32614.500842\n",
      "std       27670.566867\n",
      "min         740.660000\n",
      "25%       10530.090000\n",
      "50%       23703.475000\n",
      "75%       45504.192500\n",
      "max      258900.700000\n",
      "Name: Income, dtype: float64\n",
      "missing values= 0\n"
     ]
    },
    {
     "data": {
      "image/png": "[encoded data removed]",
      "text/plain": [
       "<Figure size 432x288 with 1 Axes>"
      ]
     },
     "metadata": {
      "needs_background": "light"
     },
     "output_type": "display_data"
    }
   ],
   "source": [
    "#replace missing values with mode\n",
    "df['Income'] = df['Income'].fillna(df['Income'].mode()[0])\n",
    "print_desc(\"Income\")\n",
    "plot_hist(\"Income\",50)"
   ]
  },
  {
   "cell_type": "code",
   "execution_count": 65,
   "id": "38ad0edf-b82a-4ff8-8859-e7d2fb655b3f",
   "metadata": {},
   "outputs": [
    {
     "name": "stdout",
     "output_type": "stream",
     "text": [
      "count     10000\n",
      "unique        2\n",
      "top          No\n",
      "freq       8743\n",
      "Name: Techie, dtype: object\n",
      "missing values= 0\n"
     ]
    },
    {
     "data": {
      "image/png": "[encoded data removed]",
      "text/plain": [
       "<Figure size 432x288 with 1 Axes>"
      ]
     },
     "metadata": {
      "needs_background": "light"
     },
     "output_type": "display_data"
    }
   ],
   "source": [
    "#replace missing values with no\n",
    "df['Techie'] = df['Techie'].fillna(\"No\")\n",
    "print_desc(\"Techie\")\n",
    "plot_hist(\"Techie\",3)"
   ]
  },
  {
   "cell_type": "code",
   "execution_count": 66,
   "id": "e31c2e1b-85c4-44a8-bc89-5456a24af841",
   "metadata": {},
   "outputs": [
    {
     "name": "stdout",
     "output_type": "stream",
     "text": [
      "count     10000\n",
      "unique        2\n",
      "top         Yes\n",
      "freq       8578\n",
      "Name: Phone, dtype: object\n",
      "missing values= 0\n"
     ]
    },
    {
     "data": {
      "image/png": "[encoded data removed]",
      "text/plain": [
       "<Figure size 432x288 with 1 Axes>"
      ]
     },
     "metadata": {
      "needs_background": "light"
     },
     "output_type": "display_data"
    },
    {
     "name": "stdout",
     "output_type": "stream",
     "text": [
      "Yes    8578\n",
      "No     1422\n",
      "Name: Phone, dtype: int64\n"
     ]
    }
   ],
   "source": [
    "#impute missing values from multiple column\n",
    "df['Phone'] = df['Phone'].fillna(df['Multiple'])\n",
    "print_desc(\"Phone\")\n",
    "plot_hist(\"Phone\",3)\n",
    "print_counts(\"Phone\")\n"
   ]
  },
  {
   "cell_type": "code",
   "execution_count": 67,
   "id": "278cab1c-0dfa-4c33-9d51-28ca8eb3b0dd",
   "metadata": {},
   "outputs": [
    {
     "name": "stdout",
     "output_type": "stream",
     "text": [
      "count     10000\n",
      "unique        2\n",
      "top          No\n",
      "freq       6173\n",
      "Name: TechSupport, dtype: object\n",
      "missing values= 0\n"
     ]
    },
    {
     "data": {
      "image/png": "[encoded data removed]",
      "text/plain": [
       "<Figure size 432x288 with 1 Axes>"
      ]
     },
     "metadata": {
      "needs_background": "light"
     },
     "output_type": "display_data"
    },
    {
     "name": "stdout",
     "output_type": "stream",
     "text": [
      "No     6173\n",
      "Yes    3827\n",
      "Name: TechSupport, dtype: int64\n"
     ]
    }
   ],
   "source": [
    "#impute missing values from multiple DeviceProtection column\n",
    "df['TechSupport'] = df['TechSupport'].fillna(df['DeviceProtection'])\n",
    "print_desc(\"TechSupport\")\n",
    "plot_hist(\"TechSupport\",3)\n",
    "print_counts(\"TechSupport\")"
   ]
  },
  {
   "cell_type": "code",
   "execution_count": 68,
   "id": "fe7b18b3-942d-42cf-b3dd-7772d3b24ef0",
   "metadata": {},
   "outputs": [
    {
     "name": "stdout",
     "output_type": "stream",
     "text": [
      "count    10000.000000\n",
      "mean        36.449401\n",
      "std         25.903587\n",
      "min          1.000259\n",
      "25%          8.700329\n",
      "50%         47.444800\n",
      "75%         60.153487\n",
      "max         71.999280\n",
      "Name: Tenure, dtype: float64\n",
      "missing values= 0\n"
     ]
    },
    {
     "data": {
      "image/png": "[encoded data removed]",
      "text/plain": [
       "<Figure size 432x288 with 1 Axes>"
      ]
     },
     "metadata": {
      "needs_background": "light"
     },
     "output_type": "display_data"
    }
   ],
   "source": [
    "#replace missing values with mode\n",
    "df['Tenure'] = df['Tenure'].fillna(df['Tenure'].mode()[0])\n",
    "print_desc(\"Tenure\")\n",
    "plot_hist(\"Tenure\",30)"
   ]
  },
  {
   "cell_type": "code",
   "execution_count": 69,
   "id": "24bfce7d-dbf8-4317-b604-30d344269f87",
   "metadata": {},
   "outputs": [
    {
     "name": "stdout",
     "output_type": "stream",
     "text": [
      "count    10000.000000\n",
      "mean        36.449401\n",
      "std         25.903587\n",
      "min          1.000259\n",
      "25%          8.700329\n",
      "50%         47.444800\n",
      "75%         60.153487\n",
      "max         71.999280\n",
      "Name: Tenure, dtype: float64\n",
      "missing values= 0\n"
     ]
    },
    {
     "data": {
      "image/png": "[encoded data removed]",
      "text/plain": [
       "<Figure size 432x288 with 1 Axes>"
      ]
     },
     "metadata": {
      "needs_background": "light"
     },
     "output_type": "display_data"
    }
   ],
   "source": [
    "#replace missing values with mode\n",
    "df['Bandwidth_GB_Year'] = df['Bandwidth_GB_Year'].fillna(df['Bandwidth_GB_Year'].mode()[0])\n",
    "print_desc(\"Tenure\")\n",
    "plot_hist(\"Tenure\",30)"
   ]
  },
  {
   "cell_type": "code",
   "execution_count": 70,
   "id": "eb7bbcab-4b31-409c-a778-7e4cb9aa8c56",
   "metadata": {},
   "outputs": [
    {
     "name": "stdout",
     "output_type": "stream",
     "text": [
      "count    10000.000000\n",
      "mean        11.454229\n",
      "std          7.023844\n",
      "min          0.113821\n",
      "25%          8.054362\n",
      "50%         10.202896\n",
      "75%         12.487644\n",
      "max         47.049280\n",
      "Name: Outage_sec_perweek, dtype: float64\n",
      "missing values= 0\n"
     ]
    },
    {
     "data": {
      "image/png": "[encoded data removed]",
      "text/plain": [
       "<Figure size 432x288 with 1 Axes>"
      ]
     },
     "metadata": {
      "needs_background": "light"
     },
     "output_type": "display_data"
    }
   ],
   "source": [
    "# make negative values positive.\n",
    "df.loc[df['Outage_sec_perweek'] < 0, 'Outage_sec_perweek'] *= -1\n",
    "print_desc(\"Outage_sec_perweek\")\n",
    "plot_hist(\"Outage_sec_perweek\",30)"
   ]
  },
  {
   "cell_type": "code",
   "execution_count": 71,
   "id": "6cc3bcdd-5dad-40fa-99d3-cfa4e5471402",
   "metadata": {},
   "outputs": [
    {
     "name": "stdout",
     "output_type": "stream",
     "text": [
      "CaseOrder               0\n",
      "Customer_id             0\n",
      "Interaction             0\n",
      "City                    0\n",
      "State                   0\n",
      "County                  0\n",
      "Zip                     0\n",
      "Lat                     0\n",
      "Lng                     0\n",
      "Population              0\n",
      "Area                    0\n",
      "Timezone                0\n",
      "Job                     0\n",
      "Children                0\n",
      "Age                     0\n",
      "Education               0\n",
      "Employment              0\n",
      "Income                  0\n",
      "Marital                 0\n",
      "Gender                  0\n",
      "Churn                   0\n",
      "Outage_sec_perweek      0\n",
      "Email                   0\n",
      "Contacts                0\n",
      "Yearly_equip_failure    0\n",
      "Techie                  0\n",
      "Contract                0\n",
      "Port_modem              0\n",
      "Tablet                  0\n",
      "InternetService         0\n",
      "Phone                   0\n",
      "Multiple                0\n",
      "OnlineSecurity          0\n",
      "OnlineBackup            0\n",
      "DeviceProtection        0\n",
      "TechSupport             0\n",
      "StreamingTV             0\n",
      "StreamingMovies         0\n",
      "PaperlessBilling        0\n",
      "PaymentMethod           0\n",
      "Tenure                  0\n",
      "MonthlyCharge           0\n",
      "Bandwidth_GB_Year       0\n",
      "item1                   0\n",
      "item2                   0\n",
      "item3                   0\n",
      "item4                   0\n",
      "item5                   0\n",
      "item6                   0\n",
      "item7                   0\n",
      "item8                   0\n",
      "dtype: int64\n"
     ]
    }
   ],
   "source": [
    "# Identify missing values using isna() method\n",
    "missing_values = df.isna().sum()\n",
    "print(missing_values)\n",
    "\n",
    "# missing values are replaced with meaningful data!"
   ]
  },
  {
   "cell_type": "markdown",
   "id": "7cb5fe50-eb18-44ce-9383-9bfceb1ac5e6",
   "metadata": {},
   "source": [
    "## 6)\n",
    "\n",
    "        Some limitations of the data cleaning process are that when a significant of values are missing, replacing them with the mean or mode significantly changes the distribution of the data. Regardless of the technique to replace the values, the missing values still skew the data. Another limitation is that without specific domain knowledge of the data set it is difficult to discrern which values are actually outliers and which are reasonable values. Z-scores and IQR techniques may indicate outliers even though the data is reasonable because the distribution for that variable is not normal."
   ]
  },
  {
   "cell_type": "markdown",
   "id": "eb2dc5c1-27fb-40ec-be47-85e60679dcc9",
   "metadata": {},
   "source": [
    "## 7)\n",
    "        The limitations summarized in part D6 will affect the analysis of the question from part A because the column 'Outage_sec_perweek' had bad values that were negative. As a data analyst I have no Idea idea if they were bad values or they were just input incorrectly as negative. The approach I took assumed that they just needed to be converted to positive values. If my assumption is wrong then the data will be skewed and my analysis may come to an incorrect conclusion. In summary, all missing data and the techniques used to clean it may have an affect on the analysis. I may come to the wrong conclusion about the correlation between the Outage_sec_perweek, and MonthlyCharge and churn due to these limitations."
   ]
  },
  {
   "cell_type": "code",
   "execution_count": 72,
   "id": "44ec2b77-20ab-4371-be2a-2e3edd4458b7",
   "metadata": {},
   "outputs": [],
   "source": [
    "from sklearn.decomposition import PCA\n",
    "import numpy as np\n",
    "#only use numeric values for PCA\n",
    "data = df.select_dtypes(include=['int', 'float'])\n",
    "#normalize data\n",
    "data_normalized=(data-data.mean())/data.std()\n",
    "#start with max components\n",
    "pca = PCA(n_components=data.shape[1])\n",
    "#fit pca model to our data\n",
    "pca.fit(data_normalized)\n",
    "#transform data set to 23 PCA components\n",
    "data_pca = pd.DataFrame(pca.transform(data_normalized),     \n",
    "     columns=['PC1','PC2','PC3','PC4','PC5','PC6','PC7','PC8','PC9',\n",
    "             'PC10','PC11','PC12','PC13','PC14','PC15','PC16','PC17'\n",
    "              ,'PC18','PC19','PC20','PC21','PC22','PC23'])\n",
    "\n",
    "loadings = pd.DataFrame(pca.components_.T,\n",
    "     columns=['PC1','PC2','PC3','PC4','PC5','PC6','PC7','PC8','PC9',\n",
    "             'PC10','PC11','PC12','PC13','PC14','PC15','PC16','PC17'\n",
    "              ,'PC18','PC19','PC20','PC21','PC22','PC23'],\n",
    "     index=data.columns)\n"
   ]
  },
  {
   "cell_type": "markdown",
   "id": "1af41b01-23eb-4a4e-9ee9-32e009f6a06f",
   "metadata": {},
   "source": [
    "## E\n",
    "\n",
    "1) The initial total number of principal components will be 23 because that is how many numeric fields we have."
   ]
  },
  {
   "cell_type": "code",
   "execution_count": 73,
   "id": "c27892aa-979e-4df0-86d7-e42777da7efe",
   "metadata": {},
   "outputs": [
    {
     "name": "stdout",
     "output_type": "stream",
     "text": [
      "                           PC1       PC2       PC3       PC4       PC5  \\\n",
      "CaseOrder            -0.027801  0.563078  0.005212 -0.018748 -0.001362   \n",
      "Zip                  -0.019005 -0.002563  0.701422  0.048544  0.026395   \n",
      "Lat                  -0.000855 -0.013971  0.029448 -0.005980 -0.703422   \n",
      "Lng                   0.016928  0.003508 -0.704079 -0.046014  0.060479   \n",
      "Population           -0.002702 -0.002596  0.064258  0.024826  0.676581   \n",
      "Children              0.001782 -0.005004 -0.030076  0.008492 -0.039775   \n",
      "Age                   0.005366 -0.003699 -0.000977 -0.019585  0.021866   \n",
      "Income               -0.000530 -0.000940  0.001486  0.019371 -0.038473   \n",
      "Outage_sec_perweek   -0.013679  0.012344  0.006400 -0.045382 -0.100177   \n",
      "Email                 0.009117 -0.011722 -0.011433 -0.006533  0.140072   \n",
      "Contacts             -0.008561  0.002964 -0.009006 -0.011280  0.025236   \n",
      "Yearly_equip_failure -0.008073  0.008121  0.011365  0.009717 -0.009836   \n",
      "Tenure               -0.028025  0.583788  0.000007 -0.017958  0.000956   \n",
      "MonthlyCharge        -0.000953  0.020996 -0.012343 -0.021062 -0.077111   \n",
      "Bandwidth_GB_Year    -0.031785  0.580665  0.004491 -0.018798 -0.003909   \n",
      "item1                 0.458253  0.028934 -0.018904  0.280567 -0.017102   \n",
      "item2                 0.433037  0.035930 -0.000651  0.284122 -0.020566   \n",
      "item3                 0.400141  0.028823 -0.015545  0.281749 -0.003090   \n",
      "item4                 0.145639 -0.006534  0.038439 -0.568067 -0.001677   \n",
      "item5                -0.175827  0.016501 -0.038809  0.588120 -0.011233   \n",
      "item6                 0.404391  0.013460  0.036630 -0.181805  0.015499   \n",
      "item7                 0.357554  0.020475  0.021911 -0.179990 -0.015156   \n",
      "item8                 0.308547  0.004851  0.019726 -0.131864  0.043162   \n",
      "\n",
      "                           PC6       PC7       PC8       PC9      PC10  \\\n",
      "CaseOrder            -0.023023 -0.014406 -0.002738 -0.008185  0.008066   \n",
      "Zip                   0.007322  0.007183 -0.003381 -0.000668  0.015808   \n",
      "Lat                  -0.072662 -0.054086 -0.065956 -0.019456  0.029260   \n",
      "Lng                   0.003225 -0.000045  0.018867  0.004418 -0.015752   \n",
      "Population            0.086834  0.048308  0.033020  0.066663 -0.103271   \n",
      "Children             -0.018460  0.607935 -0.019106  0.054337  0.386914   \n",
      "Age                  -0.040844 -0.506056  0.334889  0.195634  0.456957   \n",
      "Income               -0.009684  0.235214 -0.122054  0.894057  0.079392   \n",
      "Outage_sec_perweek    0.694599  0.057246  0.016458  0.038662 -0.005416   \n",
      "Email                 0.086313 -0.088543 -0.540714 -0.220694  0.707034   \n",
      "Contacts              0.002310 -0.503767 -0.013262  0.299318  0.051204   \n",
      "Yearly_equip_failure  0.054953  0.198392  0.755356 -0.098964  0.337978   \n",
      "Tenure               -0.035214 -0.002318 -0.005052  0.003543  0.008208   \n",
      "MonthlyCharge         0.696084 -0.080307 -0.007098  0.010144 -0.051765   \n",
      "Bandwidth_GB_Year     0.014737  0.019141 -0.013365  0.001462  0.001547   \n",
      "item1                 0.029117  0.002281  0.015244 -0.008251 -0.000830   \n",
      "item2                 0.016041 -0.016081  0.003624  0.010298  0.002399   \n",
      "item3                -0.010947 -0.005940 -0.013972 -0.044025 -0.005722   \n",
      "item4                -0.031044 -0.004397  0.006486 -0.024919 -0.020380   \n",
      "item5                 0.025532 -0.040930  0.003107 -0.002850 -0.007711   \n",
      "item6                 0.008549  0.004694  0.000831  0.010665  0.015436   \n",
      "item7                -0.035385  0.013982 -0.025577  0.042069  0.018642   \n",
      "item8                 0.037219 -0.013725  0.044591  0.014088 -0.049747   \n",
      "\n",
      "                          PC11      PC12      PC13      PC14      PC15  \\\n",
      "CaseOrder            -0.008306 -0.000620  0.022551  0.001647 -0.005754   \n",
      "Zip                   0.009131 -0.020835 -0.016374 -0.091553 -0.076163   \n",
      "Lat                   0.003383  0.038908  0.033542  0.511961  0.457071   \n",
      "Lng                  -0.006153  0.012975  0.004870 -0.019465 -0.019308   \n",
      "Population           -0.003713 -0.036131  0.050854  0.583500  0.404114   \n",
      "Children              0.242557 -0.641717  0.011653  0.002578  0.037031   \n",
      "Age                  -0.472211 -0.377601  0.103343  0.054468 -0.039123   \n",
      "Income               -0.151503  0.297802 -0.077479 -0.022759 -0.005282   \n",
      "Outage_sec_perweek    0.022655  0.052626  0.692350  0.031623 -0.124858   \n",
      "Email                 0.015101  0.339205 -0.039686 -0.013036  0.077000   \n",
      "Contacts              0.796793 -0.117002  0.014640 -0.029343  0.026615   \n",
      "Yearly_equip_failure  0.219988  0.444062 -0.115646  0.016756  0.050668   \n",
      "Tenure               -0.009558  0.005806  0.025053  0.004288  0.013211   \n",
      "MonthlyCharge        -0.063672 -0.152124 -0.681624 -0.005078  0.055469   \n",
      "Bandwidth_GB_Year     0.009702 -0.006467 -0.035295  0.000736  0.017027   \n",
      "item1                 0.020010  0.003455 -0.006085  0.057478 -0.043119   \n",
      "item2                 0.007528 -0.015075 -0.000786  0.076138 -0.079466   \n",
      "item3                -0.011047  0.015703 -0.009552  0.115281 -0.133030   \n",
      "item4                 0.000701  0.012714 -0.021329  0.146374 -0.105861   \n",
      "item5                -0.008494 -0.005926  0.040925 -0.086252  0.097947   \n",
      "item6                 0.017979  0.009243 -0.006176  0.024252 -0.062362   \n",
      "item7                 0.039254  0.008606 -0.027472  0.070872 -0.158209   \n",
      "item8                -0.065146 -0.027205  0.120923 -0.570917  0.717437   \n",
      "\n",
      "                          PC16      PC17      PC18      PC19      PC20  \\\n",
      "CaseOrder            -0.001973  0.005919 -0.014318  0.004776  0.011263   \n",
      "Zip                  -0.013086 -0.012354 -0.002825 -0.003802  0.011598   \n",
      "Lat                   0.039350  0.029758 -0.006495  0.013464 -0.007424   \n",
      "Lng                   0.002342  0.006366  0.011541 -0.006823 -0.008592   \n",
      "Population            0.051438  0.001639 -0.000882  0.000391 -0.006019   \n",
      "Children             -0.030495 -0.015535  0.012440  0.023823 -0.005057   \n",
      "Age                   0.009477 -0.000902 -0.011569  0.009411  0.016057   \n",
      "Income               -0.057039 -0.011165 -0.000511  0.020536  0.004580   \n",
      "Outage_sec_perweek    0.010558 -0.013148 -0.016032  0.010052 -0.004423   \n",
      "Email                -0.014637 -0.015160  0.006509 -0.016208  0.000969   \n",
      "Contacts             -0.037132 -0.004113 -0.026184  0.021184 -0.000545   \n",
      "Yearly_equip_failure  0.006322 -0.013941 -0.001027  0.007258 -0.021254   \n",
      "Tenure               -0.007968  0.005318 -0.008597 -0.001524  0.001660   \n",
      "MonthlyCharge         0.009881 -0.014526 -0.000904  0.020915 -0.012149   \n",
      "Bandwidth_GB_Year     0.001950  0.001501  0.010702 -0.003326 -0.002314   \n",
      "item1                -0.117782 -0.046791  0.023973 -0.239432  0.793108   \n",
      "item2                -0.171243 -0.067871  0.068504 -0.591579 -0.572996   \n",
      "item3                -0.247849 -0.147389 -0.392355  0.675969 -0.177241   \n",
      "item4                -0.475900 -0.446332  0.430993  0.086345  0.018137   \n",
      "item5                 0.061380 -0.209896  0.694479  0.260711 -0.042482   \n",
      "item6                 0.059506  0.756873  0.405385  0.226542 -0.064877   \n",
      "item7                 0.806671 -0.375197  0.067912  0.064328 -0.041193   \n",
      "item8                -0.017584 -0.110649 -0.043944  0.047218 -0.042921   \n",
      "\n",
      "                          PC21      PC22      PC23  \n",
      "CaseOrder            -0.822306 -0.060849  0.003966  \n",
      "Zip                  -0.000786 -0.008211 -0.699072  \n",
      "Lat                  -0.005704 -0.004578 -0.117790  \n",
      "Lng                  -0.004389 -0.014567 -0.704309  \n",
      "Population           -0.008469 -0.001156 -0.031001  \n",
      "Children             -0.013766  0.014414  0.001800  \n",
      "Age                   0.019344 -0.020281  0.001364  \n",
      "Income               -0.013117 -0.000226  0.001013  \n",
      "Outage_sec_perweek    0.009313 -0.003924 -0.000581  \n",
      "Email                -0.000806  0.000502 -0.003084  \n",
      "Contacts              0.001448  0.002648  0.002351  \n",
      "Yearly_equip_failure -0.004146  0.003198  0.002934  \n",
      "Tenure                0.348987  0.730489 -0.014500  \n",
      "MonthlyCharge        -0.026064  0.052096  0.001977  \n",
      "Bandwidth_GB_Year     0.447202 -0.677338  0.008758  \n",
      "item1                 0.006209 -0.002053  0.002432  \n",
      "item2                -0.008699  0.000543  0.003520  \n",
      "item3                 0.010006 -0.008665 -0.006018  \n",
      "item4                -0.003800  0.002542  0.001637  \n",
      "item5                -0.009537  0.008660  0.003127  \n",
      "item6                -0.001823  0.003223 -0.000606  \n",
      "item7                 0.000361  0.006883 -0.001608  \n",
      "item8                -0.007874 -0.003180 -0.001974  \n"
     ]
    }
   ],
   "source": [
    "\n",
    "print(loadings.head(50))"
   ]
  },
  {
   "cell_type": "markdown",
   "id": "71692c3a-d976-472d-ba4b-bf5495845eed",
   "metadata": {},
   "source": [
    "## 2)\n",
    "\n",
    "  I chose to use 13 PCA components because all components beyond that have an eigenvalue of less than one. I am including plots of the eigenvalues and explained variance. I could use the elbow of the explained variance but I think the eigenvalues are more accurate.\n"
   ]
  },
  {
   "cell_type": "code",
   "execution_count": 74,
   "id": "7368849d-eeb5-484c-bef0-fad06e770a96",
   "metadata": {},
   "outputs": [
    {
     "data": {
      "image/png": "[encoded data removed]",
      "text/plain": [
       "<Figure size 432x288 with 1 Axes>"
      ]
     },
     "metadata": {
      "needs_background": "light"
     },
     "output_type": "display_data"
    },
    {
     "data": {
      "image/png": "[encoded data removed]",
      "text/plain": [
       "<Figure size 432x288 with 1 Axes>"
      ]
     },
     "metadata": {
      "needs_background": "light"
     },
     "output_type": "display_data"
    }
   ],
   "source": [
    "plt.plot(pca.explained_variance_ratio_)\n",
    "plt.xlabel('number of components')\n",
    "plt.ylabel('explained variance')\n",
    "plt.show()\n",
    "\n",
    "cov_matrix = np.dot(data_normalized.T, data_normalized) / data.shape[0]\n",
    "eigenvalues = [np.dot(eigenvector.T, np.dot(cov_matrix, eigenvector)) for\n",
    "eigenvector in pca.components_]\n",
    "\n",
    "plt.plot(eigenvalues)\n",
    "plt.xlabel('number of components')\n",
    "plt.ylabel('eigenvalue')\n",
    "plt.show() "
   ]
  },
  {
   "cell_type": "markdown",
   "id": "af3cfd25-78c0-4427-8677-abb1791112fa",
   "metadata": {},
   "source": [
    "## 3)\n",
    " I think the organization can benefit from PCA because it can simplify the visual analysis of the data when presenting it to stakeholders. Instead of\n",
    " showing them what could be hundreds of variables that may not have much effect on the analysis, we can reduce the variables and keep most of the accuracy of the model. Another benefit is noise filtering. The originization can benefit from PCA by having the benefit of using a model that is more accurate because it better identifies meaningful patterns. This will lead to better predictions and better models the organization uses to make business decisions."
   ]
  },
  {
   "cell_type": "markdown",
   "id": "1f59709c-42c0-4d9f-85a3-e4ac1e9e2e92",
   "metadata": {},
   "source": [
    "## F)\n",
    "\n",
    "panopto video submitted in links."
   ]
  },
  {
   "cell_type": "markdown",
   "id": "e4889cda-5593-4208-b077-c70640237d9d",
   "metadata": {},
   "source": [
    "## G)\n",
    "\n",
    "Citations:\n",
    "\n",
    "Pandas documentation# (no date) pandas documentation - pandas 2.2.1 documentation. Available at: https://pandas.pydata.org/docs/ (Accessed: 06 April 2024). \n",
    "\n",
    "\n",
    "\n",
    "Project jupyter documentation# (no date) Project Jupyter Documentation - Jupyter Documentation 4.1.1 alpha documentation. Available at: https://docs.jupyter.org/en/latest/ (Accessed: 06 April 2024). \n",
    "\n",
    "\n",
    "Learn  scikit. Available at: https://scikit-learn.org/stable/ (Accessed: 06 April 2024). \n",
    "\n",
    "\n"
   ]
  },
  {
   "cell_type": "code",
   "execution_count": null,
   "id": "61be845f-e592-4fe4-9bd0-932263d8510f",
   "metadata": {},
   "outputs": [],
   "source": []
  }
 ],
 "metadata": {
  "kernelspec": {
   "display_name": "Python 3 (ipykernel)",
   "language": "python",
   "name": "python3"
  },
  "language_info": {
   "codemirror_mode": {
    "name": "ipython",
    "version": 3
   },
   "file_extension": ".py",
   "mimetype": "text/x-python",
   "name": "python",
   "nbconvert_exporter": "python",
   "pygments_lexer": "ipython3",
   "version": "3.10.12"
  }
 },
 "nbformat": 4,
 "nbformat_minor": 5
}
