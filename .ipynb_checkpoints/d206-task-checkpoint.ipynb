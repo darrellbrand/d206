{
 "cells": [
  {
   "cell_type": "markdown",
   "id": "7ce3f564",
   "metadata": {},
   "source": [
    "A)\n",
    "\n",
    "\n",
    "One question that could be asked as a telecommunications service provider could be:\n",
    "\n",
    "What can this data set and all it's variables tell us about some of the causes of customer churn?"
   ]
  },
  {
   "cell_type": "markdown",
   "id": "08681d38",
   "metadata": {},
   "source": [
    "B)\n",
    "\n",
    "\n",
    "\n",
    "| Name                  | Type     | Example                             |\n",
    "|-----------------------|----------|-------------------------------------|\n",
    "| CaseOrder             | int64    | 1                                   |\n",
    "| Customer_id           | object   | K409198                             |\n",
    "| Interaction           | object   | aa90260b-4141-4a24-8e36-b04ce1f4f77b|\n",
    "| City                  | object   | Point Baker                         |\n",
    "| State                 | object   | AK                                  |\n",
    "| County                | object   | Prince of Wales-Hyder               |\n",
    "| Zip                   | int64    | 99927                               |\n",
    "| Lat                   | float64  | 56.25100                            |\n",
    "| Lng                   | float64  | -133.37571                          |\n",
    "| Population            | int64    | 38                                  |\n",
    "| Area                  | object   | Urban                               |\n",
    "| Timezone              | object   | America/Sitka                       |\n",
    "| Job                   | object   | Environmental health practitioner   |\n",
    "| Children              | float64  | 1.0                                 |\n",
    "| Age                   | float64  | 68.0                                |\n",
    "| Education             | object   | Master's Degree                     |\n",
    "| Employment            | object   | Part Time                           |\n",
    "| Income                | float64  | 28561.99                            |\n",
    "| Marital               | object   | Widowed                             |\n",
    "| Gender                | object   | Male                                |\n",
    "| Churn                 | object   | No                                  |\n",
    "| Outage_sec_perweek    | float64  | 6.972566                            |\n",
    "| Email                 | int64    | 10                                  |\n",
    "| Contacts              | int64    | 0                                   |\n",
    "| Yearly_equip_failure  | int64    | 1                                   |\n",
    "| Techie                | object   | No                                  |\n",
    "| Contract              | object   | One year                            |\n",
    "| Port_modem            | object   | Yes                                 |\n",
    "| Tablet                | object   | Yes                                 |\n",
    "| InternetService       | object   | Fiber Optic                         |\n",
    "| Phone                 | object   | Yes                                 |\n",
    "| Multiple              | object   | No                                  |\n",
    "| OnlineSecurity        | object   | Yes                                 |\n",
    "| OnlineBackup          | object   | Yes                                 |\n",
    "| DeviceProtection      | object   | No                                  |\n",
    "| TechSupport           | object   | No                                  |\n",
    "| StreamingTV           | object   | No                                  |\n",
    "| StreamingMovies       | object   | Yes                                 |\n",
    "| PaperlessBilling      | object   | Yes                                 |\n",
    "| PaymentMethod         | object   | Credit Card (automatic)             |\n",
    "| Tenure                | float64  | 6.795513                            |\n",
    "| MonthlyCharge         | float64  | 171.449762                          |\n",
    "| Bandwidth_GB_Year     | float64  | 904.536110                          |\n",
    "| item1                 | int64    | 5                                   |\n",
    "| item2                 | int64    | 5                                   |\n",
    "| item3                 | int64    | 5                                   |\n",
    "| item4                 | int64    | 3                                   |\n",
    "| item5                 | int64    | 4                                   |\n",
    "| item6                 | int64    | 0                                   |\n",
    "| item7                 | int64    | 3                                   |\n",
    "| item8                 | int64    | 4                                   |\n"
   ]
  },
  {
   "cell_type": "markdown",
   "id": "a884b0be",
   "metadata": {},
   "source": [
    "<span style=\"font-weight:300;font-size:16px\">\n",
    "  \n",
    "\n",
    "\n",
    "# C)\n",
    "\n",
    "### 1)\n",
    "\n",
    "\n",
    "&emsp;&emsp;The first step I will use to assess the data quality is to identify missing values.\n",
    "In python missing values can be detected with the df.isna().sum() function and its variations such as df.iloc[5].isna().sum()\n",
    "\n",
    "\n",
    "&emsp;&emsp;The second step I will use to assess the data quality is to identify duplicates rows based on customer_id column. I will do this with the pandas library with the df.duplicated()function. Duplicate rows can also be identifed based on a subset of columns such as\n",
    "df.duplicated(subset=['Customer_id']).\n",
    "\n",
    "\n",
    "&emsp;&emsp;The third step I will use to assess the data quality is to identify outliers. I will use the python describe() function first to check if further analysis is needed. I will identify outliers with frequency counts such as df['Your_Column_Name'].value_counts(), z-scores such as zscore(df[column_name]), or plot a histogram such as df['values'].hist() plt.show() with the matplotlib library.\n",
    "  \n",
    "  \n",
    "  \n",
    "### 2)\n",
    "   \n",
    "   \n",
    "&emsp;&emsp;This is an effective approach to assess the quality of the data set because it addresses several quality metrics such as outliers, duplicates, and missingness. The python libraries and functions used are effective at working on large data sets. This approach also accounts for the characteristics of the data. Histograms, frequency counts, and the describe() function can be used on categorical data to identify outliers, while z-scores are preferred for numerical data.\n",
    " \n",
    " \n",
    "\n",
    "### 3)\n",
    "\n",
    "\n",
    "&emsp;&emsp;Python and the matplotlib, pandas, and scipy library are a good choice for data cleaning on this project. One reason is that I am familiar with python language. Another reason is that python and the associated libraries automate a lot of the statistical work. Stats.z-scores will return the z-scores of the data in one step so you don't have to do each step manually to calculate the z-score for each data point. Python and the associated libraries also have related functions that can mitigate some of the data quality issues as well as identifying them.\n",
    "\n",
    "</span>\n",
    "\n",
    "\n"
   ]
  },
  {
   "cell_type": "code",
   "execution_count": 1,
   "id": "4d35edc8",
   "metadata": {},
   "outputs": [],
   "source": [
    "import pandas as pd\n",
    "from scipy.stats import zscore\n",
    "import matplotlib.pyplot as plt\n",
    "import seaborn as sns\n",
    "import numpy as np\n",
    "# Assuming your CSV file is named 'data.csv', adjust the file path as needed\n",
    "file_path = '/home/dj/skewl/d206/churn_raw_data.csv'\n",
    "pd.set_option('display.max_columns', None)\n",
    "# Read the data from the CSV file into a DataFrame\n",
    "df = pd.read_csv(file_path)\n",
    "#drop index column\n",
    "df = df.loc[:, ~df.columns.str.contains('Unnamed')]"
   ]
  },
  {
   "cell_type": "markdown",
   "id": "69bf9bf1",
   "metadata": {},
   "source": [
    "# DETECTION STEPS"
   ]
  },
  {
   "cell_type": "code",
   "execution_count": 2,
   "id": "10c12da1",
   "metadata": {},
   "outputs": [
    {
     "name": "stdout",
     "output_type": "stream",
     "text": [
      "CaseOrder                  0\n",
      "Customer_id                0\n",
      "Interaction                0\n",
      "City                       0\n",
      "State                      0\n",
      "County                     0\n",
      "Zip                        0\n",
      "Lat                        0\n",
      "Lng                        0\n",
      "Population                 0\n",
      "Area                       0\n",
      "Timezone                   0\n",
      "Job                        0\n",
      "Children                2495\n",
      "Age                     2475\n",
      "Education                  0\n",
      "Employment                 0\n",
      "Income                  2490\n",
      "Marital                    0\n",
      "Gender                     0\n",
      "Churn                      0\n",
      "Outage_sec_perweek         0\n",
      "Email                      0\n",
      "Contacts                   0\n",
      "Yearly_equip_failure       0\n",
      "Techie                  2477\n",
      "Contract                   0\n",
      "Port_modem                 0\n",
      "Tablet                     0\n",
      "InternetService            0\n",
      "Phone                   1026\n",
      "Multiple                   0\n",
      "OnlineSecurity             0\n",
      "OnlineBackup               0\n",
      "DeviceProtection           0\n",
      "TechSupport              991\n",
      "StreamingTV                0\n",
      "StreamingMovies            0\n",
      "PaperlessBilling           0\n",
      "PaymentMethod              0\n",
      "Tenure                   931\n",
      "MonthlyCharge              0\n",
      "Bandwidth_GB_Year       1021\n",
      "item1                      0\n",
      "item2                      0\n",
      "item3                      0\n",
      "item4                      0\n",
      "item5                      0\n",
      "item6                      0\n",
      "item7                      0\n",
      "item8                      0\n",
      "dtype: int64\n"
     ]
    }
   ],
   "source": [
    "\n",
    "# Identify missing values using isna() method\n",
    "missing_values = df.isna().sum()\n",
    "# Print DataFrame with True for missing values and False for non-missing values\n",
    "print(missing_values)\n",
    "\n",
    "# found lots of missing values here!"
   ]
  },
  {
   "cell_type": "code",
   "execution_count": 3,
   "id": "82e41823",
   "metadata": {},
   "outputs": [],
   "source": [
    "#function to reset data\n",
    "def reset_data():\n",
    "    import pandas as pd\n",
    "    file_path = '/home/dj/skewl/d206/churn_raw_data.csv'\n",
    "    pd.set_option('display.max_columns', None)\n",
    "    # Read the data from the CSV file into a DataFrame\n",
    "    global df\n",
    "    df = pd.read_csv(file_path)\n",
    "    df = df.loc[:, ~df.columns.str.contains('Unnamed')]"
   ]
  },
  {
   "cell_type": "code",
   "execution_count": 4,
   "id": "a609c707",
   "metadata": {},
   "outputs": [
    {
     "name": "stdout",
     "output_type": "stream",
     "text": [
      "0\n"
     ]
    }
   ],
   "source": [
    "# Find duplicate rows \n",
    "duplicate_rows = df.duplicated([\"Customer_id\"]).sum()\n",
    "\n",
    "# Print duplicate rows   # found NO duplicate rows here!\n",
    "print(duplicate_rows)\n"
   ]
  },
  {
   "cell_type": "code",
   "execution_count": 5,
   "id": "4ce360f2",
   "metadata": {},
   "outputs": [],
   "source": [
    "#function to list outliers by Z-score\n",
    "\n",
    "def get_outliers_z(col_name):\n",
    "    \n",
    "    df['zscore'] = zscore(df[col_name])\n",
    "    outliers = df.query('zscore > 3 | zscore < -3')\n",
    "    print(f\"number of outliers= {len(outliers)}\")\n",
    "    print(f\"\\n Z-score of outliers= \\n{outliers['zscore']}\")\n",
    "    del df['zscore']\n"
   ]
  },
  {
   "cell_type": "code",
   "execution_count": 6,
   "id": "775ef4ea",
   "metadata": {},
   "outputs": [],
   "source": [
    "#function to list outliers by interquartile range\n",
    "\n",
    "def get_iqr_outliers(col_name):\n",
    "    # calculate IQR for column Height\n",
    "    Q1 = df[col_name].quantile(0.25)\n",
    "    Q3 = df[col_name].quantile(0.75)\n",
    "    IQR = Q3 - Q1\n",
    "\n",
    "    # identify outliers\n",
    "    threshold = 1.5\n",
    "    outliers = df[(df[col_name] < Q1 - threshold * IQR) | (df[col_name] > Q3 + threshold * IQR)]\n",
    "    print(f\"outliers = {len(outliers)}\")\n"
   ]
  },
  {
   "cell_type": "code",
   "execution_count": 7,
   "id": "04d26ceb",
   "metadata": {},
   "outputs": [],
   "source": [
    "#function to plot histogram\n",
    "def plot_hist(col_name, num_bins, do_rotate=False):\n",
    "    plt.hist(df[col_name], bins=num_bins)\n",
    "    plt.xlabel(col_name)\n",
    "    plt.ylabel('Frequency')\n",
    "    plt.title(f'Histogram of {col_name}')\n",
    "    if do_rotate:\n",
    "        plt.xticks(rotation=90)\n",
    "    plt.show()\n"
   ]
  },
  {
   "cell_type": "code",
   "execution_count": 8,
   "id": "16bc6a2f",
   "metadata": {},
   "outputs": [],
   "source": [
    "# print row count that matches a value\n",
    "def row_count_by_value(value):\n",
    "    \n",
    "    value_to_match = value\n",
    "    row_count_matching_value = (df == value_to_match).sum()\n",
    "    print(row_count_matching_value)"
   ]
  },
  {
   "cell_type": "code",
   "execution_count": 9,
   "id": "538c7c70",
   "metadata": {},
   "outputs": [],
   "source": [
    "def print_counts(col_name):\n",
    "    print(df[col_name].value_counts())"
   ]
  },
  {
   "cell_type": "code",
   "execution_count": 10,
   "id": "fefdd39d",
   "metadata": {},
   "outputs": [],
   "source": [
    "#function to print missing values\n",
    "def print_desc(col_name):\n",
    "    print(df[col_name].describe())\n",
    "    print(f\"missing values= {df[col_name].isna().sum()}\")"
   ]
  },
  {
   "cell_type": "code",
   "execution_count": 11,
   "id": "41469012",
   "metadata": {},
   "outputs": [
    {
     "data": {
      "image/png": "[encoded data removed]",
      "text/plain": [
       "<Figure size 432x288 with 1 Axes>"
      ]
     },
     "metadata": {
      "needs_background": "light"
     },
     "output_type": "display_data"
    },
    {
     "name": "stdout",
     "output_type": "stream",
     "text": [
      "count       10000\n",
      "unique       6058\n",
      "top       Houston\n",
      "freq           34\n",
      "Name: City, dtype: object\n",
      "missing values= 0\n"
     ]
    }
   ],
   "source": [
    "#looks good\n",
    "plot_hist(\"City\",20)\n",
    "print_desc(\"City\")"
   ]
  },
  {
   "cell_type": "code",
   "execution_count": 12,
   "id": "4b4213c8",
   "metadata": {},
   "outputs": [
    {
     "name": "stdout",
     "output_type": "stream",
     "text": [
      "count     10000\n",
      "unique       52\n",
      "top          TX\n",
      "freq        603\n",
      "Name: State, dtype: object\n",
      "missing values= 0\n"
     ]
    }
   ],
   "source": [
    "#looks good\n",
    "print_desc(\"State\")"
   ]
  },
  {
   "cell_type": "code",
   "execution_count": 13,
   "id": "45d83f83",
   "metadata": {},
   "outputs": [
    {
     "name": "stdout",
     "output_type": "stream",
     "text": [
      "count    10000.00000\n",
      "mean      5000.50000\n",
      "std       2886.89568\n",
      "min          1.00000\n",
      "25%       2500.75000\n",
      "50%       5000.50000\n",
      "75%       7500.25000\n",
      "max      10000.00000\n",
      "Name: CaseOrder, dtype: float64\n",
      "missing values= 0\n"
     ]
    }
   ],
   "source": [
    "#no issues here\n",
    "print_desc(\"CaseOrder\")"
   ]
  },
  {
   "cell_type": "code",
   "execution_count": 14,
   "id": "87a5d281",
   "metadata": {},
   "outputs": [
    {
     "name": "stdout",
     "output_type": "stream",
     "text": [
      "count     10000\n",
      "unique       52\n",
      "top          TX\n",
      "freq        603\n",
      "Name: State, dtype: object\n",
      "missing values= 0\n"
     ]
    }
   ],
   "source": [
    "#no issues here\n",
    "print_desc(\"State\")"
   ]
  },
  {
   "cell_type": "code",
   "execution_count": 15,
   "id": "9476d7d4",
   "metadata": {},
   "outputs": [
    {
     "name": "stdout",
     "output_type": "stream",
     "text": [
      "count                                    10000\n",
      "unique                                   10000\n",
      "top       aa90260b-4141-4a24-8e36-b04ce1f4f77b\n",
      "freq                                         1\n",
      "Name: Interaction, dtype: object\n",
      "missing values= 0\n"
     ]
    }
   ],
   "source": [
    "#no issues here\n",
    "print_desc(\"Interaction\")"
   ]
  },
  {
   "cell_type": "code",
   "execution_count": 16,
   "id": "3d100029",
   "metadata": {},
   "outputs": [
    {
     "name": "stdout",
     "output_type": "stream",
     "text": [
      "count       10000\n",
      "unique      10000\n",
      "top       K409198\n",
      "freq            1\n",
      "Name: Customer_id, dtype: object\n",
      "missing values= 0\n"
     ]
    }
   ],
   "source": [
    "#no issues\n",
    "print_desc(\"Customer_id\")"
   ]
  },
  {
   "cell_type": "code",
   "execution_count": 17,
   "id": "ecbed6ef",
   "metadata": {},
   "outputs": [
    {
     "name": "stdout",
     "output_type": "stream",
     "text": [
      "count          10000\n",
      "unique          1620\n",
      "top       Washington\n",
      "freq             111\n",
      "Name: County, dtype: object\n",
      "missing values= 0\n"
     ]
    }
   ],
   "source": [
    "#no issues\n",
    "print_desc(\"County\")"
   ]
  },
  {
   "cell_type": "code",
   "execution_count": 18,
   "id": "3ec9fe2f",
   "metadata": {},
   "outputs": [
    {
     "name": "stdout",
     "output_type": "stream",
     "text": [
      "count    10000.000000\n",
      "mean     49153.319600\n",
      "std      27532.196108\n",
      "min        601.000000\n",
      "25%      26292.500000\n",
      "50%      48869.500000\n",
      "75%      71866.500000\n",
      "max      99929.000000\n",
      "Name: Zip, dtype: float64\n",
      "missing values= 0\n"
     ]
    }
   ],
   "source": [
    "# there's a problem here because this should be an int. Note the min value!\n",
    "print_desc(\"Zip\")"
   ]
  },
  {
   "cell_type": "code",
   "execution_count": 19,
   "id": "6ef7f892",
   "metadata": {
    "scrolled": true
   },
   "outputs": [
    {
     "name": "stdout",
     "output_type": "stream",
     "text": [
      "count    10000.000000\n",
      "mean        38.757567\n",
      "std          5.437389\n",
      "min         17.966120\n",
      "25%         35.341828\n",
      "50%         39.395800\n",
      "75%         42.106908\n",
      "max         70.640660\n",
      "Name: Lat, dtype: float64\n",
      "missing values= 0\n"
     ]
    }
   ],
   "source": [
    "#looks good\n",
    "print_desc(\"Lat\")"
   ]
  },
  {
   "cell_type": "code",
   "execution_count": 20,
   "id": "98d27f57",
   "metadata": {},
   "outputs": [
    {
     "name": "stdout",
     "output_type": "stream",
     "text": [
      "count    10000.000000\n",
      "mean       -90.782536\n",
      "std         15.156142\n",
      "min       -171.688150\n",
      "25%        -97.082812\n",
      "50%        -87.918800\n",
      "75%        -80.088745\n",
      "max        -65.667850\n",
      "Name: Lng, dtype: float64\n",
      "missing values= 0\n"
     ]
    }
   ],
   "source": [
    "#looks good\n",
    "print_desc(\"Lng\")"
   ]
  },
  {
   "cell_type": "code",
   "execution_count": 21,
   "id": "26777647",
   "metadata": {
    "scrolled": true
   },
   "outputs": [
    {
     "name": "stdout",
     "output_type": "stream",
     "text": [
      "count     10000.000000\n",
      "mean       9756.562400\n",
      "std       14432.698671\n",
      "min           0.000000\n",
      "25%         738.000000\n",
      "50%        2910.500000\n",
      "75%       13168.000000\n",
      "max      111850.000000\n",
      "Name: Population, dtype: float64\n",
      "missing values= 0\n"
     ]
    },
    {
     "data": {
      "image/png": "[encoded data removed]",
      "text/plain": [
       "<Figure size 432x288 with 1 Axes>"
      ]
     },
     "metadata": {
      "needs_background": "light"
     },
     "output_type": "display_data"
    }
   ],
   "source": [
    "\n",
    "#this could be bad data. There is 6000 places with 0 population according to census.\n",
    "#change this to int\n",
    "\n",
    "print_desc(\"Population\")\n",
    "plot_hist(\"Population\",20)"
   ]
  },
  {
   "cell_type": "code",
   "execution_count": 22,
   "id": "f4acf1fa",
   "metadata": {
    "scrolled": true
   },
   "outputs": [
    {
     "name": "stdout",
     "output_type": "stream",
     "text": [
      "count        10000\n",
      "unique           3\n",
      "top       Suburban\n",
      "freq          3346\n",
      "Name: Area, dtype: object\n",
      "missing values= 0\n"
     ]
    },
    {
     "data": {
      "image/png": "[encoded data removed]",
      "text/plain": [
       "<Figure size 432x288 with 1 Axes>"
      ]
     },
     "metadata": {
      "needs_background": "light"
     },
     "output_type": "display_data"
    }
   ],
   "source": [
    "#looks good. Equal distribution.\n",
    "print_desc(\"Area\")\n",
    "plot_hist(\"Area\",5)"
   ]
  },
  {
   "cell_type": "code",
   "execution_count": 23,
   "id": "14ce7e68",
   "metadata": {},
   "outputs": [
    {
     "name": "stdout",
     "output_type": "stream",
     "text": [
      "count                10000\n",
      "unique                  25\n",
      "top       America/New_York\n",
      "freq                  4072\n",
      "Name: Timezone, dtype: object\n",
      "missing values= 0\n"
     ]
    },
    {
     "data": {
      "text/plain": [
       "America/New_York                  4072\n",
       "America/Chicago                   3672\n",
       "America/Los_Angeles                887\n",
       "America/Denver                     552\n",
       "America/Detroit                    265\n",
       "America/Indiana/Indianapolis       186\n",
       "America/Phoenix                    104\n",
       "America/Boise                       57\n",
       "America/Anchorage                   55\n",
       "America/Puerto_Rico                 40\n",
       "Pacific/Honolulu                    35\n",
       "America/Menominee                   16\n",
       "America/Nome                        12\n",
       "America/Kentucky/Louisville         10\n",
       "America/Sitka                        8\n",
       "America/Indiana/Vincennes            6\n",
       "America/Indiana/Tell_City            6\n",
       "America/Toronto                      5\n",
       "America/Indiana/Petersburg           4\n",
       "America/Juneau                       2\n",
       "America/North_Dakota/New_Salem       2\n",
       "America/Indiana/Knox                 1\n",
       "America/Indiana/Winamac              1\n",
       "America/Indiana/Marengo              1\n",
       "America/Ojinaga                      1\n",
       "Name: Timezone, dtype: int64"
      ]
     },
     "execution_count": 23,
     "metadata": {},
     "output_type": "execute_result"
    }
   ],
   "source": [
    "# something wrong. There should only be 24 timezones!\n",
    "print_desc(\"Timezone\")\n",
    "df[\"Timezone\"].value_counts()"
   ]
  },
  {
   "cell_type": "code",
   "execution_count": 24,
   "id": "aadadda4",
   "metadata": {},
   "outputs": [
    {
     "name": "stdout",
     "output_type": "stream",
     "text": [
      "count                         10000\n",
      "unique                          639\n",
      "top       Occupational psychologist\n",
      "freq                             30\n",
      "Name: Job, dtype: object\n",
      "missing values= 0\n"
     ]
    }
   ],
   "source": [
    "#looks good\n",
    "print_desc(\"Job\")"
   ]
  },
  {
   "cell_type": "code",
   "execution_count": 25,
   "id": "0e464af1",
   "metadata": {},
   "outputs": [
    {
     "name": "stdout",
     "output_type": "stream",
     "text": [
      "count    7505.000000\n",
      "mean        2.095936\n",
      "std         2.154758\n",
      "min         0.000000\n",
      "25%         0.000000\n",
      "50%         1.000000\n",
      "75%         3.000000\n",
      "max        10.000000\n",
      "Name: Children, dtype: float64\n",
      "missing values= 2495\n"
     ]
    },
    {
     "data": {
      "image/png": "[encoded data removed]",
      "text/plain": [
       "<Figure size 432x288 with 1 Axes>"
      ]
     },
     "metadata": {
      "needs_background": "light"
     },
     "output_type": "display_data"
    }
   ],
   "source": [
    "#lots of missing values change to int and impute\n",
    "print_desc(\"Children\")\n",
    "plot_hist(\"Children\",20)"
   ]
  },
  {
   "cell_type": "code",
   "execution_count": 26,
   "id": "c1e00cd8",
   "metadata": {},
   "outputs": [
    {
     "name": "stdout",
     "output_type": "stream",
     "text": [
      "count    7525.000000\n",
      "mean       53.275748\n",
      "std        20.753928\n",
      "min        18.000000\n",
      "25%        35.000000\n",
      "50%        53.000000\n",
      "75%        71.000000\n",
      "max        89.000000\n",
      "Name: Age, dtype: float64\n",
      "missing values= 2475\n"
     ]
    },
    {
     "data": {
      "image/png": "[encoded data removed]",
      "text/plain": [
       "<Figure size 432x288 with 1 Axes>"
      ]
     },
     "metadata": {
      "needs_background": "light"
     },
     "output_type": "display_data"
    }
   ],
   "source": [
    "#lots of missing values change to int and impute.\n",
    "print_desc(\"Age\")\n",
    "plot_hist(\"Age\",100)"
   ]
  },
  {
   "cell_type": "code",
   "execution_count": 27,
   "id": "9588da2d",
   "metadata": {},
   "outputs": [
    {
     "name": "stdout",
     "output_type": "stream",
     "text": [
      "count                           10000\n",
      "unique                             12\n",
      "top       Regular High School Diploma\n",
      "freq                             2421\n",
      "Name: Education, dtype: object\n",
      "missing values= 0\n"
     ]
    },
    {
     "data": {
      "image/png": "[encoded data removed]",
      "text/plain": [
       "<Figure size 432x288 with 1 Axes>"
      ]
     },
     "metadata": {
      "needs_background": "light"
     },
     "output_type": "display_data"
    }
   ],
   "source": [
    "#looks good\n",
    "print_desc(\"Education\")\n",
    "plot_hist(\"Education\",30,True)"
   ]
  },
  {
   "cell_type": "code",
   "execution_count": 28,
   "id": "61a447ac",
   "metadata": {
    "scrolled": true
   },
   "outputs": [
    {
     "name": "stdout",
     "output_type": "stream",
     "text": [
      "count         10000\n",
      "unique            5\n",
      "top       Full Time\n",
      "freq           5992\n",
      "Name: Employment, dtype: object\n",
      "missing values= 0\n"
     ]
    },
    {
     "data": {
      "image/png": "[encoded data removed]",
      "text/plain": [
       "<Figure size 432x288 with 1 Axes>"
      ]
     },
     "metadata": {
      "needs_background": "light"
     },
     "output_type": "display_data"
    }
   ],
   "source": [
    "#looks good\n",
    "print_desc(\"Employment\")\n",
    "plot_hist(\"Employment\",10)"
   ]
  },
  {
   "cell_type": "code",
   "execution_count": 29,
   "id": "32ed62b4",
   "metadata": {
    "scrolled": true
   },
   "outputs": [
    {
     "name": "stdout",
     "output_type": "stream",
     "text": [
      "count      7510.000000\n",
      "mean      39936.762226\n",
      "std       28358.469482\n",
      "min         740.660000\n",
      "25%       19285.522500\n",
      "50%       33186.785000\n",
      "75%       53472.395000\n",
      "max      258900.700000\n",
      "Name: Income, dtype: float64\n",
      "missing values= 2490\n"
     ]
    },
    {
     "data": {
      "image/png": "[encoded data removed]",
      "text/plain": [
       "<Figure size 432x288 with 1 Axes>"
      ]
     },
     "metadata": {
      "needs_background": "light"
     },
     "output_type": "display_data"
    }
   ],
   "source": [
    "#this is bad data because there is so many missing values.\n",
    "print_desc(\"Income\")\n",
    "plot_hist(\"Income\",50)"
   ]
  },
  {
   "cell_type": "code",
   "execution_count": 30,
   "id": "753bc385",
   "metadata": {},
   "outputs": [
    {
     "name": "stdout",
     "output_type": "stream",
     "text": [
      "count        10000\n",
      "unique           5\n",
      "top       Divorced\n",
      "freq          2092\n",
      "Name: Marital, dtype: object\n",
      "missing values= 0\n",
      "Divorced         2092\n",
      "Widowed          2027\n",
      "Separated        2014\n",
      "Never Married    1956\n",
      "Married          1911\n",
      "Name: Marital, dtype: int64\n"
     ]
    }
   ],
   "source": [
    "#looks good\n",
    "print_desc(\"Marital\")\n",
    "print_counts(\"Marital\")"
   ]
  },
  {
   "cell_type": "code",
   "execution_count": 31,
   "id": "88440caa",
   "metadata": {},
   "outputs": [
    {
     "name": "stdout",
     "output_type": "stream",
     "text": [
      "count      10000\n",
      "unique         3\n",
      "top       Female\n",
      "freq        5025\n",
      "Name: Gender, dtype: object\n",
      "missing values= 0\n",
      "Female                  5025\n",
      "Male                    4744\n",
      "Prefer not to answer     231\n",
      "Name: Gender, dtype: int64\n"
     ]
    }
   ],
   "source": [
    "#looks good\n",
    "print_desc(\"Gender\")\n",
    "print_counts(\"Gender\")"
   ]
  },
  {
   "cell_type": "code",
   "execution_count": 32,
   "id": "ced742e0",
   "metadata": {},
   "outputs": [
    {
     "name": "stdout",
     "output_type": "stream",
     "text": [
      "count     10000\n",
      "unique        2\n",
      "top          No\n",
      "freq       7350\n",
      "Name: Churn, dtype: object\n",
      "missing values= 0\n",
      "No     7350\n",
      "Yes    2650\n",
      "Name: Churn, dtype: int64\n"
     ]
    }
   ],
   "source": [
    "#looks good\n",
    "print_desc(\"Churn\")\n",
    "print_counts(\"Churn\")"
   ]
  },
  {
   "cell_type": "code",
   "execution_count": 33,
   "id": "69e4ea22",
   "metadata": {},
   "outputs": [
    {
     "name": "stdout",
     "output_type": "stream",
     "text": [
      "count    10000.000000\n",
      "mean        11.452955\n",
      "std          7.025921\n",
      "min         -1.348571\n",
      "25%          8.054362\n",
      "50%         10.202896\n",
      "75%         12.487644\n",
      "max         47.049280\n",
      "Name: Outage_sec_perweek, dtype: float64\n",
      "missing values= 0\n"
     ]
    },
    {
     "data": {
      "image/png": "[encoded data removed]",
      "text/plain": [
       "<Figure size 432x288 with 1 Axes>"
      ]
     },
     "metadata": {
      "needs_background": "light"
     },
     "output_type": "display_data"
    },
    {
     "name": "stdout",
     "output_type": "stream",
     "text": [
      "number of outliers= 491\n",
      "\n",
      " Z-score of outliers= \n",
      "28      4.622272\n",
      "36      4.735879\n",
      "40      3.907495\n",
      "61      4.046782\n",
      "130     4.020157\n",
      "          ...   \n",
      "9894    4.703786\n",
      "9895    4.160788\n",
      "9907    3.853321\n",
      "9945    3.968939\n",
      "9950    4.201985\n",
      "Name: zscore, Length: 491, dtype: float64\n"
     ]
    }
   ],
   "source": [
    "#need to drop the rows with negative values\n",
    "print_desc(\"Outage_sec_perweek\")\n",
    "plot_hist(\"Outage_sec_perweek\",50)\n",
    "get_outliers_z(\"Outage_sec_perweek\")"
   ]
  },
  {
   "cell_type": "code",
   "execution_count": 34,
   "id": "df5effc2",
   "metadata": {},
   "outputs": [
    {
     "name": "stdout",
     "output_type": "stream",
     "text": [
      "count    10000.000000\n",
      "mean        12.016000\n",
      "std          3.025898\n",
      "min          1.000000\n",
      "25%         10.000000\n",
      "50%         12.000000\n",
      "75%         14.000000\n",
      "max         23.000000\n",
      "Name: Email, dtype: float64\n",
      "missing values= 0\n"
     ]
    }
   ],
   "source": [
    "#looks good\n",
    "print_desc(\"Email\")"
   ]
  },
  {
   "cell_type": "code",
   "execution_count": 35,
   "id": "cb84414d",
   "metadata": {},
   "outputs": [
    {
     "name": "stdout",
     "output_type": "stream",
     "text": [
      "count    10000.000000\n",
      "mean         0.994200\n",
      "std          0.988466\n",
      "min          0.000000\n",
      "25%          0.000000\n",
      "50%          1.000000\n",
      "75%          2.000000\n",
      "max          7.000000\n",
      "Name: Contacts, dtype: float64\n",
      "missing values= 0\n"
     ]
    }
   ],
   "source": [
    "#looks good but change this to int!\n",
    "print_desc(\"Contacts\")"
   ]
  },
  {
   "cell_type": "code",
   "execution_count": 36,
   "id": "db337097",
   "metadata": {},
   "outputs": [
    {
     "name": "stdout",
     "output_type": "stream",
     "text": [
      "count    10000.000000\n",
      "mean         0.398000\n",
      "std          0.635953\n",
      "min          0.000000\n",
      "25%          0.000000\n",
      "50%          0.000000\n",
      "75%          1.000000\n",
      "max          6.000000\n",
      "Name: Yearly_equip_failure, dtype: float64\n",
      "missing values= 0\n"
     ]
    }
   ],
   "source": [
    "#looks good but change this to Int!\n",
    "print_desc(\"Yearly_equip_failure\")"
   ]
  },
  {
   "cell_type": "code",
   "execution_count": 37,
   "id": "44974714",
   "metadata": {},
   "outputs": [
    {
     "name": "stdout",
     "output_type": "stream",
     "text": [
      "count     7523\n",
      "unique       2\n",
      "top         No\n",
      "freq      6266\n",
      "Name: Techie, dtype: object\n",
      "missing values= 2477\n"
     ]
    }
   ],
   "source": [
    "#lots of missing values. Need to impute\n",
    "print_desc(\"Techie\")"
   ]
  },
  {
   "cell_type": "code",
   "execution_count": 38,
   "id": "cf6383c0",
   "metadata": {},
   "outputs": [
    {
     "name": "stdout",
     "output_type": "stream",
     "text": [
      "count              10000\n",
      "unique                 3\n",
      "top       Month-to-month\n",
      "freq                5456\n",
      "Name: Contract, dtype: object\n",
      "missing values= 0\n",
      "Month-to-month    5456\n",
      "Two Year          2442\n",
      "One year          2102\n",
      "Name: Contract, dtype: int64\n"
     ]
    }
   ],
   "source": [
    "#looks good\n",
    "print_desc(\"Contract\")\n",
    "print_counts(\"Contract\")"
   ]
  },
  {
   "cell_type": "code",
   "execution_count": 39,
   "id": "3f227c0b",
   "metadata": {},
   "outputs": [
    {
     "name": "stdout",
     "output_type": "stream",
     "text": [
      "count     10000\n",
      "unique        2\n",
      "top          No\n",
      "freq       5166\n",
      "Name: Port_modem, dtype: object\n",
      "missing values= 0\n"
     ]
    }
   ],
   "source": [
    "#looks good\n",
    "print_desc(\"Port_modem\")"
   ]
  },
  {
   "cell_type": "code",
   "execution_count": 40,
   "id": "f3d7d0b6",
   "metadata": {},
   "outputs": [
    {
     "name": "stdout",
     "output_type": "stream",
     "text": [
      "count     10000\n",
      "unique        2\n",
      "top          No\n",
      "freq       7009\n",
      "Name: Tablet, dtype: object\n",
      "missing values= 0\n"
     ]
    }
   ],
   "source": [
    "#looks good\n",
    "print_desc(\"Tablet\")"
   ]
  },
  {
   "cell_type": "code",
   "execution_count": 41,
   "id": "b83e547a",
   "metadata": {},
   "outputs": [
    {
     "name": "stdout",
     "output_type": "stream",
     "text": [
      "count           10000\n",
      "unique              3\n",
      "top       Fiber Optic\n",
      "freq             4408\n",
      "Name: InternetService, dtype: object\n",
      "missing values= 0\n",
      "Fiber Optic    4408\n",
      "DSL            3463\n",
      "None           2129\n",
      "Name: InternetService, dtype: int64\n"
     ]
    }
   ],
   "source": [
    "#looks good\n",
    "print_desc(\"InternetService\")\n",
    "print_counts(\"InternetService\")"
   ]
  },
  {
   "cell_type": "code",
   "execution_count": 42,
   "id": "fe1dd8da",
   "metadata": {},
   "outputs": [
    {
     "name": "stdout",
     "output_type": "stream",
     "text": [
      "count     8974\n",
      "unique       2\n",
      "top        Yes\n",
      "freq      8128\n",
      "Name: Phone, dtype: object\n",
      "missing values= 1026\n",
      "Yes    8128\n",
      "No      846\n",
      "Name: Phone, dtype: int64\n"
     ]
    }
   ],
   "source": [
    "#missing a lot of values\n",
    "print_desc(\"Phone\")\n",
    "print_counts(\"Phone\")"
   ]
  },
  {
   "cell_type": "code",
   "execution_count": 43,
   "id": "6dee8355",
   "metadata": {},
   "outputs": [
    {
     "name": "stdout",
     "output_type": "stream",
     "text": [
      "count     10000\n",
      "unique        2\n",
      "top          No\n",
      "freq       5392\n",
      "Name: Multiple, dtype: object\n",
      "missing values= 0\n",
      "No     5392\n",
      "Yes    4608\n",
      "Name: Multiple, dtype: int64\n"
     ]
    }
   ],
   "source": [
    "#looks good\n",
    "print_desc(\"Multiple\")\n",
    "print_counts(\"Multiple\")"
   ]
  },
  {
   "cell_type": "code",
   "execution_count": 44,
   "id": "715a81c6",
   "metadata": {},
   "outputs": [
    {
     "name": "stdout",
     "output_type": "stream",
     "text": [
      "count     10000\n",
      "unique        2\n",
      "top          No\n",
      "freq       6424\n",
      "Name: OnlineSecurity, dtype: object\n",
      "missing values= 0\n",
      "No     6424\n",
      "Yes    3576\n",
      "Name: OnlineSecurity, dtype: int64\n"
     ]
    }
   ],
   "source": [
    "#looks good\n",
    "print_desc(\"OnlineSecurity\")\n",
    "print_counts(\"OnlineSecurity\")"
   ]
  },
  {
   "cell_type": "code",
   "execution_count": 45,
   "id": "b8b9f7d9",
   "metadata": {},
   "outputs": [
    {
     "name": "stdout",
     "output_type": "stream",
     "text": [
      "count     10000\n",
      "unique        2\n",
      "top          No\n",
      "freq       5614\n",
      "Name: DeviceProtection, dtype: object\n",
      "missing values= 0\n",
      "No     5614\n",
      "Yes    4386\n",
      "Name: DeviceProtection, dtype: int64\n"
     ]
    }
   ],
   "source": [
    "#looks good\n",
    "print_desc(\"DeviceProtection\")\n",
    "print_counts(\"DeviceProtection\")"
   ]
  },
  {
   "cell_type": "code",
   "execution_count": 46,
   "id": "feec314d",
   "metadata": {},
   "outputs": [
    {
     "name": "stdout",
     "output_type": "stream",
     "text": [
      "count     9009\n",
      "unique       2\n",
      "top         No\n",
      "freq      5635\n",
      "Name: TechSupport, dtype: object\n",
      "missing values= 991\n",
      "No     5635\n",
      "Yes    3374\n",
      "Name: TechSupport, dtype: int64\n"
     ]
    }
   ],
   "source": [
    "#lots of missing values here\n",
    "print_desc(\"TechSupport\")\n",
    "print_counts(\"TechSupport\")"
   ]
  },
  {
   "cell_type": "code",
   "execution_count": 47,
   "id": "10ffe239",
   "metadata": {},
   "outputs": [
    {
     "name": "stdout",
     "output_type": "stream",
     "text": [
      "count     10000\n",
      "unique        2\n",
      "top          No\n",
      "freq       5071\n",
      "Name: StreamingTV, dtype: object\n",
      "missing values= 0\n",
      "No     5071\n",
      "Yes    4929\n",
      "Name: StreamingTV, dtype: int64\n"
     ]
    }
   ],
   "source": [
    "#looks good\n",
    "print_desc(\"StreamingTV\")\n",
    "print_counts(\"StreamingTV\")"
   ]
  },
  {
   "cell_type": "code",
   "execution_count": 48,
   "id": "026ace3b",
   "metadata": {},
   "outputs": [
    {
     "name": "stdout",
     "output_type": "stream",
     "text": [
      "count     10000\n",
      "unique        2\n",
      "top          No\n",
      "freq       5110\n",
      "Name: StreamingMovies, dtype: object\n",
      "missing values= 0\n",
      "No     5110\n",
      "Yes    4890\n",
      "Name: StreamingMovies, dtype: int64\n"
     ]
    }
   ],
   "source": [
    "#looks good\n",
    "print_desc(\"StreamingMovies\")\n",
    "print_counts(\"StreamingMovies\")"
   ]
  },
  {
   "cell_type": "code",
   "execution_count": 49,
   "id": "a879169d",
   "metadata": {},
   "outputs": [
    {
     "name": "stdout",
     "output_type": "stream",
     "text": [
      "count     10000\n",
      "unique        2\n",
      "top         Yes\n",
      "freq       5882\n",
      "Name: PaperlessBilling, dtype: object\n",
      "missing values= 0\n",
      "Yes    5882\n",
      "No     4118\n",
      "Name: PaperlessBilling, dtype: int64\n"
     ]
    }
   ],
   "source": [
    "#looks good\n",
    "print_desc(\"PaperlessBilling\")\n",
    "print_counts(\"PaperlessBilling\")"
   ]
  },
  {
   "cell_type": "code",
   "execution_count": 50,
   "id": "f840817c",
   "metadata": {},
   "outputs": [
    {
     "name": "stdout",
     "output_type": "stream",
     "text": [
      "count                10000\n",
      "unique                   4\n",
      "top       Electronic Check\n",
      "freq                  3398\n",
      "Name: PaymentMethod, dtype: object\n",
      "missing values= 0\n",
      "Electronic Check            3398\n",
      "Mailed Check                2290\n",
      "Bank Transfer(automatic)    2229\n",
      "Credit Card (automatic)     2083\n",
      "Name: PaymentMethod, dtype: int64\n"
     ]
    }
   ],
   "source": [
    "#looks good\n",
    "print_desc(\"PaymentMethod\")\n",
    "print_counts(\"PaymentMethod\")"
   ]
  },
  {
   "cell_type": "code",
   "execution_count": 51,
   "id": "faf01a6a",
   "metadata": {},
   "outputs": [
    {
     "name": "stdout",
     "output_type": "stream",
     "text": [
      "count    9069.000000\n",
      "mean       34.498858\n",
      "std        26.438904\n",
      "min         1.000259\n",
      "25%         7.890442\n",
      "50%        36.196030\n",
      "75%        61.426670\n",
      "max        71.999280\n",
      "Name: Tenure, dtype: float64\n",
      "missing values= 931\n"
     ]
    }
   ],
   "source": [
    "#lots of missing values!\n",
    "print_desc(\"Tenure\")"
   ]
  },
  {
   "cell_type": "code",
   "execution_count": 52,
   "id": "f3e0918c",
   "metadata": {},
   "outputs": [
    {
     "name": "stdout",
     "output_type": "stream",
     "text": [
      "count    10000.000000\n",
      "mean       174.076305\n",
      "std         43.335473\n",
      "min         77.505230\n",
      "25%        141.071078\n",
      "50%        169.915400\n",
      "75%        203.777441\n",
      "max        315.878600\n",
      "Name: MonthlyCharge, dtype: float64\n",
      "missing values= 0\n"
     ]
    }
   ],
   "source": [
    "#looks good\n",
    "print_desc(\"MonthlyCharge\")"
   ]
  },
  {
   "cell_type": "code",
   "execution_count": 53,
   "id": "66483002",
   "metadata": {},
   "outputs": [
    {
     "name": "stdout",
     "output_type": "stream",
     "text": [
      "count    8979.000000\n",
      "mean     3398.842752\n",
      "std      2187.396807\n",
      "min       155.506715\n",
      "25%      1234.110529\n",
      "50%      3382.424000\n",
      "75%      5587.096500\n",
      "max      7158.982000\n",
      "Name: Bandwidth_GB_Year, dtype: float64\n",
      "missing values= 1021\n"
     ]
    }
   ],
   "source": [
    "#lots of missing values here!\n",
    "print_desc(\"Bandwidth_GB_Year\")"
   ]
  },
  {
   "cell_type": "code",
   "execution_count": 54,
   "id": "51eff203",
   "metadata": {},
   "outputs": [
    {
     "name": "stdout",
     "output_type": "stream",
     "text": [
      "count    10000.000000\n",
      "mean         3.490800\n",
      "std          1.037797\n",
      "min          1.000000\n",
      "25%          3.000000\n",
      "50%          3.000000\n",
      "75%          4.000000\n",
      "max          7.000000\n",
      "Name: item1, dtype: float64\n",
      "missing values= 0\n"
     ]
    }
   ],
   "source": [
    "#looks good but change to int\n",
    "print_desc(\"item1\")"
   ]
  },
  {
   "cell_type": "code",
   "execution_count": 55,
   "id": "1049d39d",
   "metadata": {},
   "outputs": [
    {
     "name": "stdout",
     "output_type": "stream",
     "text": [
      "count    10000.000000\n",
      "mean         3.505100\n",
      "std          1.034641\n",
      "min          1.000000\n",
      "25%          3.000000\n",
      "50%          4.000000\n",
      "75%          4.000000\n",
      "max          7.000000\n",
      "Name: item2, dtype: float64\n",
      "missing values= 0\n"
     ]
    }
   ],
   "source": [
    "#looks good but change to int\n",
    "print_desc(\"item2\")"
   ]
  },
  {
   "cell_type": "code",
   "execution_count": 56,
   "id": "4ae4056c",
   "metadata": {},
   "outputs": [
    {
     "name": "stdout",
     "output_type": "stream",
     "text": [
      "count    10000.000000\n",
      "mean         3.487000\n",
      "std          1.027977\n",
      "min          1.000000\n",
      "25%          3.000000\n",
      "50%          3.000000\n",
      "75%          4.000000\n",
      "max          8.000000\n",
      "Name: item3, dtype: float64\n",
      "missing values= 0\n"
     ]
    }
   ],
   "source": [
    "#looks good but change to int\n",
    "print_desc(\"item3\")"
   ]
  },
  {
   "cell_type": "code",
   "execution_count": 57,
   "id": "ad227411",
   "metadata": {},
   "outputs": [
    {
     "name": "stdout",
     "output_type": "stream",
     "text": [
      "count    10000.000000\n",
      "mean         3.497500\n",
      "std          1.025816\n",
      "min          1.000000\n",
      "25%          3.000000\n",
      "50%          3.000000\n",
      "75%          4.000000\n",
      "max          7.000000\n",
      "Name: item4, dtype: float64\n",
      "missing values= 0\n"
     ]
    }
   ],
   "source": [
    "#looks good but change to int\n",
    "print_desc(\"item4\")"
   ]
  },
  {
   "cell_type": "code",
   "execution_count": 58,
   "id": "05651d14",
   "metadata": {},
   "outputs": [
    {
     "name": "stdout",
     "output_type": "stream",
     "text": [
      "count    10000.000000\n",
      "mean         3.492900\n",
      "std          1.024819\n",
      "min          1.000000\n",
      "25%          3.000000\n",
      "50%          3.000000\n",
      "75%          4.000000\n",
      "max          7.000000\n",
      "Name: item5, dtype: float64\n",
      "missing values= 0\n"
     ]
    }
   ],
   "source": [
    "#looks good but change to int\n",
    "print_desc(\"item5\")"
   ]
  },
  {
   "cell_type": "code",
   "execution_count": 59,
   "id": "60f3a2c9",
   "metadata": {},
   "outputs": [
    {
     "name": "stdout",
     "output_type": "stream",
     "text": [
      "count    10000.000000\n",
      "mean         3.497300\n",
      "std          1.033586\n",
      "min          1.000000\n",
      "25%          3.000000\n",
      "50%          3.000000\n",
      "75%          4.000000\n",
      "max          8.000000\n",
      "Name: item6, dtype: float64\n",
      "missing values= 0\n"
     ]
    }
   ],
   "source": [
    "#looks good but change to int\n",
    "print_desc(\"item6\")"
   ]
  },
  {
   "cell_type": "code",
   "execution_count": 60,
   "id": "b7737c2a",
   "metadata": {},
   "outputs": [
    {
     "name": "stdout",
     "output_type": "stream",
     "text": [
      "count    10000.000000\n",
      "mean         3.509500\n",
      "std          1.028502\n",
      "min          1.000000\n",
      "25%          3.000000\n",
      "50%          4.000000\n",
      "75%          4.000000\n",
      "max          7.000000\n",
      "Name: item7, dtype: float64\n",
      "missing values= 0\n"
     ]
    }
   ],
   "source": [
    "#looks good but change to int\n",
    "print_desc(\"item7\")"
   ]
  },
  {
   "cell_type": "code",
   "execution_count": 61,
   "id": "cacf4fd1",
   "metadata": {},
   "outputs": [
    {
     "name": "stdout",
     "output_type": "stream",
     "text": [
      "count    10000.000000\n",
      "mean         3.495600\n",
      "std          1.028633\n",
      "min          1.000000\n",
      "25%          3.000000\n",
      "50%          3.000000\n",
      "75%          4.000000\n",
      "max          8.000000\n",
      "Name: item8, dtype: float64\n",
      "missing values= 0\n"
     ]
    }
   ],
   "source": [
    "#looks good but change to int\n",
    "print_desc(\"item8\")"
   ]
  },
  {
   "cell_type": "markdown",
   "id": "2d4e64da",
   "metadata": {},
   "source": [
    "# CLEAN UP STEPS"
   ]
  },
  {
   "cell_type": "markdown",
   "id": "db5f1694-36b9-4c98-8e19-36c0ebf28f88",
   "metadata": {},
   "source": [
    "  # D\n",
    "   ## 1)\n",
    "    Duplicate rows:\n",
    "     I could not find any duplicate rows based on the columns 'Customer_id'.\n",
    "\n",
    "    Missing values:\n",
    "      I found missing values in the columns 'Children', 'Age', 'Income', 'Techie','Phone','TechSupport','Tenure','Bandwith_GB_Year'.\n",
    "\n",
    "    Outliers and anomalies:\n",
    "       While z-scores and IQR analysis of many columns showed that there were outliers, I have decided that not all things have a normal distribution and the values seemed reasonable. The only column that has data anomalies is 'Outage_sec_per_week' which has negative values that should be cleaned up.\n",
    "\n",
    "    \n",
    "    "
   ]
  },
  {
   "cell_type": "markdown",
   "id": "969c8fab-be91-4c42-b5d7-be6bd24dbc39",
   "metadata": {
    "jp-MarkdownHeadingCollapsed": true
   },
   "source": [
    "## 2)\n",
    "\n",
    "        There were no duplicate rows according to my criteria so nothing will be done there. Missing values will be imputed using various techniques. I think this will preserve the data integrity better than dropping the rows with missing values. Dropping the rows would significantly affect the data set because some columns have thousands of missing values. The method used varies based on the column so I have provided a justification and summary for each column next to the annotated code cell.\n",
    "\n",
    "\n",
    "\n",
    "### See below for detailed annotation of data cleaning above each code cell please."
   ]
  },
  {
   "cell_type": "markdown",
   "id": "0ca6ddbd-6246-484e-bda8-f81e33c357c4",
   "metadata": {},
   "source": [
    "## 3)\n",
    "\n",
    "    I was able to mitigate all the anomalies without changing the distribution significantly. The method used varies on the column so I have provided a justification and summary for each column next to the annotated code cell.\n",
    "### See below for detailed annotation of data cleaning outcome above each code cell please."
   ]
  },
  {
   "cell_type": "markdown",
   "id": "67ed0e81-2d02-4068-a405-9da6fef51c7b",
   "metadata": {},
   "source": [
    "### 4)\n",
    "\n",
    "\n",
    "### annotated clean up implementation code below."
   ]
  },
  {
   "cell_type": "markdown",
   "id": "f8077abd-bdf6-4355-bff8-0582a81907fb",
   "metadata": {},
   "source": [
    "### 5) \n",
    "cleaned .csv file will be attached as separate file. "
   ]
  },
  {
   "cell_type": "markdown",
   "id": "20ca3516-9e6b-4c64-a688-e88235ae8220",
   "metadata": {},
   "source": [
    " ### children\n",
    "\n",
    " #### justification\n",
    "       I used the bfill() and ffill() function to fill in the missing values because I believe it distributes the missing values more equally than using the mode or median. I can not use the interpolate() function because it would input floats into the missing values and we can't have 1.5 children. I changed the data type to int because children are more accurately described as integers.\n",
    "\n",
    " #### summarized outcome\n",
    "        This method works well and did not change the distribution significantly of the data or cause any outliers.\n",
    "  "
   ]
  },
  {
   "cell_type": "code",
   "execution_count": 62,
   "id": "1e9856c6-f1e8-43f0-94be-2a46176378b2",
   "metadata": {},
   "outputs": [
    {
     "name": "stdout",
     "output_type": "stream",
     "text": [
      "count    10000.000000\n",
      "mean         2.118900\n",
      "std          2.183859\n",
      "min          0.000000\n",
      "25%          0.000000\n",
      "50%          1.000000\n",
      "75%          3.000000\n",
      "max         10.000000\n",
      "Name: Children, dtype: float64\n",
      "missing values= 0\n"
     ]
    },
    {
     "data": {
      "image/png": "[encoded data removed]",
      "text/plain": [
       "<Figure size 432x288 with 1 Axes>"
      ]
     },
     "metadata": {
      "needs_background": "light"
     },
     "output_type": "display_data"
    }
   ],
   "source": [
    "#replace missing values in children with ffill and bffill method\n",
    "df['Children'].ffill(inplace=True)\n",
    "df['Children'].bfill(inplace=True)\n",
    "df['Children'] = df['Children'].astype(int)\n",
    "print_desc(\"Children\")\n",
    "plot_hist(\"Children\",30)"
   ]
  },
  {
   "cell_type": "markdown",
   "id": "57172401-e8f3-421d-aa84-d2721ef5a0e0",
   "metadata": {},
   "source": [
    "### Age\n",
    "\n",
    " #### justification\n",
    "       I used the bfill() and ffill() function to fill in the missing values because I believe it distributes the missing values more equally than using the mode or median. I can not use the interpolate() function because it would input floats into the missing values and we can't have 1.5 for an age. I changed the data type to int because age is more accurately described as integers.\n",
    "\n",
    " #### summarized outcome\n",
    "        This method works well and did not change the distribution significantly of the data or cause any outliers.\n",
    "  "
   ]
  },
  {
   "cell_type": "code",
   "execution_count": 63,
   "id": "790e6730-89f8-4388-8135-2a1585c7f54c",
   "metadata": {
    "scrolled": true
   },
   "outputs": [
    {
     "name": "stdout",
     "output_type": "stream",
     "text": [
      "count    10000.000000\n",
      "mean        53.274000\n",
      "std         20.774183\n",
      "min         18.000000\n",
      "25%         35.000000\n",
      "50%         53.000000\n",
      "75%         71.000000\n",
      "max         89.000000\n",
      "Name: Age, dtype: float64\n",
      "missing values= 0\n"
     ]
    },
    {
     "data": {
      "image/png": "[encoded data removed]",
      "text/plain": [
       "<Figure size 432x288 with 1 Axes>"
      ]
     },
     "metadata": {
      "needs_background": "light"
     },
     "output_type": "display_data"
    }
   ],
   "source": [
    "#replace missing values with ffill and bffill method and change type to int\n",
    "df['Age'].ffill(inplace=True)\n",
    "df['Age'].bfill(inplace=True)\n",
    "df['Age'] = df['Age'].astype(int)\n",
    "print_desc(\"Age\")\n",
    "plot_hist(\"Age\",100)"
   ]
  },
  {
   "cell_type": "markdown",
   "id": "31884b15-82cd-47e4-9619-1baa3fba879b",
   "metadata": {},
   "source": [
    "### Income\n",
    "\n",
    " #### justification\n",
    "       I used linear interpolation because this is a float and will give us the most equal distribution of missing value replacement.\n",
    "\n",
    " #### summarized outcome\n",
    "        This method works well and did not change the distribution of the data significantly or cause any outliers.\n",
    "  "
   ]
  },
  {
   "cell_type": "code",
   "execution_count": 64,
   "id": "ea051931-bcab-4b0f-8c09-fcc878052b43",
   "metadata": {},
   "outputs": [
    {
     "name": "stdout",
     "output_type": "stream",
     "text": [
      "count     10000.000000\n",
      "mean      40100.429660\n",
      "std       26748.898996\n",
      "min         740.660000\n",
      "25%       20710.382500\n",
      "50%       34377.155000\n",
      "75%       53027.285000\n",
      "max      258900.700000\n",
      "Name: Income, dtype: float64\n",
      "missing values= 0\n"
     ]
    },
    {
     "data": {
      "image/png": "[encoded data removed]",
      "text/plain": [
       "<Figure size 432x288 with 1 Axes>"
      ]
     },
     "metadata": {
      "needs_background": "light"
     },
     "output_type": "display_data"
    }
   ],
   "source": [
    "#replace missing values with linear interpolaton\n",
    "df['Income'].interpolate(method='linear', inplace=True)\n",
    "print_desc(\"Income\")\n",
    "plot_hist(\"Income\",100)"
   ]
  },
  {
   "cell_type": "markdown",
   "id": "7a00c130-e5ff-4f5b-a2be-1551b23250a8",
   "metadata": {},
   "source": [
    "### Techie\n",
    "\n",
    " #### justification\n",
    "      I replaced the missing values with 'No' because I think that techies would be more likely to check the techie box in the questionnaire than non techies. Also I think it is better for the company to treat more people as non technical unless we know otherwise.\n",
    "\n",
    " #### summarized outcome\n",
    "        This method works well and did not change the distribution of the data significantly or cause any outliers.\n",
    "  "
   ]
  },
  {
   "cell_type": "code",
   "execution_count": 65,
   "id": "38ad0edf-b82a-4ff8-8859-e7d2fb655b3f",
   "metadata": {},
   "outputs": [
    {
     "name": "stdout",
     "output_type": "stream",
     "text": [
      "count     10000\n",
      "unique        2\n",
      "top          No\n",
      "freq       8743\n",
      "Name: Techie, dtype: object\n",
      "missing values= 0\n"
     ]
    },
    {
     "data": {
      "image/png": "[encoded data removed]",
      "text/plain": [
       "<Figure size 432x288 with 1 Axes>"
      ]
     },
     "metadata": {
      "needs_background": "light"
     },
     "output_type": "display_data"
    }
   ],
   "source": [
    "#replace missing values with no\n",
    "df['Techie'] = df['Techie'].fillna(\"No\")\n",
    "print_desc(\"Techie\")\n",
    "plot_hist(\"Techie\",3)"
   ]
  },
  {
   "cell_type": "markdown",
   "id": "5cbb7dd5-61c0-44d6-b847-4e1a36b95493",
   "metadata": {},
   "source": [
    "### Phone\n",
    "\n",
    " #### justification\n",
    "      I replaced the missing values with the value from the 'Multiple' column because it logically follows that if a person has multiple lines they will have at least one phone.\n",
    "\n",
    " #### summarized outcome\n",
    "        This method works well and did not change the distribution of the data significantly or cause any outliers.\n",
    "  "
   ]
  },
  {
   "cell_type": "code",
   "execution_count": 66,
   "id": "e31c2e1b-85c4-44a8-bc89-5456a24af841",
   "metadata": {},
   "outputs": [
    {
     "name": "stdout",
     "output_type": "stream",
     "text": [
      "count     10000\n",
      "unique        2\n",
      "top         Yes\n",
      "freq       8578\n",
      "Name: Phone, dtype: object\n",
      "missing values= 0\n"
     ]
    },
    {
     "data": {
      "image/png": "[encoded data removed]",
      "text/plain": [
       "<Figure size 432x288 with 1 Axes>"
      ]
     },
     "metadata": {
      "needs_background": "light"
     },
     "output_type": "display_data"
    },
    {
     "name": "stdout",
     "output_type": "stream",
     "text": [
      "Yes    8578\n",
      "No     1422\n",
      "Name: Phone, dtype: int64\n"
     ]
    }
   ],
   "source": [
    "#impute missing values from multiple column\n",
    "df['Phone'] = df['Phone'].fillna(df['Multiple'])\n",
    "print_desc(\"Phone\")\n",
    "plot_hist(\"Phone\",3)\n",
    "print_counts(\"Phone\")\n"
   ]
  },
  {
   "cell_type": "markdown",
   "id": "a3b82a3f-91f4-40d0-8f13-9cb27b2c3ae1",
   "metadata": {},
   "source": [
    "### TechSupport\n",
    "\n",
    " #### justification\n",
    "      I replaced the missing values with the value from the 'DeviceProtection' column because it logically follows that if a person has DeviceProtection they will also have tech support.\n",
    "\n",
    " #### summarized outcome\n",
    "        This method works well and did not change the distribution of the data significantly or cause any outliers.\n",
    "  "
   ]
  },
  {
   "cell_type": "code",
   "execution_count": 67,
   "id": "278cab1c-0dfa-4c33-9d51-28ca8eb3b0dd",
   "metadata": {},
   "outputs": [
    {
     "name": "stdout",
     "output_type": "stream",
     "text": [
      "count     10000\n",
      "unique        2\n",
      "top          No\n",
      "freq       6173\n",
      "Name: TechSupport, dtype: object\n",
      "missing values= 0\n"
     ]
    },
    {
     "data": {
      "image/png": "[encoded data removed]",
      "text/plain": [
       "<Figure size 432x288 with 1 Axes>"
      ]
     },
     "metadata": {
      "needs_background": "light"
     },
     "output_type": "display_data"
    },
    {
     "name": "stdout",
     "output_type": "stream",
     "text": [
      "No     6173\n",
      "Yes    3827\n",
      "Name: TechSupport, dtype: int64\n"
     ]
    }
   ],
   "source": [
    "#impute missing values from multiple DeviceProtection column\n",
    "df['TechSupport'] = df['TechSupport'].fillna(df['DeviceProtection'])\n",
    "print_desc(\"TechSupport\")\n",
    "plot_hist(\"TechSupport\",3)\n",
    "print_counts(\"TechSupport\")"
   ]
  },
  {
   "cell_type": "markdown",
   "id": "1d219f31-5646-4b3f-ba0c-3da27d6b711a",
   "metadata": {},
   "source": [
    "### Tenure\n",
    "\n",
    " #### justification\n",
    "       I used the bfill() and ffill() function to fill in the missing values because I believe distributes it the missing values more equally than using the mode or median. I can not use the interpolate() function because it would input floats into the missing values and we can't have 1.5 for a tenure. I changed the data type to int because tenure is more accurately described as integers.\n",
    "\n",
    " #### summarized outcome\n",
    "        This method works well and did not change the distribution of the data significantly or cause any outliers.\n",
    "  "
   ]
  },
  {
   "cell_type": "code",
   "execution_count": 68,
   "id": "fe7b18b3-942d-42cf-b3dd-7772d3b24ef0",
   "metadata": {},
   "outputs": [
    {
     "name": "stdout",
     "output_type": "stream",
     "text": [
      "count    10000.000000\n",
      "mean        33.996700\n",
      "std         26.430803\n",
      "min          1.000000\n",
      "25%          7.000000\n",
      "50%         35.000000\n",
      "75%         61.000000\n",
      "max         71.000000\n",
      "Name: Tenure, dtype: float64\n",
      "missing values= 0\n"
     ]
    },
    {
     "data": {
      "image/png": "[encoded data removed]",
      "text/plain": [
       "<Figure size 432x288 with 1 Axes>"
      ]
     },
     "metadata": {
      "needs_background": "light"
     },
     "output_type": "display_data"
    }
   ],
   "source": [
    "\n",
    "#replace missing values with ffill and bffill method and change type to int\n",
    "df['Tenure'].ffill(inplace=True)\n",
    "df['Tenure'].bfill(inplace=True)\n",
    "df['Tenure'] = df['Tenure'].astype(int)\n",
    "print_desc(\"Tenure\")\n",
    "plot_hist(\"Tenure\",100)"
   ]
  },
  {
   "cell_type": "markdown",
   "id": "8d2d284b-be9d-44ca-ad12-94e71597d6fc",
   "metadata": {},
   "source": [
    "### Bandwith_GB_year\n",
    "\n",
    " #### justification\n",
    "      I used linear interpolation function to fill in the missing values because I believe distributes the missing values more equally than using the mode or median. Also it works well on floats.\n",
    " #### summarized outcome\n",
    "        This method works well and did not change the distribution of the data significantly or cause any outliers.\n",
    "  "
   ]
  },
  {
   "cell_type": "code",
   "execution_count": 69,
   "id": "24bfce7d-dbf8-4317-b604-30d344269f87",
   "metadata": {},
   "outputs": [
    {
     "name": "stdout",
     "output_type": "stream",
     "text": [
      "count    10000.000000\n",
      "mean      3394.481092\n",
      "std       2185.672391\n",
      "min        155.506715\n",
      "25%       1238.450337\n",
      "50%       3287.404879\n",
      "75%       5583.729000\n",
      "max       7158.982000\n",
      "Name: Bandwidth_GB_Year, dtype: float64\n",
      "missing values= 0\n"
     ]
    },
    {
     "data": {
      "image/png": "[encoded data removed]",
      "text/plain": [
       "<Figure size 432x288 with 1 Axes>"
      ]
     },
     "metadata": {
      "needs_background": "light"
     },
     "output_type": "display_data"
    }
   ],
   "source": [
    "#replace missing values with mode\n",
    "df['Bandwidth_GB_Year'].interpolate(method='linear', inplace=True)\n",
    "print_desc('Bandwidth_GB_Year')\n",
    "plot_hist('Bandwidth_GB_Year',30)"
   ]
  },
  {
   "cell_type": "markdown",
   "id": "c7c48f8a-6ab0-457d-8ac1-f917c3dbfa71",
   "metadata": {},
   "source": [
    "### Outage_sec_perweek\n",
    "\n",
    " #### justification\n",
    "      I transformed this data by changing the negative values to positive because I made the assumption that the negative sign was a mistake.\n",
    " #### summarized outcome\n",
    "        This method works well and did not change the distribution of the data very much or cause any outliers.\n",
    "  "
   ]
  },
  {
   "cell_type": "code",
   "execution_count": 70,
   "id": "eb7bbcab-4b31-409c-a778-7e4cb9aa8c56",
   "metadata": {},
   "outputs": [
    {
     "name": "stdout",
     "output_type": "stream",
     "text": [
      "count    10000.000000\n",
      "mean        11.454229\n",
      "std          7.023844\n",
      "min          0.113821\n",
      "25%          8.054362\n",
      "50%         10.202896\n",
      "75%         12.487644\n",
      "max         47.049280\n",
      "Name: Outage_sec_perweek, dtype: float64\n",
      "missing values= 0\n"
     ]
    },
    {
     "data": {
      "image/png": "[encoded data removed]",
      "text/plain": [
       "<Figure size 432x288 with 1 Axes>"
      ]
     },
     "metadata": {
      "needs_background": "light"
     },
     "output_type": "display_data"
    }
   ],
   "source": [
    "# make negative values positive.\n",
    "df.loc[df['Outage_sec_perweek'] < 0, 'Outage_sec_perweek'] *= -1\n",
    "print_desc(\"Outage_sec_perweek\")\n",
    "plot_hist(\"Outage_sec_perweek\",30)"
   ]
  },
  {
   "cell_type": "markdown",
   "id": "d0e5c40e-9874-4123-8da3-fc1c226425a5",
   "metadata": {},
   "source": [
    "#### all missing values have been imputed."
   ]
  },
  {
   "cell_type": "code",
   "execution_count": 71,
   "id": "6cc3bcdd-5dad-40fa-99d3-cfa4e5471402",
   "metadata": {},
   "outputs": [
    {
     "name": "stdout",
     "output_type": "stream",
     "text": [
      "CaseOrder               0\n",
      "Customer_id             0\n",
      "Interaction             0\n",
      "City                    0\n",
      "State                   0\n",
      "County                  0\n",
      "Zip                     0\n",
      "Lat                     0\n",
      "Lng                     0\n",
      "Population              0\n",
      "Area                    0\n",
      "Timezone                0\n",
      "Job                     0\n",
      "Children                0\n",
      "Age                     0\n",
      "Education               0\n",
      "Employment              0\n",
      "Income                  0\n",
      "Marital                 0\n",
      "Gender                  0\n",
      "Churn                   0\n",
      "Outage_sec_perweek      0\n",
      "Email                   0\n",
      "Contacts                0\n",
      "Yearly_equip_failure    0\n",
      "Techie                  0\n",
      "Contract                0\n",
      "Port_modem              0\n",
      "Tablet                  0\n",
      "InternetService         0\n",
      "Phone                   0\n",
      "Multiple                0\n",
      "OnlineSecurity          0\n",
      "OnlineBackup            0\n",
      "DeviceProtection        0\n",
      "TechSupport             0\n",
      "StreamingTV             0\n",
      "StreamingMovies         0\n",
      "PaperlessBilling        0\n",
      "PaymentMethod           0\n",
      "Tenure                  0\n",
      "MonthlyCharge           0\n",
      "Bandwidth_GB_Year       0\n",
      "item1                   0\n",
      "item2                   0\n",
      "item3                   0\n",
      "item4                   0\n",
      "item5                   0\n",
      "item6                   0\n",
      "item7                   0\n",
      "item8                   0\n",
      "dtype: int64\n"
     ]
    }
   ],
   "source": [
    "# Identify missing values using isna() method\n",
    "missing_values = df.isna().sum()\n",
    "print(missing_values)\n",
    "# missing values are replaced with meaningful data!"
   ]
  },
  {
   "cell_type": "markdown",
   "id": "4766dd32-fc65-41b0-8438-9315f867ed0b",
   "metadata": {},
   "source": [
    "### print cleaned data to csv file\n"
   ]
  },
  {
   "cell_type": "code",
   "execution_count": 72,
   "id": "30e6520e-e596-4b13-97cc-5833b6e47648",
   "metadata": {},
   "outputs": [],
   "source": [
    "# Print DataFrame to CSV file\n",
    "df.to_csv('clean-data.csv', index=False)"
   ]
  },
  {
   "cell_type": "markdown",
   "id": "7cb5fe50-eb18-44ce-9383-9bfceb1ac5e6",
   "metadata": {},
   "source": [
    "## 6)\n",
    "\n",
    "        Some limitations of the data cleaning process are that when a significant of values are missing, replacing them with any method changes the distribution to various degrees based on the amount of missing values. Regardless of the technique to replace the values, the missing values still skew the data. Another limitation is that without specific domain knowledge of the data set it is difficult to discrern which values are actually outliers and which are reasonable values. Z-scores and IQR techniques may indicate outliers even though the data is reasonable because the distribution for that variable is not normal."
   ]
  },
  {
   "cell_type": "markdown",
   "id": "eb2dc5c1-27fb-40ec-be47-85e60679dcc9",
   "metadata": {},
   "source": [
    "## 7)\n",
    "        The limitations summarized in part D6 will affect the analysis of the question from part A because the data had bad values that were negative or missing values. As a data analyst I have no Idea idea if they were bad values or they were just input incorrectly as negative. The approach I took for the 'Bandwithd_BG_Year' Column assumed that they just needed to be converted to positive values. If my assumption is wrong then the data will be skewed and my analysis may come to an incorrect conclusion. The missing values being imputed will change the distribution of the data. In summary, all missing data and the techniques used to clean it may have an affect on the analysis. I may come to the wrong conclusion about the correlation between the data and churn due to these limitations."
   ]
  },
  {
   "cell_type": "code",
   "execution_count": 73,
   "id": "44ec2b77-20ab-4371-be2a-2e3edd4458b7",
   "metadata": {},
   "outputs": [
    {
     "name": "stdout",
     "output_type": "stream",
     "text": [
      "23\n"
     ]
    }
   ],
   "source": [
    "from sklearn.decomposition import PCA\n",
    "import numpy as np\n",
    "data = df.select_dtypes(include='number')\n",
    "print(data.shape[1])\n",
    "#normalize data\n",
    "data_normalized=(data-data.mean())/data.std()\n",
    "#start with max components\n",
    "pca = PCA(n_components=data.shape[1])\n",
    "\n",
    "#fit pca model to our data\n",
    "pca.fit(data_normalized)\n",
    "#transform data set to 23 PCA components\n",
    "data_pca = pd.DataFrame(pca.transform(data_normalized),     \n",
    "     columns=['PC1','PC2','PC3','PC4','PC5','PC6','PC7','PC8','PC9',\n",
    "             'PC10','PC11','PC12','PC13','PC14','PC15','PC16','PC17'\n",
    "              ,'PC18','PC19','PC20','PC21','PC22','PC23'])\n",
    "\n",
    "loadings = pd.DataFrame(pca.components_.T,\n",
    "     columns=['PC1','PC2','PC3','PC4','PC5','PC6','PC7','PC8','PC9',\n",
    "             'PC10','PC11','PC12','PC13','PC14','PC15','PC16','PC17'\n",
    "              ,'PC18','PC19','PC20','PC21','PC22','PC23'],\n",
    "     index=data.columns)\n"
   ]
  },
  {
   "cell_type": "markdown",
   "id": "1af41b01-23eb-4a4e-9ee9-32e009f6a06f",
   "metadata": {},
   "source": [
    "## E\n",
    "\n",
    "1) The initial total number of principal components will be 23 because that is how many numeric fields we have."
   ]
  },
  {
   "cell_type": "code",
   "execution_count": 74,
   "id": "c27892aa-979e-4df0-86d7-e42777da7efe",
   "metadata": {},
   "outputs": [
    {
     "name": "stdout",
     "output_type": "stream",
     "text": [
      "                           PC1       PC2       PC3       PC4       PC5  \\\n",
      "CaseOrder            -0.068102  0.549513  0.007672 -0.019086 -0.003139   \n",
      "Zip                  -0.018617 -0.005785  0.701528  0.048017  0.026185   \n",
      "Lat                   0.000253 -0.014663  0.029261 -0.005662 -0.702625   \n",
      "Lng                   0.016456  0.006845 -0.704193 -0.045524  0.060469   \n",
      "Population           -0.002452 -0.003143  0.064243  0.024968  0.676147   \n",
      "Children              0.007658  0.001554 -0.023023  0.004903 -0.027425   \n",
      "Age                  -0.000914 -0.001513 -0.006815 -0.027907 -0.009010   \n",
      "Income               -0.003890  0.002557 -0.006885  0.025545 -0.067569   \n",
      "Outage_sec_perweek   -0.014176  0.008447  0.006584 -0.044679 -0.098540   \n",
      "Email                 0.009929 -0.010572 -0.011535 -0.006824  0.141244   \n",
      "Contacts             -0.008833  0.002497 -0.009559 -0.011187  0.020479   \n",
      "Yearly_equip_failure -0.008763  0.008664  0.011735  0.009791 -0.008055   \n",
      "Tenure               -0.073649  0.583390  0.004271 -0.017609  0.001432   \n",
      "MonthlyCharge        -0.002426  0.020361 -0.012593 -0.020394 -0.078836   \n",
      "Bandwidth_GB_Year    -0.075845  0.582790  0.002798 -0.016610 -0.003298   \n",
      "item1                 0.454892  0.062810 -0.018523  0.280411 -0.016155   \n",
      "item2                 0.429311  0.066833 -0.000349  0.283933 -0.020338   \n",
      "item3                 0.396671  0.060479 -0.015270  0.281480 -0.002928   \n",
      "item4                 0.145490  0.005505  0.038201 -0.568112 -0.001501   \n",
      "item5                -0.176399  0.002155 -0.038478  0.588108 -0.011632   \n",
      "item6                 0.402084  0.044857  0.036579 -0.181724  0.015303   \n",
      "item7                 0.355076  0.046686  0.021816 -0.180123 -0.015441   \n",
      "item8                 0.307262  0.027490  0.019595 -0.131573  0.041548   \n",
      "\n",
      "                           PC6       PC7       PC8       PC9      PC10  \\\n",
      "CaseOrder            -0.021666 -0.014478 -0.003224 -0.004249 -0.008287   \n",
      "Zip                   0.006505 -0.002744  0.013779 -0.011408  0.010544   \n",
      "Lat                  -0.070306 -0.012581 -0.076923 -0.068657  0.016427   \n",
      "Lng                   0.003582  0.006679  0.000151  0.023674 -0.006019   \n",
      "Population            0.089100  0.038581  0.074961  0.043044 -0.020464   \n",
      "Children             -0.003014  0.547186  0.318487 -0.401229  0.351687   \n",
      "Age                  -0.111238 -0.590742  0.314330  0.183876 -0.099857   \n",
      "Income                0.005552  0.018353  0.843962 -0.094377 -0.143550   \n",
      "Outage_sec_perweek    0.695684  0.000983  0.012362  0.034743 -0.002791   \n",
      "Email                 0.080912 -0.157577 -0.248637 -0.622327  0.073414   \n",
      "Contacts             -0.008160 -0.432691  0.082648 -0.027222  0.841219   \n",
      "Yearly_equip_failure  0.061202  0.347465 -0.018358  0.628111  0.352071   \n",
      "Tenure               -0.028210 -0.002308 -0.008083 -0.002746 -0.004149   \n",
      "MonthlyCharge         0.688219 -0.116606  0.045653 -0.006877 -0.033750   \n",
      "Bandwidth_GB_Year     0.010671  0.013676 -0.000047 -0.015832  0.003104   \n",
      "item1                 0.028526  0.001498 -0.015134  0.017091  0.017774   \n",
      "item2                 0.014320 -0.021362 -0.002504  0.004939  0.012617   \n",
      "item3                -0.012707 -0.008037 -0.030727 -0.005075 -0.021639   \n",
      "item4                -0.029965 -0.003133 -0.025586  0.020132 -0.012486   \n",
      "item5                 0.022231 -0.043670 -0.008836  0.012772 -0.005312   \n",
      "item6                 0.009965  0.011275  0.007544 -0.006755  0.021374   \n",
      "item7                -0.035240  0.000493  0.034924 -0.029367  0.034907   \n",
      "item8                 0.037082 -0.014975  0.035709  0.055998 -0.062157   \n",
      "\n",
      "                          PC11      PC12      PC13      PC14      PC15  \\\n",
      "CaseOrder             0.005837  0.005003  0.024108  0.001927  0.000034   \n",
      "Zip                   0.010722 -0.014863 -0.014877 -0.089441 -0.078884   \n",
      "Lat                  -0.004346  0.043902  0.026395  0.497787  0.471273   \n",
      "Lng                  -0.006171  0.004775  0.004997 -0.018901 -0.019507   \n",
      "Population           -0.102275 -0.024272  0.049121  0.572656  0.419173   \n",
      "Children              0.152733 -0.531204  0.056586 -0.016845  0.027228   \n",
      "Age                   0.504456 -0.470461  0.117235  0.067124  0.005289   \n",
      "Income               -0.020589  0.495539 -0.062302  0.006960 -0.015066   \n",
      "Outage_sec_perweek    0.011081  0.050227  0.696004  0.034244 -0.116866   \n",
      "Email                 0.589732  0.370233 -0.047312 -0.014293  0.075627   \n",
      "Contacts             -0.285999  0.104516  0.015462 -0.030791  0.020711   \n",
      "Yearly_equip_failure  0.528038  0.247626 -0.111555  0.019786  0.049938   \n",
      "Tenure                0.005234  0.007406  0.019020  0.005603  0.009354   \n",
      "MonthlyCharge        -0.033714 -0.186443 -0.678701 -0.003394  0.049170   \n",
      "Bandwidth_GB_Year    -0.005129 -0.005356 -0.027868 -0.002145  0.016338   \n",
      "item1                 0.002230 -0.003334 -0.004807  0.058250 -0.042129   \n",
      "item2                -0.003452 -0.016030  0.001124  0.078071 -0.076280   \n",
      "item3                 0.014485 -0.000175 -0.009631  0.118916 -0.128829   \n",
      "item4                -0.011506  0.013205 -0.024035  0.148778 -0.100512   \n",
      "item5                -0.004512 -0.005225  0.038542 -0.087897  0.097132   \n",
      "item6                 0.002678  0.019649 -0.006655  0.024338 -0.062102   \n",
      "item7                 0.000644  0.020430 -0.018491  0.079320 -0.160366   \n",
      "item8                -0.031660 -0.013779  0.107484 -0.589862  0.704431   \n",
      "\n",
      "                              PC16      PC17      PC18      PC19      PC20  \\\n",
      "CaseOrder             2.067841e-07  0.005095 -0.011857 -0.007301  0.009388   \n",
      "Zip                  -1.332284e-02 -0.012614 -0.002551 -0.003852  0.011587   \n",
      "Lat                   3.958103e-02  0.030534 -0.006826  0.013354 -0.007333   \n",
      "Lng                   2.347620e-03  0.006307  0.011544 -0.006718 -0.008718   \n",
      "Population            5.096031e-02  0.002685 -0.001064  0.000018 -0.005663   \n",
      "Children             -3.919453e-02 -0.023891  0.021253  0.019231 -0.002941   \n",
      "Age                   5.200283e-03  0.018281 -0.004641  0.002577  0.014781   \n",
      "Income               -4.812476e-02 -0.007018  0.000009  0.002197  0.006178   \n",
      "Outage_sec_perweek    7.421268e-03 -0.012551 -0.015831  0.010754 -0.004431   \n",
      "Email                -1.434084e-02 -0.015090  0.006406 -0.016645  0.001024   \n",
      "Contacts             -3.563215e-02 -0.004571 -0.026635  0.020675 -0.000356   \n",
      "Yearly_equip_failure  6.725810e-03 -0.013801 -0.001145  0.007420 -0.021069   \n",
      "Tenure               -2.842615e-03  0.005020 -0.000327 -0.000331  0.003053   \n",
      "MonthlyCharge         1.397907e-02 -0.014470  0.000111  0.019814 -0.012039   \n",
      "Bandwidth_GB_Year    -2.550413e-03  0.001553  0.000652  0.003065 -0.002154   \n",
      "item1                -1.170786e-01 -0.046998  0.024226 -0.239092  0.793282   \n",
      "item2                -1.701857e-01 -0.066792  0.070037 -0.592274 -0.572737   \n",
      "item3                -2.504580e-01 -0.148998 -0.392935  0.675206 -0.177615   \n",
      "item4                -4.758521e-01 -0.445068  0.432533  0.085988  0.018069   \n",
      "item5                 6.211556e-02 -0.207236  0.694768  0.261871 -0.042546   \n",
      "item6                 5.814521e-02  0.758196  0.402349  0.227470 -0.064539   \n",
      "item7                 8.066667e-01 -0.373943  0.068649  0.065447 -0.041517   \n",
      "item8                -1.425331e-02 -0.111579 -0.043834  0.046874 -0.042780   \n",
      "\n",
      "                          PC21      PC22      PC23  \n",
      "CaseOrder             0.831376  0.004403  0.005650  \n",
      "Zip                   0.001476 -0.699093  0.001024  \n",
      "Lat                   0.002481 -0.117875  0.001350  \n",
      "Lng                   0.006581 -0.704446  0.001065  \n",
      "Population            0.005994 -0.031013  0.001286  \n",
      "Children              0.013219  0.004408 -0.015649  \n",
      "Age                  -0.016391 -0.000219  0.013860  \n",
      "Income               -0.000826  0.000798 -0.003179  \n",
      "Outage_sec_perweek   -0.010532 -0.000649  0.005090  \n",
      "Email                -0.000695 -0.003091  0.000961  \n",
      "Contacts             -0.000818  0.002404 -0.000823  \n",
      "Yearly_equip_failure  0.006276  0.003004  0.000631  \n",
      "Tenure               -0.388821 -0.004261 -0.707958  \n",
      "MonthlyCharge         0.023126  0.002719 -0.042785  \n",
      "Bandwidth_GB_Year    -0.395220 -0.001688  0.704570  \n",
      "item1                -0.007180  0.002339  0.003522  \n",
      "item2                 0.000146  0.003528  0.000071  \n",
      "item3                 0.001464 -0.006111 -0.000131  \n",
      "item4                 0.003711  0.001767  0.001052  \n",
      "item5                 0.010836  0.003341 -0.002200  \n",
      "item6                 0.003313 -0.000563  0.001463  \n",
      "item7                -0.002192 -0.001549  0.000339  \n",
      "item8                 0.003979 -0.001991 -0.003471  \n"
     ]
    }
   ],
   "source": [
    "\n",
    "print(loadings.head(23))"
   ]
  },
  {
   "cell_type": "markdown",
   "id": "71692c3a-d976-472d-ba4b-bf5495845eed",
   "metadata": {},
   "source": [
    "## 2)\n",
    "\n",
    "  I chose to use 13 PCA components because all components beyond that have an eigenvalue of less than one. I am including plots of the eigenvalues and explained variance. I could use the elbow of the explained variance but I think the eigenvalues are more accurate.\n"
   ]
  },
  {
   "cell_type": "code",
   "execution_count": 75,
   "id": "7368849d-eeb5-484c-bef0-fad06e770a96",
   "metadata": {},
   "outputs": [
    {
     "data": {
      "image/png": "[encoded data removed]",
      "text/plain": [
       "<Figure size 432x288 with 1 Axes>"
      ]
     },
     "metadata": {
      "needs_background": "light"
     },
     "output_type": "display_data"
    },
    {
     "data": {
      "image/png": "[encoded data removed]",
      "text/plain": [
       "<Figure size 432x288 with 1 Axes>"
      ]
     },
     "metadata": {
      "needs_background": "light"
     },
     "output_type": "display_data"
    }
   ],
   "source": [
    "plt.plot(pca.explained_variance_ratio_)\n",
    "plt.xlabel('number of components')\n",
    "plt.ylabel('explained variance')\n",
    "plt.show()\n",
    "\n",
    "cov_matrix = np.dot(data_normalized.T, data_normalized) / data.shape[0]\n",
    "eigenvalues = [np.dot(eigenvector.T, np.dot(cov_matrix, eigenvector)) for\n",
    "eigenvector in pca.components_]\n",
    "\n",
    "plt.plot(eigenvalues)\n",
    "plt.xlabel('number of components')\n",
    "plt.ylabel('eigenvalue')\n",
    "plt.show() "
   ]
  },
  {
   "cell_type": "markdown",
   "id": "af3cfd25-78c0-4427-8677-abb1791112fa",
   "metadata": {},
   "source": [
    "## 3)\n",
    " I think the organization can benefit from PCA because it can simplify the visual analysis of the data when presenting it to stakeholders. Instead of\n",
    " showing them what could be hundreds of variables that may not have much effect on the analysis, we can reduce the variables and keep most of the accuracy of the model. Another benefit is noise filtering. The originization can benefit from PCA by having the benefit of using a model that is more accurate because it better identifies meaningful patterns. This will lead to better predictions and better models the organization uses to make business decisions."
   ]
  },
  {
   "cell_type": "markdown",
   "id": "1f59709c-42c0-4d9f-85a3-e4ac1e9e2e92",
   "metadata": {},
   "source": [
    "## F)\n",
    "\n",
    "panopto video submitted in links."
   ]
  },
  {
   "cell_type": "markdown",
   "id": "e4889cda-5593-4208-b077-c70640237d9d",
   "metadata": {},
   "source": [
    "## G)\n",
    "\n",
    "Citations:\n",
    "\n",
    "Pandas documentation# (no date) pandas documentation - pandas 2.2.1 documentation. Available at: https://pandas.pydata.org/docs/ (Accessed: 06 April 2024). \n",
    "\n",
    "\n",
    "\n",
    "Project jupyter documentation# (no date) Project Jupyter Documentation - Jupyter Documentation 4.1.1 alpha documentation. Available at: https://docs.jupyter.org/en/latest/ (Accessed: 06 April 2024). \n",
    "\n",
    "\n",
    "Learn  scikit. Available at: https://scikit-learn.org/stable/ (Accessed: 06 April 2024). \n",
    "\n",
    "GfG (2024) How to drop unnamed column in pandas DataFrame, GeeksforGeeks. Available at: https://www.geeksforgeeks.org/how-to-drop-unnamed-column-in-pandas-dataframe/ (Accessed: 06 April 2024). \n",
    "\n",
    "\n",
    "GfG (2024) How to drop unnamed column in pandas DataFrame, GeeksforGeeks. Available at: https://www.geeksforgeeks.org/how-to-drop-unnamed-column-in-pandas-dataframe/ (Accessed: 06 April 2024). "
   ]
  },
  {
   "cell_type": "code",
   "execution_count": null,
   "id": "61be845f-e592-4fe4-9bd0-932263d8510f",
   "metadata": {},
   "outputs": [],
   "source": []
  }
 ],
 "metadata": {
  "kernelspec": {
   "display_name": "Python 3 (ipykernel)",
   "language": "python",
   "name": "python3"
  },
  "language_info": {
   "codemirror_mode": {
    "name": "ipython",
    "version": 3
   },
   "file_extension": ".py",
   "mimetype": "text/x-python",
   "name": "python",
   "nbconvert_exporter": "python",
   "pygments_lexer": "ipython3",
   "version": "3.10.12"
  }
 },
 "nbformat": 4,
 "nbformat_minor": 5
}
