{
 "cells": [
  {
   "cell_type": "markdown",
   "id": "7ce3f564",
   "metadata": {},
   "source": [
    "A)\n",
    "\n",
    "\n",
    "One question that could be asked as a telecommunications service provider could be:\n",
    "\n",
    "What correlation exists between churn, the Outage_sec_perweek, and MonthlyCharge?"
   ]
  },
  {
   "cell_type": "markdown",
   "id": "08681d38",
   "metadata": {},
   "source": [
    "B)\n",
    "\n",
    "\n",
    "\n",
    "| Name                  | Type     | Example                             |\n",
    "|-----------------------|----------|-------------------------------------|\n",
    "| CaseOrder             | int64    | 1                                   |\n",
    "| Customer_id           | object   | K409198                             |\n",
    "| Interaction           | object   | aa90260b-4141-4a24-8e36-b04ce1f4f77b|\n",
    "| City                  | object   | Point Baker                         |\n",
    "| State                 | object   | AK                                  |\n",
    "| County                | object   | Prince of Wales-Hyder               |\n",
    "| Zip                   | int64    | 99927                               |\n",
    "| Lat                   | float64  | 56.25100                            |\n",
    "| Lng                   | float64  | -133.37571                          |\n",
    "| Population            | int64    | 38                                  |\n",
    "| Area                  | object   | Urban                               |\n",
    "| Timezone              | object   | America/Sitka                       |\n",
    "| Job                   | object   | Environmental health practitioner   |\n",
    "| Children              | float64  | 1.0                                 |\n",
    "| Age                   | float64  | 68.0                                |\n",
    "| Education             | object   | Master's Degree                     |\n",
    "| Employment            | object   | Part Time                           |\n",
    "| Income                | float64  | 28561.99                            |\n",
    "| Marital               | object   | Widowed                             |\n",
    "| Gender                | object   | Male                                |\n",
    "| Churn                 | object   | No                                  |\n",
    "| Outage_sec_perweek    | float64  | 6.972566                            |\n",
    "| Email                 | int64    | 10                                  |\n",
    "| Contacts              | int64    | 0                                   |\n",
    "| Yearly_equip_failure  | int64    | 1                                   |\n",
    "| Techie                | object   | No                                  |\n",
    "| Contract              | object   | One year                            |\n",
    "| Port_modem            | object   | Yes                                 |\n",
    "| Tablet                | object   | Yes                                 |\n",
    "| InternetService       | object   | Fiber Optic                         |\n",
    "| Phone                 | object   | Yes                                 |\n",
    "| Multiple              | object   | No                                  |\n",
    "| OnlineSecurity        | object   | Yes                                 |\n",
    "| OnlineBackup          | object   | Yes                                 |\n",
    "| DeviceProtection      | object   | No                                  |\n",
    "| TechSupport           | object   | No                                  |\n",
    "| StreamingTV           | object   | No                                  |\n",
    "| StreamingMovies       | object   | Yes                                 |\n",
    "| PaperlessBilling      | object   | Yes                                 |\n",
    "| PaymentMethod         | object   | Credit Card (automatic)             |\n",
    "| Tenure                | float64  | 6.795513                            |\n",
    "| MonthlyCharge         | float64  | 171.449762                          |\n",
    "| Bandwidth_GB_Year     | float64  | 904.536110                          |\n",
    "| item1                 | int64    | 5                                   |\n",
    "| item2                 | int64    | 5                                   |\n",
    "| item3                 | int64    | 5                                   |\n",
    "| item4                 | int64    | 3                                   |\n",
    "| item5                 | int64    | 4                                   |\n",
    "| item6                 | int64    | 0                                   |\n",
    "| item7                 | int64    | 3                                   |\n",
    "| item8                 | int64    | 4                                   |\n"
   ]
  },
  {
   "cell_type": "markdown",
   "id": "a884b0be",
   "metadata": {},
   "source": [
    "<span style=\"font-weight:300;font-size:16px\">\n",
    "  \n",
    "\n",
    "\n",
    "# C)\n",
    "\n",
    "### 1)\n",
    "\n",
    "\n",
    "&emsp;&emsp;The first step I will use to assess the data quality is to identify missing values.\n",
    "In python missing values can be detected with the df.isna().sum() function and its variations such as df.iloc[5].isna().sum()\n",
    "\n",
    "\n",
    "&emsp;&emsp;The second step I will use to assess the data quality is to identify duplicates rows based on customer_id column. I will do this with the pandas library with the df.duplicated()function. Duplicate rows can also be identifed based on a subset of columns such as\n",
    "df.duplicated(subset=['Customer_id']).\n",
    "\n",
    "\n",
    "&emsp;&emsp;The third step I will use to assess the data quality is to identify outliers. I will use the python describe() function first to check if further analysis is needed. I will identify outliers with frequency counts such as df['Your_Column_Name'].value_counts(), z-scores such as zscore(df[column_name]), or plot a histogram such as df['values'].hist() plt.show(). I will also plot histograms of categorical and numeric data values counts such as\n",
    "plt.bar(category_counts.index, category_counts.values) with the matplotlib library.\n",
    "  \n",
    "  \n",
    "  \n",
    "### 2)\n",
    "   \n",
    "   \n",
    "&emsp;&emsp;This is an effective approach to assess the quality of the data set because it addresses several quality metrics such as outliers, duplicates, and missingness. The python libraries and functions used are effective at working on large data sets. This approach also accounts for the characteristics of the data. Histograms, frequency counts, and the describe() function can be used on categorical data to identify outliers, while z-scores are preferred for numerical data.\n",
    " \n",
    " \n",
    "\n",
    "### 3)\n",
    "\n",
    "\n",
    "&emsp;&emsp;Python and the matplotlib, pandas, and scipy library are a good choice for data cleaning on this project. One reason is that I am familiar with python language. Another reason is that python and the associated libraries automate a lot of the statistical work. Stats.z-scores will return the z-scores of the data in one step so you don't have to do each step manually to calculate the z-score for each data point. Python and the associated libraries also have related functions that can mitigate some of the data quality issues as well as identifying them.\n",
    "\n",
    "</span>\n",
    "\n",
    "\n"
   ]
  },
  {
   "cell_type": "code",
   "execution_count": 1,
   "id": "4d35edc8",
   "metadata": {},
   "outputs": [],
   "source": [
    "import pandas as pd\n",
    "from scipy.stats import zscore\n",
    "import matplotlib.pyplot as plt\n",
    "import seaborn as sns\n",
    "import numpy as np\n",
    "# Assuming your CSV file is named 'data.csv', adjust the file path as needed\n",
    "file_path = '/home/dj/skewl/d206/churn_raw_data.csv'\n",
    "pd.set_option('display.max_columns', None)\n",
    "# Read the data from the CSV file into a DataFrame\n",
    "df = pd.read_csv(file_path)\n",
    "#drop index column\n",
    "df = df.loc[:, ~df.columns.str.contains('Unnamed')]"
   ]
  },
  {
   "cell_type": "markdown",
   "id": "69bf9bf1",
   "metadata": {},
   "source": [
    "# DETECTION STEPS"
   ]
  },
  {
   "cell_type": "code",
   "execution_count": 2,
   "id": "10c12da1",
   "metadata": {},
   "outputs": [
    {
     "name": "stdout",
     "output_type": "stream",
     "text": [
      "CaseOrder                  0\n",
      "Customer_id                0\n",
      "Interaction                0\n",
      "City                       0\n",
      "State                      0\n",
      "County                     0\n",
      "Zip                        0\n",
      "Lat                        0\n",
      "Lng                        0\n",
      "Population                 0\n",
      "Area                       0\n",
      "Timezone                   0\n",
      "Job                        0\n",
      "Children                2495\n",
      "Age                     2475\n",
      "Education                  0\n",
      "Employment                 0\n",
      "Income                  2490\n",
      "Marital                    0\n",
      "Gender                     0\n",
      "Churn                      0\n",
      "Outage_sec_perweek         0\n",
      "Email                      0\n",
      "Contacts                   0\n",
      "Yearly_equip_failure       0\n",
      "Techie                  2477\n",
      "Contract                   0\n",
      "Port_modem                 0\n",
      "Tablet                     0\n",
      "InternetService            0\n",
      "Phone                   1026\n",
      "Multiple                   0\n",
      "OnlineSecurity             0\n",
      "OnlineBackup               0\n",
      "DeviceProtection           0\n",
      "TechSupport              991\n",
      "StreamingTV                0\n",
      "StreamingMovies            0\n",
      "PaperlessBilling           0\n",
      "PaymentMethod              0\n",
      "Tenure                   931\n",
      "MonthlyCharge              0\n",
      "Bandwidth_GB_Year       1021\n",
      "item1                      0\n",
      "item2                      0\n",
      "item3                      0\n",
      "item4                      0\n",
      "item5                      0\n",
      "item6                      0\n",
      "item7                      0\n",
      "item8                      0\n",
      "dtype: int64\n"
     ]
    }
   ],
   "source": [
    "\n",
    "# Identify missing values using isna() method\n",
    "missing_values = df.isna().sum()\n",
    "# Print DataFrame with True for missing values and False for non-missing values\n",
    "print(missing_values)\n",
    "\n",
    "# found lots of missing values here!"
   ]
  },
  {
   "cell_type": "code",
   "execution_count": 3,
   "id": "82e41823",
   "metadata": {},
   "outputs": [],
   "source": [
    "#function to reset data\n",
    "def reset_data():\n",
    "    import pandas as pd\n",
    "    file_path = '/home/dj/skewl/d206/churn_raw_data.csv'\n",
    "    pd.set_option('display.max_columns', None)\n",
    "    # Read the data from the CSV file into a DataFrame\n",
    "    global df\n",
    "    df = pd.read_csv(file_path)\n",
    "    df = df.loc[:, ~df.columns.str.contains('Unnamed')]"
   ]
  },
  {
   "cell_type": "code",
   "execution_count": 4,
   "id": "a609c707",
   "metadata": {},
   "outputs": [
    {
     "name": "stdout",
     "output_type": "stream",
     "text": [
      "0\n"
     ]
    }
   ],
   "source": [
    "# Find duplicate rows \n",
    "duplicate_rows = df.duplicated([\"Customer_id\", \"Interaction\"]).sum()\n",
    "\n",
    "# Print duplicate rows   # found NO duplicate rows here!\n",
    "print(duplicate_rows)\n"
   ]
  },
  {
   "cell_type": "code",
   "execution_count": 5,
   "id": "4ce360f2",
   "metadata": {},
   "outputs": [],
   "source": [
    "#function to list outliers by Z-score\n",
    "\n",
    "def get_outliers_z(col_name):\n",
    "    \n",
    "    df['zscore'] = zscore(df[col_name])\n",
    "    outliers = df.query('zscore > 3 | zscore < -3')\n",
    "    print(f\"number of outliers= {len(outliers)}\")\n",
    "    print(f\"\\n Z-score of outliers= \\n{outliers['zscore']}\")\n",
    "    del df['zscore']\n"
   ]
  },
  {
   "cell_type": "code",
   "execution_count": 6,
   "id": "775ef4ea",
   "metadata": {},
   "outputs": [],
   "source": [
    "#function to list outliers by interquartile range\n",
    "\n",
    "def get_iqr_outliers(col_name):\n",
    "    # calculate IQR for column Height\n",
    "    Q1 = df[col_name].quantile(0.25)\n",
    "    Q3 = df[col_name].quantile(0.75)\n",
    "    IQR = Q3 - Q1\n",
    "\n",
    "    # identify outliers\n",
    "    threshold = 1.5\n",
    "    outliers = df[(df[col_name] < Q1 - threshold * IQR) | (df[col_name] > Q3 + threshold * IQR)]\n",
    "    print(f\"outliers = {len(outliers)}\")\n"
   ]
  },
  {
   "cell_type": "code",
   "execution_count": 7,
   "id": "04d26ceb",
   "metadata": {},
   "outputs": [],
   "source": [
    "#function to plot histogram\n",
    "def plot_hist(col_name, num_bins, do_rotate=False):\n",
    "    plt.hist(df[col_name], bins=num_bins)\n",
    "    plt.xlabel(col_name)\n",
    "    plt.ylabel('Frequency')\n",
    "    plt.title(f'Histogram of {col_name}')\n",
    "    if do_rotate:\n",
    "        plt.xticks(rotation=90)\n",
    "    plt.show()\n"
   ]
  },
  {
   "cell_type": "code",
   "execution_count": 8,
   "id": "16bc6a2f",
   "metadata": {},
   "outputs": [],
   "source": [
    "# print row count that matches a value\n",
    "def row_count_by_value(value):\n",
    "    \n",
    "    value_to_match = value\n",
    "    row_count_matching_value = (df == value_to_match).sum()\n",
    "    print(row_count_matching_value)"
   ]
  },
  {
   "cell_type": "code",
   "execution_count": 9,
   "id": "538c7c70",
   "metadata": {},
   "outputs": [],
   "source": [
    "def print_counts(col_name):\n",
    "    print(df[col_name].value_counts())"
   ]
  },
  {
   "cell_type": "code",
   "execution_count": 10,
   "id": "fefdd39d",
   "metadata": {},
   "outputs": [],
   "source": [
    "#function to print missing values\n",
    "def print_desc(col_name):\n",
    "    print(df[col_name].describe())\n",
    "    print(f\"missing values= {df[col_name].isna().sum()}\")"
   ]
  },
  {
   "cell_type": "code",
   "execution_count": 11,
   "id": "41469012",
   "metadata": {},
   "outputs": [
    {
     "data": {
      "image/png": "[encoded data removed]",
      "text/plain": [
       "<Figure size 432x288 with 1 Axes>"
      ]
     },
     "metadata": {
      "needs_background": "light"
     },
     "output_type": "display_data"
    },
    {
     "name": "stdout",
     "output_type": "stream",
     "text": [
      "count       10000\n",
      "unique       6058\n",
      "top       Houston\n",
      "freq           34\n",
      "Name: City, dtype: object\n",
      "missing values= 0\n"
     ]
    }
   ],
   "source": [
    "#looks good\n",
    "plot_hist(\"City\",20)\n",
    "print_desc(\"City\")"
   ]
  },
  {
   "cell_type": "code",
   "execution_count": 12,
   "id": "4b4213c8",
   "metadata": {},
   "outputs": [
    {
     "name": "stdout",
     "output_type": "stream",
     "text": [
      "count     10000\n",
      "unique       52\n",
      "top          TX\n",
      "freq        603\n",
      "Name: State, dtype: object\n",
      "missing values= 0\n"
     ]
    }
   ],
   "source": [
    "#looks good\n",
    "print_desc(\"State\")"
   ]
  },
  {
   "cell_type": "code",
   "execution_count": 13,
   "id": "45d83f83",
   "metadata": {},
   "outputs": [
    {
     "name": "stdout",
     "output_type": "stream",
     "text": [
      "count    10000.00000\n",
      "mean      5000.50000\n",
      "std       2886.89568\n",
      "min          1.00000\n",
      "25%       2500.75000\n",
      "50%       5000.50000\n",
      "75%       7500.25000\n",
      "max      10000.00000\n",
      "Name: CaseOrder, dtype: float64\n",
      "missing values= 0\n"
     ]
    }
   ],
   "source": [
    "#no issues here\n",
    "print_desc(\"CaseOrder\")"
   ]
  },
  {
   "cell_type": "code",
   "execution_count": 14,
   "id": "87a5d281",
   "metadata": {},
   "outputs": [
    {
     "name": "stdout",
     "output_type": "stream",
     "text": [
      "count     10000\n",
      "unique       52\n",
      "top          TX\n",
      "freq        603\n",
      "Name: State, dtype: object\n",
      "missing values= 0\n"
     ]
    }
   ],
   "source": [
    "#no issues here\n",
    "print_desc(\"State\")"
   ]
  },
  {
   "cell_type": "code",
   "execution_count": 15,
   "id": "9476d7d4",
   "metadata": {},
   "outputs": [
    {
     "name": "stdout",
     "output_type": "stream",
     "text": [
      "count                                    10000\n",
      "unique                                   10000\n",
      "top       aa90260b-4141-4a24-8e36-b04ce1f4f77b\n",
      "freq                                         1\n",
      "Name: Interaction, dtype: object\n",
      "missing values= 0\n"
     ]
    }
   ],
   "source": [
    "#no issues here\n",
    "print_desc(\"Interaction\")"
   ]
  },
  {
   "cell_type": "code",
   "execution_count": 16,
   "id": "3d100029",
   "metadata": {},
   "outputs": [
    {
     "name": "stdout",
     "output_type": "stream",
     "text": [
      "count       10000\n",
      "unique      10000\n",
      "top       K409198\n",
      "freq            1\n",
      "Name: Customer_id, dtype: object\n",
      "missing values= 0\n"
     ]
    }
   ],
   "source": [
    "#no issues\n",
    "print_desc(\"Customer_id\")"
   ]
  },
  {
   "cell_type": "code",
   "execution_count": 17,
   "id": "ecbed6ef",
   "metadata": {},
   "outputs": [
    {
     "name": "stdout",
     "output_type": "stream",
     "text": [
      "count          10000\n",
      "unique          1620\n",
      "top       Washington\n",
      "freq             111\n",
      "Name: County, dtype: object\n",
      "missing values= 0\n"
     ]
    }
   ],
   "source": [
    "#no issues\n",
    "print_desc(\"County\")"
   ]
  },
  {
   "cell_type": "code",
   "execution_count": 18,
   "id": "3ec9fe2f",
   "metadata": {},
   "outputs": [
    {
     "name": "stdout",
     "output_type": "stream",
     "text": [
      "count    10000.000000\n",
      "mean     49153.319600\n",
      "std      27532.196108\n",
      "min        601.000000\n",
      "25%      26292.500000\n",
      "50%      48869.500000\n",
      "75%      71866.500000\n",
      "max      99929.000000\n",
      "Name: Zip, dtype: float64\n",
      "missing values= 0\n"
     ]
    }
   ],
   "source": [
    "# there's a problem here because this should be an int. Note the min value!\n",
    "print_desc(\"Zip\")"
   ]
  },
  {
   "cell_type": "code",
   "execution_count": 19,
   "id": "6ef7f892",
   "metadata": {
    "scrolled": true
   },
   "outputs": [
    {
     "name": "stdout",
     "output_type": "stream",
     "text": [
      "count    10000.000000\n",
      "mean        38.757567\n",
      "std          5.437389\n",
      "min         17.966120\n",
      "25%         35.341828\n",
      "50%         39.395800\n",
      "75%         42.106908\n",
      "max         70.640660\n",
      "Name: Lat, dtype: float64\n",
      "missing values= 0\n"
     ]
    }
   ],
   "source": [
    "#looks good\n",
    "print_desc(\"Lat\")"
   ]
  },
  {
   "cell_type": "code",
   "execution_count": 20,
   "id": "98d27f57",
   "metadata": {},
   "outputs": [
    {
     "name": "stdout",
     "output_type": "stream",
     "text": [
      "count    10000.000000\n",
      "mean       -90.782536\n",
      "std         15.156142\n",
      "min       -171.688150\n",
      "25%        -97.082812\n",
      "50%        -87.918800\n",
      "75%        -80.088745\n",
      "max        -65.667850\n",
      "Name: Lng, dtype: float64\n",
      "missing values= 0\n"
     ]
    }
   ],
   "source": [
    "#looks good\n",
    "print_desc(\"Lng\")"
   ]
  },
  {
   "cell_type": "code",
   "execution_count": 21,
   "id": "26777647",
   "metadata": {
    "scrolled": true
   },
   "outputs": [
    {
     "name": "stdout",
     "output_type": "stream",
     "text": [
      "count     10000.000000\n",
      "mean       9756.562400\n",
      "std       14432.698671\n",
      "min           0.000000\n",
      "25%         738.000000\n",
      "50%        2910.500000\n",
      "75%       13168.000000\n",
      "max      111850.000000\n",
      "Name: Population, dtype: float64\n",
      "missing values= 0\n"
     ]
    },
    {
     "data": {
      "image/png": "[encoded data removed]",
      "text/plain": [
       "<Figure size 432x288 with 1 Axes>"
      ]
     },
     "metadata": {
      "needs_background": "light"
     },
     "output_type": "display_data"
    }
   ],
   "source": [
    "\n",
    "#this could be bad data. There is 6000 places with 0 population according to census.\n",
    "#change this to int\n",
    "\n",
    "print_desc(\"Population\")\n",
    "plot_hist(\"Population\",20)"
   ]
  },
  {
   "cell_type": "code",
   "execution_count": 22,
   "id": "f4acf1fa",
   "metadata": {
    "scrolled": true
   },
   "outputs": [
    {
     "name": "stdout",
     "output_type": "stream",
     "text": [
      "count        10000\n",
      "unique           3\n",
      "top       Suburban\n",
      "freq          3346\n",
      "Name: Area, dtype: object\n",
      "missing values= 0\n"
     ]
    },
    {
     "data": {
      "image/png": "[encoded data removed]",
      "text/plain": [
       "<Figure size 432x288 with 1 Axes>"
      ]
     },
     "metadata": {
      "needs_background": "light"
     },
     "output_type": "display_data"
    }
   ],
   "source": [
    "#looks good. Equal distribution.\n",
    "print_desc(\"Area\")\n",
    "plot_hist(\"Area\",5)"
   ]
  },
  {
   "cell_type": "code",
   "execution_count": 23,
   "id": "14ce7e68",
   "metadata": {},
   "outputs": [
    {
     "name": "stdout",
     "output_type": "stream",
     "text": [
      "count                10000\n",
      "unique                  25\n",
      "top       America/New_York\n",
      "freq                  4072\n",
      "Name: Timezone, dtype: object\n",
      "missing values= 0\n"
     ]
    },
    {
     "data": {
      "text/plain": [
       "America/New_York                  4072\n",
       "America/Chicago                   3672\n",
       "America/Los_Angeles                887\n",
       "America/Denver                     552\n",
       "America/Detroit                    265\n",
       "America/Indiana/Indianapolis       186\n",
       "America/Phoenix                    104\n",
       "America/Boise                       57\n",
       "America/Anchorage                   55\n",
       "America/Puerto_Rico                 40\n",
       "Pacific/Honolulu                    35\n",
       "America/Menominee                   16\n",
       "America/Nome                        12\n",
       "America/Kentucky/Louisville         10\n",
       "America/Sitka                        8\n",
       "America/Indiana/Vincennes            6\n",
       "America/Indiana/Tell_City            6\n",
       "America/Toronto                      5\n",
       "America/Indiana/Petersburg           4\n",
       "America/Juneau                       2\n",
       "America/North_Dakota/New_Salem       2\n",
       "America/Indiana/Knox                 1\n",
       "America/Indiana/Winamac              1\n",
       "America/Indiana/Marengo              1\n",
       "America/Ojinaga                      1\n",
       "Name: Timezone, dtype: int64"
      ]
     },
     "execution_count": 23,
     "metadata": {},
     "output_type": "execute_result"
    }
   ],
   "source": [
    "# something wrong. There should only be 24 timezones!\n",
    "print_desc(\"Timezone\")\n",
    "df[\"Timezone\"].value_counts()"
   ]
  },
  {
   "cell_type": "code",
   "execution_count": 24,
   "id": "aadadda4",
   "metadata": {},
   "outputs": [
    {
     "name": "stdout",
     "output_type": "stream",
     "text": [
      "count                         10000\n",
      "unique                          639\n",
      "top       Occupational psychologist\n",
      "freq                             30\n",
      "Name: Job, dtype: object\n",
      "missing values= 0\n"
     ]
    }
   ],
   "source": [
    "#looks good\n",
    "print_desc(\"Job\")"
   ]
  },
  {
   "cell_type": "code",
   "execution_count": 25,
   "id": "0e464af1",
   "metadata": {},
   "outputs": [
    {
     "name": "stdout",
     "output_type": "stream",
     "text": [
      "count    7505.000000\n",
      "mean        2.095936\n",
      "std         2.154758\n",
      "min         0.000000\n",
      "25%         0.000000\n",
      "50%         1.000000\n",
      "75%         3.000000\n",
      "max        10.000000\n",
      "Name: Children, dtype: float64\n",
      "missing values= 2495\n"
     ]
    },
    {
     "data": {
      "image/png": "[encoded data removed]",
      "text/plain": [
       "<Figure size 432x288 with 1 Axes>"
      ]
     },
     "metadata": {
      "needs_background": "light"
     },
     "output_type": "display_data"
    }
   ],
   "source": [
    "#lots of missing values change to int and impute\n",
    "print_desc(\"Children\")\n",
    "plot_hist(\"Children\",20)"
   ]
  },
  {
   "cell_type": "code",
   "execution_count": 68,
   "id": "c1e00cd8",
   "metadata": {},
   "outputs": [
    {
     "name": "stdout",
     "output_type": "stream",
     "text": [
      "count    7525.000000\n",
      "mean       53.275748\n",
      "std        20.753928\n",
      "min        18.000000\n",
      "25%        35.000000\n",
      "50%        53.000000\n",
      "75%        71.000000\n",
      "max        89.000000\n",
      "Name: Age, dtype: float64\n",
      "missing values= 2475\n"
     ]
    },
    {
     "data": {
      "image/png": "[encoded data removed]",
      "text/plain": [
       "<Figure size 432x288 with 1 Axes>"
      ]
     },
     "metadata": {
      "needs_background": "light"
     },
     "output_type": "display_data"
    }
   ],
   "source": [
    "#lots of missing values change to int and impute.\n",
    "print_desc(\"Age\")\n",
    "plot_hist(\"Age\",100)"
   ]
  },
  {
   "cell_type": "code",
   "execution_count": 27,
   "id": "9588da2d",
   "metadata": {},
   "outputs": [
    {
     "name": "stdout",
     "output_type": "stream",
     "text": [
      "count                           10000\n",
      "unique                             12\n",
      "top       Regular High School Diploma\n",
      "freq                             2421\n",
      "Name: Education, dtype: object\n",
      "missing values= 0\n"
     ]
    },
    {
     "data": {
      "image/png": "[encoded data removed]",
      "text/plain": [
       "<Figure size 432x288 with 1 Axes>"
      ]
     },
     "metadata": {
      "needs_background": "light"
     },
     "output_type": "display_data"
    }
   ],
   "source": [
    "#looks good\n",
    "print_desc(\"Education\")\n",
    "plot_hist(\"Education\",30,True)"
   ]
  },
  {
   "cell_type": "code",
   "execution_count": 70,
   "id": "61a447ac",
   "metadata": {
    "scrolled": true
   },
   "outputs": [
    {
     "name": "stdout",
     "output_type": "stream",
     "text": [
      "count         10000\n",
      "unique            5\n",
      "top       Full Time\n",
      "freq           5992\n",
      "Name: Employment, dtype: object\n",
      "missing values= 0\n"
     ]
    },
    {
     "data": {
      "image/png": "[encoded data removed]",
      "text/plain": [
       "<Figure size 432x288 with 1 Axes>"
      ]
     },
     "metadata": {
      "needs_background": "light"
     },
     "output_type": "display_data"
    }
   ],
   "source": [
    "#looks good\n",
    "print_desc(\"Employment\")\n",
    "plot_hist(\"Employment\",10)"
   ]
  },
  {
   "cell_type": "code",
   "execution_count": 29,
   "id": "32ed62b4",
   "metadata": {
    "scrolled": true
   },
   "outputs": [
    {
     "name": "stdout",
     "output_type": "stream",
     "text": [
      "count      7510.000000\n",
      "mean      39936.762226\n",
      "std       28358.469482\n",
      "min         740.660000\n",
      "25%       19285.522500\n",
      "50%       33186.785000\n",
      "75%       53472.395000\n",
      "max      258900.700000\n",
      "Name: Income, dtype: float64\n",
      "missing values= 2490\n"
     ]
    },
    {
     "data": {
      "image/png": "[encoded data removed]",
      "text/plain": [
       "<Figure size 432x288 with 1 Axes>"
      ]
     },
     "metadata": {
      "needs_background": "light"
     },
     "output_type": "display_data"
    }
   ],
   "source": [
    "#this is bad data because there is so many missing values.\n",
    "print_desc(\"Income\")\n",
    "plot_hist(\"Income\",50)"
   ]
  },
  {
   "cell_type": "code",
   "execution_count": 30,
   "id": "753bc385",
   "metadata": {},
   "outputs": [
    {
     "name": "stdout",
     "output_type": "stream",
     "text": [
      "count        10000\n",
      "unique           5\n",
      "top       Divorced\n",
      "freq          2092\n",
      "Name: Marital, dtype: object\n",
      "missing values= 0\n",
      "Divorced         2092\n",
      "Widowed          2027\n",
      "Separated        2014\n",
      "Never Married    1956\n",
      "Married          1911\n",
      "Name: Marital, dtype: int64\n"
     ]
    }
   ],
   "source": [
    "#looks good\n",
    "print_desc(\"Marital\")\n",
    "print_counts(\"Marital\")"
   ]
  },
  {
   "cell_type": "code",
   "execution_count": 31,
   "id": "88440caa",
   "metadata": {},
   "outputs": [
    {
     "name": "stdout",
     "output_type": "stream",
     "text": [
      "count      10000\n",
      "unique         3\n",
      "top       Female\n",
      "freq        5025\n",
      "Name: Gender, dtype: object\n",
      "missing values= 0\n",
      "Female                  5025\n",
      "Male                    4744\n",
      "Prefer not to answer     231\n",
      "Name: Gender, dtype: int64\n"
     ]
    }
   ],
   "source": [
    "#looks good\n",
    "print_desc(\"Gender\")\n",
    "print_counts(\"Gender\")"
   ]
  },
  {
   "cell_type": "code",
   "execution_count": 32,
   "id": "ced742e0",
   "metadata": {},
   "outputs": [
    {
     "name": "stdout",
     "output_type": "stream",
     "text": [
      "count     10000\n",
      "unique        2\n",
      "top          No\n",
      "freq       7350\n",
      "Name: Churn, dtype: object\n",
      "missing values= 0\n",
      "No     7350\n",
      "Yes    2650\n",
      "Name: Churn, dtype: int64\n"
     ]
    }
   ],
   "source": [
    "#looks good\n",
    "print_desc(\"Churn\")\n",
    "print_counts(\"Churn\")"
   ]
  },
  {
   "cell_type": "code",
   "execution_count": 33,
   "id": "69e4ea22",
   "metadata": {
    "scrolled": false
   },
   "outputs": [
    {
     "name": "stdout",
     "output_type": "stream",
     "text": [
      "count    10000.000000\n",
      "mean        11.452955\n",
      "std          7.025921\n",
      "min         -1.348571\n",
      "25%          8.054362\n",
      "50%         10.202896\n",
      "75%         12.487644\n",
      "max         47.049280\n",
      "Name: Outage_sec_perweek, dtype: float64\n",
      "missing values= 0\n"
     ]
    },
    {
     "data": {
      "image/png": "[encoded data removed]",
      "text/plain": [
       "<Figure size 432x288 with 1 Axes>"
      ]
     },
     "metadata": {
      "needs_background": "light"
     },
     "output_type": "display_data"
    },
    {
     "name": "stdout",
     "output_type": "stream",
     "text": [
      "number of outliers= 491\n",
      "\n",
      " Z-score of outliers= \n",
      "28      4.622272\n",
      "36      4.735879\n",
      "40      3.907495\n",
      "61      4.046782\n",
      "130     4.020157\n",
      "          ...   \n",
      "9894    4.703786\n",
      "9895    4.160788\n",
      "9907    3.853321\n",
      "9945    3.968939\n",
      "9950    4.201985\n",
      "Name: zscore, Length: 491, dtype: float64\n"
     ]
    }
   ],
   "source": [
    "#need to drop the rows with negative values\n",
    "print_desc(\"Outage_sec_perweek\")\n",
    "plot_hist(\"Outage_sec_perweek\",50)\n",
    "get_outliers_z(\"Outage_sec_perweek\")"
   ]
  },
  {
   "cell_type": "code",
   "execution_count": 34,
   "id": "df5effc2",
   "metadata": {},
   "outputs": [
    {
     "name": "stdout",
     "output_type": "stream",
     "text": [
      "count    10000.000000\n",
      "mean        12.016000\n",
      "std          3.025898\n",
      "min          1.000000\n",
      "25%         10.000000\n",
      "50%         12.000000\n",
      "75%         14.000000\n",
      "max         23.000000\n",
      "Name: Email, dtype: float64\n",
      "missing values= 0\n"
     ]
    }
   ],
   "source": [
    "#looks good\n",
    "print_desc(\"Email\")"
   ]
  },
  {
   "cell_type": "code",
   "execution_count": 35,
   "id": "cb84414d",
   "metadata": {},
   "outputs": [
    {
     "name": "stdout",
     "output_type": "stream",
     "text": [
      "count    10000.000000\n",
      "mean         0.994200\n",
      "std          0.988466\n",
      "min          0.000000\n",
      "25%          0.000000\n",
      "50%          1.000000\n",
      "75%          2.000000\n",
      "max          7.000000\n",
      "Name: Contacts, dtype: float64\n",
      "missing values= 0\n"
     ]
    }
   ],
   "source": [
    "#looks good but change this to int!\n",
    "print_desc(\"Contacts\")"
   ]
  },
  {
   "cell_type": "code",
   "execution_count": 36,
   "id": "db337097",
   "metadata": {},
   "outputs": [
    {
     "name": "stdout",
     "output_type": "stream",
     "text": [
      "count    10000.000000\n",
      "mean         0.398000\n",
      "std          0.635953\n",
      "min          0.000000\n",
      "25%          0.000000\n",
      "50%          0.000000\n",
      "75%          1.000000\n",
      "max          6.000000\n",
      "Name: Yearly_equip_failure, dtype: float64\n",
      "missing values= 0\n"
     ]
    }
   ],
   "source": [
    "#looks good but change this to Int!\n",
    "print_desc(\"Yearly_equip_failure\")"
   ]
  },
  {
   "cell_type": "code",
   "execution_count": 37,
   "id": "44974714",
   "metadata": {},
   "outputs": [
    {
     "name": "stdout",
     "output_type": "stream",
     "text": [
      "count     7523\n",
      "unique       2\n",
      "top         No\n",
      "freq      6266\n",
      "Name: Techie, dtype: object\n",
      "missing values= 2477\n"
     ]
    }
   ],
   "source": [
    "#lots of missing values. Need to impute\n",
    "print_desc(\"Techie\")"
   ]
  },
  {
   "cell_type": "code",
   "execution_count": 38,
   "id": "cf6383c0",
   "metadata": {},
   "outputs": [
    {
     "name": "stdout",
     "output_type": "stream",
     "text": [
      "count              10000\n",
      "unique                 3\n",
      "top       Month-to-month\n",
      "freq                5456\n",
      "Name: Contract, dtype: object\n",
      "missing values= 0\n",
      "Month-to-month    5456\n",
      "Two Year          2442\n",
      "One year          2102\n",
      "Name: Contract, dtype: int64\n"
     ]
    }
   ],
   "source": [
    "#looks good\n",
    "print_desc(\"Contract\")\n",
    "print_counts(\"Contract\")"
   ]
  },
  {
   "cell_type": "code",
   "execution_count": 39,
   "id": "3f227c0b",
   "metadata": {},
   "outputs": [
    {
     "name": "stdout",
     "output_type": "stream",
     "text": [
      "count     10000\n",
      "unique        2\n",
      "top          No\n",
      "freq       5166\n",
      "Name: Port_modem, dtype: object\n",
      "missing values= 0\n"
     ]
    }
   ],
   "source": [
    "#looks good\n",
    "print_desc(\"Port_modem\")"
   ]
  },
  {
   "cell_type": "code",
   "execution_count": 40,
   "id": "f3d7d0b6",
   "metadata": {},
   "outputs": [
    {
     "name": "stdout",
     "output_type": "stream",
     "text": [
      "count     10000\n",
      "unique        2\n",
      "top          No\n",
      "freq       7009\n",
      "Name: Tablet, dtype: object\n",
      "missing values= 0\n"
     ]
    }
   ],
   "source": [
    "#looks good\n",
    "print_desc(\"Tablet\")"
   ]
  },
  {
   "cell_type": "code",
   "execution_count": 41,
   "id": "b83e547a",
   "metadata": {},
   "outputs": [
    {
     "name": "stdout",
     "output_type": "stream",
     "text": [
      "count           10000\n",
      "unique              3\n",
      "top       Fiber Optic\n",
      "freq             4408\n",
      "Name: InternetService, dtype: object\n",
      "missing values= 0\n",
      "Fiber Optic    4408\n",
      "DSL            3463\n",
      "None           2129\n",
      "Name: InternetService, dtype: int64\n"
     ]
    }
   ],
   "source": [
    "#looks good\n",
    "print_desc(\"InternetService\")\n",
    "print_counts(\"InternetService\")"
   ]
  },
  {
   "cell_type": "code",
   "execution_count": 42,
   "id": "fe1dd8da",
   "metadata": {},
   "outputs": [
    {
     "name": "stdout",
     "output_type": "stream",
     "text": [
      "count     8974\n",
      "unique       2\n",
      "top        Yes\n",
      "freq      8128\n",
      "Name: Phone, dtype: object\n",
      "missing values= 1026\n",
      "Yes    8128\n",
      "No      846\n",
      "Name: Phone, dtype: int64\n"
     ]
    }
   ],
   "source": [
    "#missing a lot of values\n",
    "print_desc(\"Phone\")\n",
    "print_counts(\"Phone\")"
   ]
  },
  {
   "cell_type": "code",
   "execution_count": 43,
   "id": "6dee8355",
   "metadata": {},
   "outputs": [
    {
     "name": "stdout",
     "output_type": "stream",
     "text": [
      "count     10000\n",
      "unique        2\n",
      "top          No\n",
      "freq       5392\n",
      "Name: Multiple, dtype: object\n",
      "missing values= 0\n",
      "No     5392\n",
      "Yes    4608\n",
      "Name: Multiple, dtype: int64\n"
     ]
    }
   ],
   "source": [
    "#looks good\n",
    "print_desc(\"Multiple\")\n",
    "print_counts(\"Multiple\")"
   ]
  },
  {
   "cell_type": "code",
   "execution_count": 44,
   "id": "715a81c6",
   "metadata": {},
   "outputs": [
    {
     "name": "stdout",
     "output_type": "stream",
     "text": [
      "count     10000\n",
      "unique        2\n",
      "top          No\n",
      "freq       6424\n",
      "Name: OnlineSecurity, dtype: object\n",
      "missing values= 0\n",
      "No     6424\n",
      "Yes    3576\n",
      "Name: OnlineSecurity, dtype: int64\n"
     ]
    }
   ],
   "source": [
    "#looks good\n",
    "print_desc(\"OnlineSecurity\")\n",
    "print_counts(\"OnlineSecurity\")"
   ]
  },
  {
   "cell_type": "code",
   "execution_count": 45,
   "id": "b8b9f7d9",
   "metadata": {},
   "outputs": [
    {
     "name": "stdout",
     "output_type": "stream",
     "text": [
      "count     10000\n",
      "unique        2\n",
      "top          No\n",
      "freq       5614\n",
      "Name: DeviceProtection, dtype: object\n",
      "missing values= 0\n",
      "No     5614\n",
      "Yes    4386\n",
      "Name: DeviceProtection, dtype: int64\n"
     ]
    }
   ],
   "source": [
    "#looks good\n",
    "print_desc(\"DeviceProtection\")\n",
    "print_counts(\"DeviceProtection\")"
   ]
  },
  {
   "cell_type": "code",
   "execution_count": 46,
   "id": "feec314d",
   "metadata": {},
   "outputs": [
    {
     "name": "stdout",
     "output_type": "stream",
     "text": [
      "count     9009\n",
      "unique       2\n",
      "top         No\n",
      "freq      5635\n",
      "Name: TechSupport, dtype: object\n",
      "missing values= 991\n",
      "No     5635\n",
      "Yes    3374\n",
      "Name: TechSupport, dtype: int64\n"
     ]
    }
   ],
   "source": [
    "#lots of missing values here\n",
    "print_desc(\"TechSupport\")\n",
    "print_counts(\"TechSupport\")"
   ]
  },
  {
   "cell_type": "code",
   "execution_count": 47,
   "id": "10ffe239",
   "metadata": {},
   "outputs": [
    {
     "name": "stdout",
     "output_type": "stream",
     "text": [
      "count     10000\n",
      "unique        2\n",
      "top          No\n",
      "freq       5071\n",
      "Name: StreamingTV, dtype: object\n",
      "missing values= 0\n",
      "No     5071\n",
      "Yes    4929\n",
      "Name: StreamingTV, dtype: int64\n"
     ]
    }
   ],
   "source": [
    "#looks good\n",
    "print_desc(\"StreamingTV\")\n",
    "print_counts(\"StreamingTV\")"
   ]
  },
  {
   "cell_type": "code",
   "execution_count": 48,
   "id": "026ace3b",
   "metadata": {},
   "outputs": [
    {
     "name": "stdout",
     "output_type": "stream",
     "text": [
      "count     10000\n",
      "unique        2\n",
      "top          No\n",
      "freq       5110\n",
      "Name: StreamingMovies, dtype: object\n",
      "missing values= 0\n",
      "No     5110\n",
      "Yes    4890\n",
      "Name: StreamingMovies, dtype: int64\n"
     ]
    }
   ],
   "source": [
    "#looks good\n",
    "print_desc(\"StreamingMovies\")\n",
    "print_counts(\"StreamingMovies\")"
   ]
  },
  {
   "cell_type": "code",
   "execution_count": 49,
   "id": "a879169d",
   "metadata": {},
   "outputs": [
    {
     "name": "stdout",
     "output_type": "stream",
     "text": [
      "count     10000\n",
      "unique        2\n",
      "top         Yes\n",
      "freq       5882\n",
      "Name: PaperlessBilling, dtype: object\n",
      "missing values= 0\n",
      "Yes    5882\n",
      "No     4118\n",
      "Name: PaperlessBilling, dtype: int64\n"
     ]
    }
   ],
   "source": [
    "#looks good\n",
    "print_desc(\"PaperlessBilling\")\n",
    "print_counts(\"PaperlessBilling\")"
   ]
  },
  {
   "cell_type": "code",
   "execution_count": 50,
   "id": "f840817c",
   "metadata": {},
   "outputs": [
    {
     "name": "stdout",
     "output_type": "stream",
     "text": [
      "count                10000\n",
      "unique                   4\n",
      "top       Electronic Check\n",
      "freq                  3398\n",
      "Name: PaymentMethod, dtype: object\n",
      "missing values= 0\n",
      "Electronic Check            3398\n",
      "Mailed Check                2290\n",
      "Bank Transfer(automatic)    2229\n",
      "Credit Card (automatic)     2083\n",
      "Name: PaymentMethod, dtype: int64\n"
     ]
    }
   ],
   "source": [
    "#looks good\n",
    "print_desc(\"PaymentMethod\")\n",
    "print_counts(\"PaymentMethod\")"
   ]
  },
  {
   "cell_type": "code",
   "execution_count": 51,
   "id": "faf01a6a",
   "metadata": {},
   "outputs": [
    {
     "name": "stdout",
     "output_type": "stream",
     "text": [
      "count    9069.000000\n",
      "mean       34.498858\n",
      "std        26.438904\n",
      "min         1.000259\n",
      "25%         7.890442\n",
      "50%        36.196030\n",
      "75%        61.426670\n",
      "max        71.999280\n",
      "Name: Tenure, dtype: float64\n",
      "missing values= 931\n"
     ]
    }
   ],
   "source": [
    "#lots of missing values!\n",
    "print_desc(\"Tenure\")"
   ]
  },
  {
   "cell_type": "code",
   "execution_count": 52,
   "id": "f3e0918c",
   "metadata": {},
   "outputs": [
    {
     "name": "stdout",
     "output_type": "stream",
     "text": [
      "count    10000.000000\n",
      "mean       174.076305\n",
      "std         43.335473\n",
      "min         77.505230\n",
      "25%        141.071078\n",
      "50%        169.915400\n",
      "75%        203.777441\n",
      "max        315.878600\n",
      "Name: MonthlyCharge, dtype: float64\n",
      "missing values= 0\n"
     ]
    }
   ],
   "source": [
    "#looks good\n",
    "print_desc(\"MonthlyCharge\")"
   ]
  },
  {
   "cell_type": "code",
   "execution_count": 53,
   "id": "66483002",
   "metadata": {},
   "outputs": [
    {
     "name": "stdout",
     "output_type": "stream",
     "text": [
      "count    8979.000000\n",
      "mean     3398.842752\n",
      "std      2187.396807\n",
      "min       155.506715\n",
      "25%      1234.110529\n",
      "50%      3382.424000\n",
      "75%      5587.096500\n",
      "max      7158.982000\n",
      "Name: Bandwidth_GB_Year, dtype: float64\n",
      "missing values= 1021\n"
     ]
    }
   ],
   "source": [
    "#lots of missing values here!\n",
    "print_desc(\"Bandwidth_GB_Year\")"
   ]
  },
  {
   "cell_type": "code",
   "execution_count": 54,
   "id": "51eff203",
   "metadata": {},
   "outputs": [
    {
     "name": "stdout",
     "output_type": "stream",
     "text": [
      "count    10000.000000\n",
      "mean         3.490800\n",
      "std          1.037797\n",
      "min          1.000000\n",
      "25%          3.000000\n",
      "50%          3.000000\n",
      "75%          4.000000\n",
      "max          7.000000\n",
      "Name: item1, dtype: float64\n",
      "missing values= 0\n"
     ]
    }
   ],
   "source": [
    "#looks good but change to int\n",
    "print_desc(\"item1\")"
   ]
  },
  {
   "cell_type": "code",
   "execution_count": 55,
   "id": "1049d39d",
   "metadata": {},
   "outputs": [
    {
     "name": "stdout",
     "output_type": "stream",
     "text": [
      "count    10000.000000\n",
      "mean         3.505100\n",
      "std          1.034641\n",
      "min          1.000000\n",
      "25%          3.000000\n",
      "50%          4.000000\n",
      "75%          4.000000\n",
      "max          7.000000\n",
      "Name: item2, dtype: float64\n",
      "missing values= 0\n"
     ]
    }
   ],
   "source": [
    "#looks good but change to int\n",
    "print_desc(\"item2\")"
   ]
  },
  {
   "cell_type": "code",
   "execution_count": 56,
   "id": "4ae4056c",
   "metadata": {},
   "outputs": [
    {
     "name": "stdout",
     "output_type": "stream",
     "text": [
      "count    10000.000000\n",
      "mean         3.487000\n",
      "std          1.027977\n",
      "min          1.000000\n",
      "25%          3.000000\n",
      "50%          3.000000\n",
      "75%          4.000000\n",
      "max          8.000000\n",
      "Name: item3, dtype: float64\n",
      "missing values= 0\n"
     ]
    }
   ],
   "source": [
    "#looks good but change to int\n",
    "print_desc(\"item3\")"
   ]
  },
  {
   "cell_type": "code",
   "execution_count": 57,
   "id": "ad227411",
   "metadata": {},
   "outputs": [
    {
     "name": "stdout",
     "output_type": "stream",
     "text": [
      "count    10000.000000\n",
      "mean         3.497500\n",
      "std          1.025816\n",
      "min          1.000000\n",
      "25%          3.000000\n",
      "50%          3.000000\n",
      "75%          4.000000\n",
      "max          7.000000\n",
      "Name: item4, dtype: float64\n",
      "missing values= 0\n"
     ]
    }
   ],
   "source": [
    "#looks good but change to int\n",
    "print_desc(\"item4\")"
   ]
  },
  {
   "cell_type": "code",
   "execution_count": 58,
   "id": "05651d14",
   "metadata": {},
   "outputs": [
    {
     "name": "stdout",
     "output_type": "stream",
     "text": [
      "count    10000.000000\n",
      "mean         3.492900\n",
      "std          1.024819\n",
      "min          1.000000\n",
      "25%          3.000000\n",
      "50%          3.000000\n",
      "75%          4.000000\n",
      "max          7.000000\n",
      "Name: item5, dtype: float64\n",
      "missing values= 0\n"
     ]
    }
   ],
   "source": [
    "#looks good but change to int\n",
    "print_desc(\"item5\")"
   ]
  },
  {
   "cell_type": "code",
   "execution_count": 59,
   "id": "60f3a2c9",
   "metadata": {},
   "outputs": [
    {
     "name": "stdout",
     "output_type": "stream",
     "text": [
      "count    10000.000000\n",
      "mean         3.497300\n",
      "std          1.033586\n",
      "min          1.000000\n",
      "25%          3.000000\n",
      "50%          3.000000\n",
      "75%          4.000000\n",
      "max          8.000000\n",
      "Name: item6, dtype: float64\n",
      "missing values= 0\n"
     ]
    }
   ],
   "source": [
    "#looks good but change to int\n",
    "print_desc(\"item6\")"
   ]
  },
  {
   "cell_type": "code",
   "execution_count": 60,
   "id": "b7737c2a",
   "metadata": {},
   "outputs": [
    {
     "name": "stdout",
     "output_type": "stream",
     "text": [
      "count    10000.000000\n",
      "mean         3.509500\n",
      "std          1.028502\n",
      "min          1.000000\n",
      "25%          3.000000\n",
      "50%          4.000000\n",
      "75%          4.000000\n",
      "max          7.000000\n",
      "Name: item7, dtype: float64\n",
      "missing values= 0\n"
     ]
    }
   ],
   "source": [
    "#looks good but change to int\n",
    "print_desc(\"item7\")"
   ]
  },
  {
   "cell_type": "code",
   "execution_count": 61,
   "id": "cacf4fd1",
   "metadata": {},
   "outputs": [
    {
     "name": "stdout",
     "output_type": "stream",
     "text": [
      "count    10000.000000\n",
      "mean         3.495600\n",
      "std          1.028633\n",
      "min          1.000000\n",
      "25%          3.000000\n",
      "50%          3.000000\n",
      "75%          4.000000\n",
      "max          8.000000\n",
      "Name: item8, dtype: float64\n",
      "missing values= 0\n"
     ]
    }
   ],
   "source": [
    "#looks good but change to int\n",
    "print_desc(\"item8\")"
   ]
  },
  {
   "cell_type": "markdown",
   "id": "2d4e64da",
   "metadata": {},
   "source": [
    "# CLEAN UP STEPS"
   ]
  },
  {
   "cell_type": "code",
   "execution_count": 76,
   "id": "af4fde64",
   "metadata": {},
   "outputs": [
    {
     "name": "stdout",
     "output_type": "stream",
     "text": [
      "count      7510.000000\n",
      "mean      39936.762226\n",
      "std       28358.469482\n",
      "min         740.660000\n",
      "25%       19285.522500\n",
      "50%       33186.785000\n",
      "75%       53472.395000\n",
      "max      258900.700000\n",
      "Name: Income, dtype: float64\n",
      "missing values= 2490\n"
     ]
    },
    {
     "data": {
      "image/png": "[encoded data removed]",
      "text/plain": [
       "<Figure size 432x288 with 1 Axes>"
      ]
     },
     "metadata": {
      "needs_background": "light"
     },
     "output_type": "display_data"
    },
    {
     "name": "stdout",
     "output_type": "stream",
     "text": [
      "count     10000.000000\n",
      "mean      39936.762226\n",
      "std       24575.114845\n",
      "min         740.660000\n",
      "25%       23660.790000\n",
      "50%       39936.762226\n",
      "75%       45504.192500\n",
      "max      258900.700000\n",
      "Name: Income, dtype: float64\n",
      "missing values= 0\n"
     ]
    },
    {
     "data": {
      "image/png": "[encoded data removed]",
      "text/plain": [
       "<Figure size 432x288 with 1 Axes>"
      ]
     },
     "metadata": {
      "needs_background": "light"
     },
     "output_type": "display_data"
    }
   ],
   "source": [
    "#this works crappy\n",
    "# explicitly require this experimental feature\n",
    "from sklearn.experimental import enable_iterative_imputer  # noqa\n",
    " # now you can import normally from sklearn.impute\n",
    "from sklearn.impute import IterativeImputer\n",
    "print_desc(\"Income\")\n",
    "plot_hist(\"Income\",50)\n",
    "imputer = IterativeImputer()\n",
    "df['Income'] = imputer.fit_transform(df[['Income']])\n",
    "print_desc(\"Income\")\n",
    "plot_hist(\"Income\",50)"
   ]
  },
  {
   "cell_type": "code",
   "execution_count": 77,
   "id": "eab3943d",
   "metadata": {},
   "outputs": [
    {
     "name": "stdout",
     "output_type": "stream",
     "text": [
      "   A   B\n",
      "0  1  15\n",
      "1  2  16\n",
      "2  3  17\n",
      "3  4  18\n"
     ]
    }
   ],
   "source": [
    "import pandas as pd\n",
    "\n",
    "# Sample DataFrame\n",
    "df = pd.DataFrame({'A': [1, 2, 3, 4],\n",
    "                   'B': [5, 6, 7, 8]})\n",
    "\n",
    "# Store column 'B' in a variable\n",
    "column_b = df['B']\n",
    "\n",
    "# Modify the column (e.g., add 10 to each value)\n",
    "column_b += 10\n",
    "\n",
    "# Add the modified column back to the DataFrame\n",
    "df['B'] = column_b\n",
    "\n",
    "print(df)"
   ]
  },
  {
   "cell_type": "code",
   "execution_count": 75,
   "id": "52ae192f",
   "metadata": {},
   "outputs": [],
   "source": [
    "#replace missing values in children with 0\n",
    "#df['Children'] = df['Children'].fillna(0)\n"
   ]
  },
  {
   "cell_type": "code",
   "execution_count": 63,
   "id": "ccfe3b72",
   "metadata": {},
   "outputs": [],
   "source": [
    "# change data type to int because children are whole numbers\n",
    "#df['Children'] = df['Children'].astype(int)\n"
   ]
  },
  {
   "cell_type": "code",
   "execution_count": 64,
   "id": "5880fc1e",
   "metadata": {},
   "outputs": [],
   "source": [
    "#replace missing values and convert to int\n",
    "#df['Age'] = df['Age'].fillna(0)\n",
    "#df['Age'] = df['Age'].astype(int)"
   ]
  },
  {
   "cell_type": "code",
   "execution_count": 65,
   "id": "e057e55d",
   "metadata": {},
   "outputs": [],
   "source": [
    "#replace missing values\n",
    "#df['Income'] = df['Income'].fillna(0)\n"
   ]
  },
  {
   "cell_type": "code",
   "execution_count": 66,
   "id": "f2bc9e35",
   "metadata": {},
   "outputs": [],
   "source": [
    "#replace missing values\n",
    "#df['Techie'] = df['Techie'].fillna(\"No\")"
   ]
  },
  {
   "cell_type": "code",
   "execution_count": 67,
   "id": "f2a74ad2",
   "metadata": {},
   "outputs": [],
   "source": [
    "#df['Phone'] = df['Phone'].fillna(\"No\")"
   ]
  }
 ],
 "metadata": {
  "kernelspec": {
   "display_name": "Python 3 (ipykernel)",
   "language": "python",
   "name": "python3"
  },
  "language_info": {
   "codemirror_mode": {
    "name": "ipython",
    "version": 3
   },
   "file_extension": ".py",
   "mimetype": "text/x-python",
   "name": "python",
   "nbconvert_exporter": "python",
   "pygments_lexer": "ipython3",
   "version": "3.10.12"
  }
 },
 "nbformat": 4,
 "nbformat_minor": 5
}
